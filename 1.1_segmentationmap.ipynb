{
 "cells": [
  {
   "cell_type": "markdown",
   "metadata": {},
   "source": [
    "# manually check all segmentationmap"
   ]
  },
  {
   "cell_type": "code",
   "execution_count": null,
   "metadata": {},
   "outputs": [
    {
     "name": "stdout",
     "output_type": "stream",
     "text": [
      "Using matplotlib backend: qtagg\n"
     ]
    },
    {
     "name": "stderr",
     "output_type": "stream",
     "text": [
      "  0%|          | 0/158 [00:00<?, ?it/s]"
     ]
    }
   ],
   "source": [
    "import  numpy               as     np\n",
    "from    scripts.tools       import *\n",
    "from    scripts.masking     import *\n",
    "from    astropy.table       import Table\n",
    "from    astropy.io          import fits\n",
    "from    tqdm                import tqdm\n",
    "import  os\n",
    "import  matplotlib.pyplot   as     plt\n",
    "import  time\n",
    "%matplotlib auto\n",
    "\n",
    "\n",
    "obj_lis = Table.read('obj_lis_selected.fits')\n",
    "for obj in tqdm(obj_lis):\n",
    "    if obj['manual_select'] == 'selected': continue\n",
    "    path = f\"data_extracted/{file_name(obj,prefix='extracted')}\"\n",
    "    with fits.open(path,mode='update') as hdu:\n",
    "        seg     = find_data('SEG',hdu)[1]\n",
    "        if find_data('SEG_MOD',hdu) != None: seg = find_data('SEG_MOD',hdu)[1]\n",
    "        seg.data = np.where(seg.data == obj['ID'],obj['ID'],0)\n",
    "        line_maps = [find_data('DSCI',hdu)[1],\n",
    "                     find_data('LINE_HA',hdu)[1],\n",
    "                     find_data('LINE_HB',hdu)[1]]\n",
    "        seg_var = run_segmentation_editor(line_maps,seg,obj['ID'])\n",
    "        seg_var.name = 'SEG_MOD'\n",
    "        seg_var.writeto(f\"seg/{file_name(obj,'seg')}\",overwrite=True)\n",
    "        hdu = save_update(seg_var,hdu)\n",
    "        hdu.flush()"
   ]
  },
  {
   "cell_type": "code",
   "execution_count": 5,
   "metadata": {},
   "outputs": [
    {
     "name": "stderr",
     "output_type": "stream",
     "text": [
      "100%|██████████| 158/158 [00:05<00:00, 28.34it/s]\n"
     ]
    }
   ],
   "source": [
    "from    astropy.table       import Table\n",
    "from    astropy.io          import fits\n",
    "from    tqdm                import tqdm\n",
    "from    scripts.tools       import *\n",
    "obj_lis = Table.read('obj_lis_selected.fits')\n",
    "for obj in tqdm(obj_lis):\n",
    "    path = f\"data_extracted/{file_name(obj,prefix='extracted')}\"\n",
    "    with fits.open(path,mode='update') as hdu:\n",
    "        if find_data('SEG_MOD',hdu) != None: \n",
    "            seg = find_data('SEG_MOD',hdu)[1]\n",
    "        else:\n",
    "            seg     = find_data('SEG',hdu)[1]\n",
    "        seg.writeto(f\"seg/{file_name(obj,'seg')}\",overwrite=True)\n"
   ]
  },
  {
   "cell_type": "code",
   "execution_count": 2,
   "metadata": {},
   "outputs": [
    {
     "name": "stderr",
     "output_type": "stream",
     "text": [
      "100%|██████████| 158/158 [00:59<00:00,  2.66it/s]\n"
     ]
    }
   ],
   "source": [
    "from    astropy.table       import Table\n",
    "from    astropy.io          import fits\n",
    "from    tqdm                import tqdm\n",
    "from    scripts.tools       import *\n",
    "obj_lis = Table.read('obj_lis_selected.fits')\n",
    "for obj in tqdm(obj_lis):\n",
    "    path = f\"data_extracted/{file_name(obj,prefix='extracted')}\"\n",
    "    path_seg = f\"seg/{file_name(obj,'seg')}\"\n",
    "    with fits.open(path,mode='update') as hdu:\n",
    "        with fits.open(path_seg) as seg:\n",
    "            seg[1].name = 'SEG_MOD'\n",
    "            save_update(seg[1],hdu)\n",
    "            hdu.flush()"
   ]
  },
  {
   "cell_type": "code",
   "execution_count": null,
   "metadata": {},
   "outputs": [],
   "source": []
  },
  {
   "cell_type": "code",
   "execution_count": null,
   "metadata": {},
   "outputs": [],
   "source": []
  }
 ],
 "metadata": {
  "kernelspec": {
   "display_name": "seg",
   "language": "python",
   "name": "python3"
  },
  "language_info": {
   "codemirror_mode": {
    "name": "ipython",
    "version": 3
   },
   "file_extension": ".py",
   "mimetype": "text/x-python",
   "name": "python",
   "nbconvert_exporter": "python",
   "pygments_lexer": "ipython3",
   "version": "3.9.21"
  }
 },
 "nbformat": 4,
 "nbformat_minor": 2
}
