{
 "cells": [
  {
   "cell_type": "markdown",
   "metadata": {},
   "source": [
    "# Point spread function using Tiny Tim/Galfit"
   ]
  },
  {
   "cell_type": "code",
   "execution_count": 1,
   "metadata": {},
   "outputs": [],
   "source": [
    "import psf.make_psf as tinytim\n",
    "import  numpy               as     np\n",
    "from    astropy.table       import Table\n",
    "from    astropy.io          import fits\n",
    "from    scipy.ndimage       import rotate\n",
    "#from    astropy.cosmology   import Planck18\n",
    "#import  astropy.units       as     u\n",
    "import  matplotlib.pyplot   as     plt\n",
    "import  matplotlib.colors   as     colors  \n",
    "from    matplotlib          import use\n",
    "from    tqdm                import tqdm\n",
    "from concurrent.futures     import ThreadPoolExecutor, as_completed\n",
    "import sys, os\n",
    "from astroquery.mast import Observations\n",
    "from IPython.display import clear_output\n",
    "\n",
    "\n",
    "def file_name(obj,prefix,filetype='fits'):\n",
    "    field = obj['subfield'].lower()\n",
    "    return f\"hlsp_clear_hst_wfc3_{field}-{obj['id']}_g102-g141_v4_{prefix}.{filetype}\"\n",
    "\n",
    "def find_data(name,hdu):\n",
    "    for image in hdu:\n",
    "        if name == image.name:\n",
    "            return image\n",
    "\n",
    "obj_lis = Table.read('obj_lis_selected.fits')\n",
    "\n"
   ]
  },
  {
   "cell_type": "markdown",
   "metadata": {},
   "source": [
    "###  gen imput parameters for tinytim"
   ]
  },
  {
   "cell_type": "code",
   "execution_count": 28,
   "metadata": {},
   "outputs": [
    {
     "name": "stderr",
     "output_type": "stream",
     "text": [
      "Processing: 100%|██████████| 158/158 [01:23<00:00,  1.90it/s]"
     ]
    },
    {
     "name": "stdout",
     "output_type": "stream",
     "text": [
      "total number of obj processed: 158\n",
      "number of failed obj 0\n"
     ]
    },
    {
     "name": "stderr",
     "output_type": "stream",
     "text": [
      "\n"
     ]
    }
   ],
   "source": [
    "def gen_psf_input_param(obj):\n",
    "    #try:\n",
    "    #colnames for param table\n",
    "    col_names = ['identifier', 'rootname',  'pad', 'filter', 'pa' ,'focus', 'coord_ha', 'coord_hb', 'wavelen_ha', 'wavelen_hb','DELTATIM']\n",
    "    beam_path = f\"data_products/{file_name(obj,'beams')}\"\n",
    "    with fits.open(beam_path) as hdu:\n",
    "        rows = []\n",
    "        for image in hdu:\n",
    "            if image.name == 'SCI':\n",
    "                #rootname, pad, shape filter\n",
    "                rootname = image.header['ROOTNAME']\n",
    "                identifier = f\"{obj['subfield']}_{obj['id']}_{image.header['ROOTNAME']}\"\n",
    "                pad        = image.header.get('PAD',0)\n",
    "                shape      = np.array(image.data.shape)\n",
    "                filter     = image.header['filter']\n",
    "\n",
    "                #thumbnail rel. pos\n",
    "                x0_crop = image.header['ORIGINX']\n",
    "                y0_crop = image.header['ORIGINY']\n",
    "\n",
    "                # this part need actual pixel coord for each Ha and Hb wavelen\n",
    "                coord_ha =  np.array((x0_crop,y0_crop)) - pad  #shape/2 +\n",
    "                coord_hb =  np.array((x0_crop,y0_crop)) - pad  #shape/2 \n",
    "\n",
    "                # this still needs focus information\n",
    "                focus = 0\n",
    "                #positon angle\n",
    "                pa = image.header['ORIENTAT']\n",
    "\n",
    "                #generate spectrum for halpha\n",
    "                wavelen_ha = 656.28*(1+obj['z_MAP'])\n",
    "                if wavelen_ha>1700: wavelen_ha = 1700\n",
    "\n",
    "                #generate spectrum for hbeta\n",
    "                wavelen_hb = 486.13*(1+obj['z_MAP'])\n",
    "                if wavelen_hb < 900:wavelen_hb = 900\n",
    "\n",
    "                #integrationtime\n",
    "                deltatim = image.header['DELTATIM']\n",
    "\n",
    "                rows.append((identifier, rootname,  pad, filter, pa ,focus, coord_ha, coord_hb, wavelen_ha, wavelen_hb,deltatim))\n",
    "        \n",
    "        #save tiny tim & drizzle input param table\n",
    "        Table(rows=rows,names=col_names).write(f\"psf/obj_param/{obj['subfield']}_{obj['id']}_psf.fits\",overwrite=True)\n",
    "        return f\"{obj['subfield']}_{obj['id']} processed\"\n",
    "        \n",
    "    #except Exception as e:\n",
    "    #    return f\"!error {obj['subfield']}_{obj['id']}: {e}\"\n",
    "\n",
    "\n",
    "from concurrent.futures     import ThreadPoolExecutor, as_completed\n",
    "def cat_process_gen_psf_input_param(obj_lis,max_threads=1):\n",
    "    #make directories:\n",
    "    os.makedirs('psf/obj_param/',exist_ok=True)\n",
    "    results = []\n",
    "    if max_threads>1:\n",
    "        with ThreadPoolExecutor(max_threads) as executor:                                                       \n",
    "            futures = {executor.submit(gen_psf_input_param,obj):obj for obj in obj_lis}\n",
    "            for future in tqdm(as_completed(futures), total=len(obj_lis), desc=\"Processing\"):\n",
    "                results.append(future.result())\n",
    "        return results\n",
    "    else:\n",
    "        for obj in tqdm(obj_lis):\n",
    "            results.append(gen_psf_input_param(obj))\n",
    "        return results\n",
    "\n",
    "\n",
    "if __name__ == '__main__':\n",
    "    obj_lis = Table.read('obj_lis_selected.fits')\n",
    "    results = cat_process_gen_psf_input_param(obj_lis,max_threads=8)\n",
    "    number = 0\n",
    "    for result in results:\n",
    "        if 'error' in result:\n",
    "            number +=1\n",
    "            print(result)\n",
    "    print('total number of obj processed:',len(results))\n",
    "    print('number of failed obj',number)\n"
   ]
  },
  {
   "cell_type": "markdown",
   "metadata": {},
   "source": [
    "### generate psf by calling tinytim + rotation and crop"
   ]
  },
  {
   "cell_type": "code",
   "execution_count": 37,
   "metadata": {},
   "outputs": [
    {
     "name": "stderr",
     "output_type": "stream",
     "text": [
      " 56%|█████▌    | 88/158 [18:22<59:25, 50.94s/it]  "
     ]
    },
    {
     "name": "stdout",
     "output_type": "stream",
     "text": [
      "     identifier      rootname pad filter         pa        focus  coord_ha   coord_hb      wavelen_ha         wavelen_hb      DELTATIM\n",
      "------------------- --------- --- ------ ----------------- ----- ---------- ---------- ------------------ ------------------ ---------\n",
      "GS4_26698_icoi1mjxq icoi1mjxq 200   G102 73.14400348377133     0 200 .. 207 200 .. 207 1375.9101196358504 1019.1856927813981 50.000412\n"
     ]
    },
    {
     "name": "stderr",
     "output_type": "stream",
     "text": []
    },
    {
     "name": "stdout",
     "output_type": "stream",
     "text": [
      "     identifier      rootname pad filter         pa        focus  coord_ha   coord_hb      wavelen_ha         wavelen_hb      DELTATIM\n",
      "------------------- --------- --- ------ ----------------- ----- ---------- ---------- ------------------ ------------------ ---------\n",
      "GS4_26698_icoi1mk0q icoi1mk0q 200   G102 73.14400347979436     0 200 .. 207 200 .. 207 1375.9101196358504 1019.1856927813981 50.000412\n"
     ]
    },
    {
     "name": "stderr",
     "output_type": "stream",
     "text": []
    },
    {
     "name": "stdout",
     "output_type": "stream",
     "text": [
      "     identifier      rootname pad filter         pa        focus  coord_ha   coord_hb      wavelen_ha         wavelen_hb      DELTATIM\n",
      "------------------- --------- --- ------ ----------------- ----- ---------- ---------- ------------------ ------------------ ---------\n",
      "GS4_26698_icoi1mk2q icoi1mk2q 200   G102 73.14405552368852     0 198 .. 209 198 .. 209 1375.9101196358504 1019.1856927813981 50.000412\n"
     ]
    },
    {
     "name": "stderr",
     "output_type": "stream",
     "text": []
    },
    {
     "name": "stdout",
     "output_type": "stream",
     "text": [
      "     identifier      rootname pad filter        pa        focus  coord_ha   coord_hb      wavelen_ha         wavelen_hb      DELTATIM\n",
      "------------------- --------- --- ------ ---------------- ----- ---------- ---------- ------------------ ------------------ ---------\n",
      "GS4_26698_icoi1mk6q icoi1mk6q 200   G102 73.1440555302776     0 198 .. 209 198 .. 209 1375.9101196358504 1019.1856927813981 50.000412\n"
     ]
    },
    {
     "name": "stderr",
     "output_type": "stream",
     "text": []
    },
    {
     "name": "stdout",
     "output_type": "stream",
     "text": [
      "     identifier      rootname pad filter         pa        focus  coord_ha   coord_hb      wavelen_ha         wavelen_hb      DELTATIM\n",
      "------------------- --------- --- ------ ----------------- ----- ---------- ---------- ------------------ ------------------ ---------\n",
      "GS4_26698_icoi1mkcq icoi1mkcq 200   G102 73.14368620815931     0 175 .. 179 175 .. 179 1375.9101196358504 1019.1856927813981 50.000412\n"
     ]
    },
    {
     "name": "stderr",
     "output_type": "stream",
     "text": []
    },
    {
     "name": "stdout",
     "output_type": "stream",
     "text": [
      "     identifier      rootname pad filter         pa        focus  coord_ha   coord_hb      wavelen_ha         wavelen_hb      DELTATIM\n",
      "------------------- --------- --- ------ ----------------- ----- ---------- ---------- ------------------ ------------------ ---------\n",
      "GS4_26698_icoi1mkfq icoi1mkfq 200   G102 73.14368622874566     0 175 .. 179 175 .. 179 1375.9101196358504 1019.1856927813981 50.000412\n"
     ]
    },
    {
     "name": "stderr",
     "output_type": "stream",
     "text": []
    },
    {
     "name": "stdout",
     "output_type": "stream",
     "text": [
      "     identifier      rootname pad filter        pa        focus  coord_ha   coord_hb      wavelen_ha         wavelen_hb      DELTATIM\n",
      "------------------- --------- --- ------ ---------------- ----- ---------- ---------- ------------------ ------------------ ---------\n",
      "GS4_26698_icoi1mkhq icoi1mkhq 200   G102 73.1437443852255     0 174 .. 182 174 .. 182 1375.9101196358504 1019.1856927813981 50.000412\n"
     ]
    },
    {
     "name": "stderr",
     "output_type": "stream",
     "text": []
    },
    {
     "name": "stdout",
     "output_type": "stream",
     "text": [
      "     identifier      rootname pad filter         pa        focus  coord_ha   coord_hb      wavelen_ha         wavelen_hb      DELTATIM\n",
      "------------------- --------- --- ------ ----------------- ----- ---------- ---------- ------------------ ------------------ ---------\n",
      "GS4_26698_icoi1mklq icoi1mklq 200   G102 73.14374436379828     0 174 .. 182 174 .. 182 1375.9101196358504 1019.1856927813981 50.000412\n"
     ]
    },
    {
     "name": "stderr",
     "output_type": "stream",
     "text": []
    },
    {
     "name": "stdout",
     "output_type": "stream",
     "text": [
      "     identifier      rootname pad filter         pa        focus  coord_ha   coord_hb      wavelen_ha         wavelen_hb      DELTATIM\n",
      "------------------- --------- --- ------ ----------------- ----- ---------- ---------- ------------------ ------------------ ---------\n",
      "GS4_26698_icoi1ng2q icoi1ng2q 200   G102 73.14607193045342     0 200 .. 205 200 .. 205 1375.9101196358504 1019.1856927813981 50.000412\n"
     ]
    },
    {
     "name": "stderr",
     "output_type": "stream",
     "text": []
    },
    {
     "name": "stdout",
     "output_type": "stream",
     "text": [
      "     identifier      rootname pad filter        pa        focus  coord_ha   coord_hb      wavelen_ha         wavelen_hb      DELTATIM\n",
      "------------------- --------- --- ------ ---------------- ----- ---------- ---------- ------------------ ------------------ ---------\n",
      "GS4_26698_icoi1ng5q icoi1ng5q 200   G102 73.1460718940754     0 200 .. 205 200 .. 205 1375.9101196358504 1019.1856927813981 50.000412\n"
     ]
    },
    {
     "name": "stderr",
     "output_type": "stream",
     "text": []
    },
    {
     "name": "stdout",
     "output_type": "stream",
     "text": [
      "     identifier      rootname pad filter         pa        focus  coord_ha   coord_hb      wavelen_ha         wavelen_hb      DELTATIM\n",
      "------------------- --------- --- ------ ----------------- ----- ---------- ---------- ------------------ ------------------ ---------\n",
      "GS4_26698_icoi1ng7q icoi1ng7q 200   G102 73.14613091585872     0 199 .. 207 199 .. 207 1375.9101196358504 1019.1856927813981 50.000412\n"
     ]
    },
    {
     "name": "stderr",
     "output_type": "stream",
     "text": []
    },
    {
     "name": "stdout",
     "output_type": "stream",
     "text": [
      "     identifier      rootname pad filter         pa        focus  coord_ha   coord_hb      wavelen_ha         wavelen_hb      DELTATIM\n",
      "------------------- --------- --- ------ ----------------- ----- ---------- ---------- ------------------ ------------------ ---------\n",
      "GS4_26698_icoi1ngbq icoi1ngbq 200   G102 73.14613090786966     0 199 .. 207 199 .. 207 1375.9101196358504 1019.1856927813981 50.000412\n"
     ]
    },
    {
     "name": "stderr",
     "output_type": "stream",
     "text": []
    },
    {
     "name": "stdout",
     "output_type": "stream",
     "text": [
      "     identifier      rootname pad filter         pa        focus  coord_ha   coord_hb      wavelen_ha         wavelen_hb      DELTATIM\n",
      "------------------- --------- --- ------ ----------------- ----- ---------- ---------- ------------------ ------------------ ---------\n",
      "GS4_26698_icoi1ngpq icoi1ngpq 200   G102 73.14576132829849     0 175 .. 177 175 .. 177 1375.9101196358504 1019.1856927813981 50.000412\n"
     ]
    },
    {
     "name": "stderr",
     "output_type": "stream",
     "text": []
    },
    {
     "name": "stdout",
     "output_type": "stream",
     "text": [
      "     identifier      rootname pad filter         pa        focus  coord_ha   coord_hb      wavelen_ha         wavelen_hb      DELTATIM\n",
      "------------------- --------- --- ------ ----------------- ----- ---------- ---------- ------------------ ------------------ ---------\n",
      "GS4_26698_icoi1ngsq icoi1ngsq 200   G102 73.14576134627688     0 175 .. 177 175 .. 177 1375.9101196358504 1019.1856927813981 50.000412\n"
     ]
    },
    {
     "name": "stderr",
     "output_type": "stream",
     "text": []
    },
    {
     "name": "stdout",
     "output_type": "stream",
     "text": [
      "     identifier      rootname pad filter        pa        focus  coord_ha   coord_hb      wavelen_ha         wavelen_hb      DELTATIM\n",
      "------------------- --------- --- ------ ---------------- ----- ---------- ---------- ------------------ ------------------ ---------\n",
      "GS4_26698_icoi1nguq icoi1nguq 200   G102 73.1458097337257     0 174 .. 180 174 .. 180 1375.9101196358504 1019.1856927813981 50.000412\n"
     ]
    },
    {
     "name": "stderr",
     "output_type": "stream",
     "text": []
    },
    {
     "name": "stdout",
     "output_type": "stream",
     "text": [
      "     identifier      rootname pad filter         pa        focus  coord_ha   coord_hb      wavelen_ha         wavelen_hb      DELTATIM\n",
      "------------------- --------- --- ------ ----------------- ----- ---------- ---------- ------------------ ------------------ ---------\n",
      "GS4_26698_icoi1ngyq icoi1ngyq 200   G102 73.14580974766758     0 174 .. 180 174 .. 180 1375.9101196358504 1019.1856927813981 50.000412\n"
     ]
    },
    {
     "name": "stderr",
     "output_type": "stream",
     "text": []
    },
    {
     "name": "stdout",
     "output_type": "stream",
     "text": [
      "     identifier      rootname pad filter         pa        focus  coord_ha   coord_hb      wavelen_ha         wavelen_hb      DELTATIM\n",
      "------------------- --------- --- ------ ----------------- ----- ---------- ---------- ------------------ ------------------ ---------\n",
      "GS4_26698_icoi1ohkq icoi1ohkq 200   G102 73.14058152191332     0 199 .. 205 199 .. 205 1375.9101196358504 1019.1856927813981 50.000412\n"
     ]
    },
    {
     "name": "stderr",
     "output_type": "stream",
     "text": []
    },
    {
     "name": "stdout",
     "output_type": "stream",
     "text": [
      "     identifier      rootname pad filter         pa        focus  coord_ha   coord_hb      wavelen_ha         wavelen_hb      DELTATIM\n",
      "------------------- --------- --- ------ ----------------- ----- ---------- ---------- ------------------ ------------------ ---------\n",
      "GS4_26698_icoi1ohnq icoi1ohnq 200   G102 73.14058153960406     0 199 .. 205 199 .. 205 1375.9101196358504 1019.1856927813981 50.000412\n"
     ]
    },
    {
     "name": "stderr",
     "output_type": "stream",
     "text": []
    },
    {
     "name": "stdout",
     "output_type": "stream",
     "text": [
      "     identifier      rootname pad filter         pa        focus  coord_ha   coord_hb      wavelen_ha         wavelen_hb      DELTATIM\n",
      "------------------- --------- --- ------ ----------------- ----- ---------- ---------- ------------------ ------------------ ---------\n",
      "GS4_26698_icoi1ohpq icoi1ohpq 200   G102 73.14063153293296     0 197 .. 207 197 .. 207 1375.9101196358504 1019.1856927813981 50.000412\n"
     ]
    },
    {
     "name": "stderr",
     "output_type": "stream",
     "text": []
    },
    {
     "name": "stdout",
     "output_type": "stream",
     "text": [
      "     identifier      rootname pad filter         pa        focus  coord_ha   coord_hb      wavelen_ha         wavelen_hb      DELTATIM\n",
      "------------------- --------- --- ------ ----------------- ----- ---------- ---------- ------------------ ------------------ ---------\n",
      "GS4_26698_icoi1ohtq icoi1ohtq 200   G102 73.14063152360497     0 197 .. 207 197 .. 207 1375.9101196358504 1019.1856927813981 50.000412\n"
     ]
    },
    {
     "name": "stderr",
     "output_type": "stream",
     "text": []
    },
    {
     "name": "stdout",
     "output_type": "stream",
     "text": [
      "     identifier      rootname pad filter         pa        focus  coord_ha   coord_hb      wavelen_ha         wavelen_hb      DELTATIM\n",
      "------------------- --------- --- ------ ----------------- ----- ---------- ---------- ------------------ ------------------ ---------\n",
      "GS4_26698_icoi1ohzq icoi1ohzq 200   G102 73.14027117807859     0 174 .. 177 174 .. 177 1375.9101196358504 1019.1856927813981 50.000412\n"
     ]
    },
    {
     "name": "stderr",
     "output_type": "stream",
     "text": []
    },
    {
     "name": "stdout",
     "output_type": "stream",
     "text": [
      "     identifier      rootname pad filter         pa        focus  coord_ha   coord_hb      wavelen_ha         wavelen_hb      DELTATIM\n",
      "------------------- --------- --- ------ ----------------- ----- ---------- ---------- ------------------ ------------------ ---------\n",
      "GS4_26698_icoi1oi2q icoi1oi2q 200   G102 73.14027120574251     0 174 .. 177 174 .. 177 1375.9101196358504 1019.1856927813981 50.000412\n"
     ]
    },
    {
     "name": "stderr",
     "output_type": "stream",
     "text": []
    },
    {
     "name": "stdout",
     "output_type": "stream",
     "text": [
      "     identifier      rootname pad filter         pa        focus  coord_ha   coord_hb      wavelen_ha         wavelen_hb      DELTATIM\n",
      "------------------- --------- --- ------ ----------------- ----- ---------- ---------- ------------------ ------------------ ---------\n",
      "GS4_26698_icoi1oi4q icoi1oi4q 200   G102 73.14032240806853     0 172 .. 180 172 .. 180 1375.9101196358504 1019.1856927813981 50.000412\n"
     ]
    },
    {
     "name": "stderr",
     "output_type": "stream",
     "text": []
    },
    {
     "name": "stdout",
     "output_type": "stream",
     "text": [
      "     identifier      rootname pad filter         pa        focus  coord_ha   coord_hb      wavelen_ha         wavelen_hb      DELTATIM\n",
      "------------------- --------- --- ------ ----------------- ----- ---------- ---------- ------------------ ------------------ ---------\n",
      "GS4_26698_icoi1oi8q icoi1oi8q 200   G102 73.14032243374238     0 172 .. 180 172 .. 180 1375.9101196358504 1019.1856927813981 50.000412\n"
     ]
    },
    {
     "name": "stderr",
     "output_type": "stream",
     "text": []
    },
    {
     "name": "stdout",
     "output_type": "stream",
     "text": [
      "     identifier      rootname pad filter         pa        focus  coord_ha   coord_hb      wavelen_ha         wavelen_hb      DELTATIM\n",
      "------------------- --------- --- ------ ----------------- ----- ---------- ---------- ------------------ ------------------ ---------\n",
      "GS4_26698_icoi1pigq icoi1pigq 200   G102 73.14241312919714     0 199 .. 207 199 .. 207 1375.9101196358504 1019.1856927813981 50.000412\n"
     ]
    },
    {
     "name": "stderr",
     "output_type": "stream",
     "text": []
    },
    {
     "name": "stdout",
     "output_type": "stream",
     "text": [
      "     identifier      rootname pad filter         pa        focus  coord_ha   coord_hb      wavelen_ha         wavelen_hb      DELTATIM\n",
      "------------------- --------- --- ------ ----------------- ----- ---------- ---------- ------------------ ------------------ ---------\n",
      "GS4_26698_icoi1pijq icoi1pijq 200   G102 73.14241310167755     0 199 .. 207 199 .. 207 1375.9101196358504 1019.1856927813981 50.000412\n"
     ]
    },
    {
     "name": "stderr",
     "output_type": "stream",
     "text": []
    },
    {
     "name": "stdout",
     "output_type": "stream",
     "text": [
      "     identifier      rootname pad filter         pa        focus  coord_ha   coord_hb      wavelen_ha         wavelen_hb      DELTATIM\n",
      "------------------- --------- --- ------ ----------------- ----- ---------- ---------- ------------------ ------------------ ---------\n",
      "GS4_26698_icoi1pilq icoi1pilq 200   G102 73.14246215402285     0 197 .. 209 197 .. 209 1375.9101196358504 1019.1856927813981 50.000412\n"
     ]
    },
    {
     "name": "stderr",
     "output_type": "stream",
     "text": []
    },
    {
     "name": "stdout",
     "output_type": "stream",
     "text": [
      "     identifier      rootname pad filter         pa        focus  coord_ha   coord_hb      wavelen_ha         wavelen_hb      DELTATIM\n",
      "------------------- --------- --- ------ ----------------- ----- ---------- ---------- ------------------ ------------------ ---------\n",
      "GS4_26698_icoi1pipq icoi1pipq 200   G102 73.14246214090359     0 197 .. 209 197 .. 209 1375.9101196358504 1019.1856927813981 50.000412\n"
     ]
    },
    {
     "name": "stderr",
     "output_type": "stream",
     "text": []
    },
    {
     "name": "stdout",
     "output_type": "stream",
     "text": [
      "     identifier      rootname pad filter         pa        focus  coord_ha   coord_hb      wavelen_ha         wavelen_hb      DELTATIM\n",
      "------------------- --------- --- ------ ----------------- ----- ---------- ---------- ------------------ ------------------ ---------\n",
      "GS4_26698_icoi1pivq icoi1pivq 200   G102 73.14209243826318     0 174 .. 179 174 .. 179 1375.9101196358504 1019.1856927813981 50.000412\n"
     ]
    },
    {
     "name": "stderr",
     "output_type": "stream",
     "text": []
    },
    {
     "name": "stdout",
     "output_type": "stream",
     "text": [
      "     identifier      rootname pad filter         pa        focus  coord_ha   coord_hb      wavelen_ha         wavelen_hb      DELTATIM\n",
      "------------------- --------- --- ------ ----------------- ----- ---------- ---------- ------------------ ------------------ ---------\n",
      "GS4_26698_icoi1piyq icoi1piyq 200   G102 73.14209242462682     0 174 .. 179 174 .. 179 1375.9101196358504 1019.1856927813981 50.000412\n"
     ]
    },
    {
     "name": "stderr",
     "output_type": "stream",
     "text": []
    },
    {
     "name": "stdout",
     "output_type": "stream",
     "text": [
      "     identifier      rootname pad filter         pa        focus  coord_ha   coord_hb      wavelen_ha         wavelen_hb      DELTATIM\n",
      "------------------- --------- --- ------ ----------------- ----- ---------- ---------- ------------------ ------------------ ---------\n",
      "GS4_26698_icoi1pj0q icoi1pj0q 200   G102 73.14215200955667     0 172 .. 182 172 .. 182 1375.9101196358504 1019.1856927813981 50.000412\n"
     ]
    },
    {
     "name": "stderr",
     "output_type": "stream",
     "text": []
    },
    {
     "name": "stdout",
     "output_type": "stream",
     "text": [
      "     identifier      rootname pad filter         pa        focus  coord_ha   coord_hb      wavelen_ha         wavelen_hb      DELTATIM\n",
      "------------------- --------- --- ------ ----------------- ----- ---------- ---------- ------------------ ------------------ ---------\n",
      "GS4_26698_icoi1pj4q icoi1pj4q 200   G102 73.14215197776817     0 172 .. 182 172 .. 182 1375.9101196358504 1019.1856927813981 50.000412\n"
     ]
    },
    {
     "name": "stderr",
     "output_type": "stream",
     "text": []
    },
    {
     "name": "stdout",
     "output_type": "stream",
     "text": [
      "     identifier      rootname pad filter         pa        focus  coord_ha   coord_hb      wavelen_ha         wavelen_hb      DELTATIM\n",
      "------------------- --------- --- ------ ----------------- ----- ---------- ---------- ------------------ ------------------ ---------\n",
      "GS4_26698_icoi1iruq icoi1iruq 200   G102 82.13603654081317     0 170 .. 235 170 .. 235 1375.9101196358504 1019.1856927813981 50.000412\n"
     ]
    },
    {
     "name": "stderr",
     "output_type": "stream",
     "text": []
    },
    {
     "name": "stdout",
     "output_type": "stream",
     "text": [
      "     identifier      rootname pad filter        pa        focus  coord_ha   coord_hb      wavelen_ha         wavelen_hb      DELTATIM\n",
      "------------------- --------- --- ------ ---------------- ----- ---------- ---------- ------------------ ------------------ ---------\n",
      "GS4_26698_icoi1irwq icoi1irwq 200   G102 82.1360365098867     0 170 .. 235 170 .. 235 1375.9101196358504 1019.1856927813981 50.000412\n"
     ]
    },
    {
     "name": "stderr",
     "output_type": "stream",
     "text": []
    },
    {
     "name": "stdout",
     "output_type": "stream",
     "text": [
      "     identifier      rootname pad filter         pa        focus  coord_ha   coord_hb      wavelen_ha         wavelen_hb      DELTATIM\n",
      "------------------- --------- --- ------ ----------------- ----- ---------- ---------- ------------------ ------------------ ---------\n",
      "GS4_26698_icoi1iryq icoi1iryq 200   G102 82.13609048571554     0 168 .. 238 168 .. 238 1375.9101196358504 1019.1856927813981 50.000412\n"
     ]
    },
    {
     "name": "stderr",
     "output_type": "stream",
     "text": []
    },
    {
     "name": "stdout",
     "output_type": "stream",
     "text": [
      "     identifier      rootname pad filter         pa        focus  coord_ha   coord_hb      wavelen_ha         wavelen_hb      DELTATIM\n",
      "------------------- --------- --- ------ ----------------- ----- ---------- ---------- ------------------ ------------------ ---------\n",
      "GS4_26698_icoi1is2q icoi1is2q 200   G102 82.13609052103207     0 168 .. 238 168 .. 238 1375.9101196358504 1019.1856927813981 50.000412\n"
     ]
    },
    {
     "name": "stderr",
     "output_type": "stream",
     "text": []
    },
    {
     "name": "stdout",
     "output_type": "stream",
     "text": [
      "     identifier      rootname pad filter         pa        focus  coord_ha   coord_hb      wavelen_ha         wavelen_hb      DELTATIM\n",
      "------------------- --------- --- ------ ----------------- ----- ---------- ---------- ------------------ ------------------ ---------\n",
      "GS4_26698_icoi1is8q icoi1is8q 200   G102 82.13562838286097     0 145 .. 208 145 .. 208 1375.9101196358504 1019.1856927813981 50.000412\n"
     ]
    },
    {
     "name": "stderr",
     "output_type": "stream",
     "text": []
    },
    {
     "name": "stdout",
     "output_type": "stream",
     "text": [
      "     identifier      rootname pad filter         pa        focus  coord_ha   coord_hb      wavelen_ha         wavelen_hb      DELTATIM\n",
      "------------------- --------- --- ------ ----------------- ----- ---------- ---------- ------------------ ------------------ ---------\n",
      "GS4_26698_icoi1isbq icoi1isbq 200   G102 82.13562836945063     0 145 .. 208 145 .. 208 1375.9101196358504 1019.1856927813981 50.000412\n"
     ]
    },
    {
     "name": "stderr",
     "output_type": "stream",
     "text": []
    },
    {
     "name": "stdout",
     "output_type": "stream",
     "text": [
      "     identifier      rootname pad filter         pa        focus  coord_ha   coord_hb      wavelen_ha         wavelen_hb      DELTATIM\n",
      "------------------- --------- --- ------ ----------------- ----- ---------- ---------- ------------------ ------------------ ---------\n",
      "GS4_26698_icoi1isdq icoi1isdq 200   G102 82.13567923556478     0 144 .. 210 144 .. 210 1375.9101196358504 1019.1856927813981 50.000412\n"
     ]
    },
    {
     "name": "stderr",
     "output_type": "stream",
     "text": []
    },
    {
     "name": "stdout",
     "output_type": "stream",
     "text": [
      "     identifier      rootname pad filter         pa        focus  coord_ha   coord_hb      wavelen_ha         wavelen_hb      DELTATIM\n",
      "------------------- --------- --- ------ ----------------- ----- ---------- ---------- ------------------ ------------------ ---------\n",
      "GS4_26698_icoi1ishq icoi1ishq 200   G102 82.13567922052137     0 144 .. 210 144 .. 210 1375.9101196358504 1019.1856927813981 50.000412\n"
     ]
    },
    {
     "name": "stderr",
     "output_type": "stream",
     "text": []
    },
    {
     "name": "stdout",
     "output_type": "stream",
     "text": [
      "     identifier      rootname pad filter         pa        focus  coord_ha   coord_hb      wavelen_ha         wavelen_hb      DELTATIM\n",
      "------------------- --------- --- ------ ----------------- ----- ---------- ---------- ------------------ ------------------ ---------\n",
      "GS4_26698_icoi1jg1q icoi1jg1q 200   G102 82.13501287784169     0 170 .. 233 170 .. 233 1375.9101196358504 1019.1856927813981 50.000412\n"
     ]
    },
    {
     "name": "stderr",
     "output_type": "stream",
     "text": []
    },
    {
     "name": "stdout",
     "output_type": "stream",
     "text": [
      "     identifier      rootname pad filter         pa        focus  coord_ha   coord_hb      wavelen_ha         wavelen_hb      DELTATIM\n",
      "------------------- --------- --- ------ ----------------- ----- ---------- ---------- ------------------ ------------------ ---------\n",
      "GS4_26698_icoi1jg3q icoi1jg3q 200   G102 82.13501288067313     0 170 .. 233 170 .. 233 1375.9101196358504 1019.1856927813981 50.000412\n"
     ]
    },
    {
     "name": "stderr",
     "output_type": "stream",
     "text": []
    },
    {
     "name": "stdout",
     "output_type": "stream",
     "text": [
      "     identifier      rootname pad filter         pa        focus  coord_ha   coord_hb      wavelen_ha         wavelen_hb      DELTATIM\n",
      "------------------- --------- --- ------ ----------------- ----- ---------- ---------- ------------------ ------------------ ---------\n",
      "GS4_26698_icoi1jg5q icoi1jg5q 200   G102 82.13506185907234     0 168 .. 236 168 .. 236 1375.9101196358504 1019.1856927813981 50.000412\n"
     ]
    },
    {
     "name": "stderr",
     "output_type": "stream",
     "text": []
    },
    {
     "name": "stdout",
     "output_type": "stream",
     "text": [
      "     identifier      rootname pad filter         pa        focus  coord_ha   coord_hb      wavelen_ha         wavelen_hb      DELTATIM\n",
      "------------------- --------- --- ------ ----------------- ----- ---------- ---------- ------------------ ------------------ ---------\n",
      "GS4_26698_icoi1jg9q icoi1jg9q 200   G102 82.13506184573629     0 168 .. 236 168 .. 236 1375.9101196358504 1019.1856927813981 50.000412\n"
     ]
    },
    {
     "name": "stderr",
     "output_type": "stream",
     "text": []
    },
    {
     "name": "stdout",
     "output_type": "stream",
     "text": [
      "     identifier      rootname pad filter         pa        focus  coord_ha   coord_hb      wavelen_ha         wavelen_hb      DELTATIM\n",
      "------------------- --------- --- ------ ----------------- ----- ---------- ---------- ------------------ ------------------ ---------\n",
      "GS4_26698_icoi1jgfq icoi1jgfq 200   G102 82.13460077401824     0 145 .. 206 145 .. 206 1375.9101196358504 1019.1856927813981 50.000412\n"
     ]
    },
    {
     "name": "stderr",
     "output_type": "stream",
     "text": []
    },
    {
     "name": "stdout",
     "output_type": "stream",
     "text": [
      "     identifier      rootname pad filter         pa        focus  coord_ha   coord_hb      wavelen_ha         wavelen_hb      DELTATIM\n",
      "------------------- --------- --- ------ ----------------- ----- ---------- ---------- ------------------ ------------------ ---------\n",
      "GS4_26698_icoi1jgiq icoi1jgiq 200   G102 82.13460078483405     0 145 .. 206 145 .. 206 1375.9101196358504 1019.1856927813981 50.000412\n"
     ]
    },
    {
     "name": "stderr",
     "output_type": "stream",
     "text": []
    },
    {
     "name": "stdout",
     "output_type": "stream",
     "text": [
      "     identifier      rootname pad filter         pa        focus  coord_ha   coord_hb      wavelen_ha         wavelen_hb      DELTATIM\n",
      "------------------- --------- --- ------ ----------------- ----- ---------- ---------- ------------------ ------------------ ---------\n",
      "GS4_26698_icoi1jgkq icoi1jgkq 200   G102 82.13465122274724     0 144 .. 209 144 .. 209 1375.9101196358504 1019.1856927813981 50.000412\n"
     ]
    },
    {
     "name": "stderr",
     "output_type": "stream",
     "text": []
    },
    {
     "name": "stdout",
     "output_type": "stream",
     "text": [
      "     identifier      rootname pad filter        pa       focus  coord_ha   coord_hb      wavelen_ha         wavelen_hb      DELTATIM\n",
      "------------------- --------- --- ------ --------------- ----- ---------- ---------- ------------------ ------------------ ---------\n",
      "GS4_26698_icoi1jgoq icoi1jgoq 200   G102 82.134651179757     0 144 .. 209 144 .. 209 1375.9101196358504 1019.1856927813981 50.000412\n"
     ]
    },
    {
     "name": "stderr",
     "output_type": "stream",
     "text": []
    },
    {
     "name": "stdout",
     "output_type": "stream",
     "text": [
      "     identifier      rootname pad filter         pa        focus  coord_ha   coord_hb      wavelen_ha         wavelen_hb      DELTATIM\n",
      "------------------- --------- --- ------ ----------------- ----- ---------- ---------- ------------------ ------------------ ---------\n",
      "GS4_26698_icoi1keuq icoi1keuq 200   G102 82.13591843351257     0 168 .. 233 168 .. 233 1375.9101196358504 1019.1856927813981 50.000412\n"
     ]
    },
    {
     "name": "stderr",
     "output_type": "stream",
     "text": []
    },
    {
     "name": "stdout",
     "output_type": "stream",
     "text": [
      "     identifier      rootname pad filter         pa        focus  coord_ha   coord_hb      wavelen_ha         wavelen_hb      DELTATIM\n",
      "------------------- --------- --- ------ ----------------- ----- ---------- ---------- ------------------ ------------------ ---------\n",
      "GS4_26698_icoi1kewq icoi1kewq 200   G102 82.13591842078034     0 168 .. 233 168 .. 233 1375.9101196358504 1019.1856927813981 50.000412\n"
     ]
    },
    {
     "name": "stderr",
     "output_type": "stream",
     "text": []
    },
    {
     "name": "stdout",
     "output_type": "stream",
     "text": [
      "     identifier      rootname pad filter         pa        focus  coord_ha   coord_hb      wavelen_ha         wavelen_hb      DELTATIM\n",
      "------------------- --------- --- ------ ----------------- ----- ---------- ---------- ------------------ ------------------ ---------\n",
      "GS4_26698_icoi1keyq icoi1keyq 200   G102 82.13596841452832     0 167 .. 236 167 .. 236 1375.9101196358504 1019.1856927813981 50.000412\n"
     ]
    },
    {
     "name": "stderr",
     "output_type": "stream",
     "text": []
    },
    {
     "name": "stdout",
     "output_type": "stream",
     "text": [
      "     identifier      rootname pad filter         pa        focus  coord_ha   coord_hb      wavelen_ha         wavelen_hb      DELTATIM\n",
      "------------------- --------- --- ------ ----------------- ----- ---------- ---------- ------------------ ------------------ ---------\n",
      "GS4_26698_icoi1kf2q icoi1kf2q 200   G102 82.13596842722873     0 167 .. 236 167 .. 236 1375.9101196358504 1019.1856927813981 50.000412\n"
     ]
    },
    {
     "name": "stderr",
     "output_type": "stream",
     "text": []
    },
    {
     "name": "stdout",
     "output_type": "stream",
     "text": [
      "     identifier      rootname pad filter         pa        focus  coord_ha   coord_hb      wavelen_ha         wavelen_hb      DELTATIM\n",
      "------------------- --------- --- ------ ----------------- ----- ---------- ---------- ------------------ ------------------ ---------\n",
      "GS4_26698_icoi1kf8q icoi1kf8q 200   G102 82.13551036114497     0 144 .. 206 144 .. 206 1375.9101196358504 1019.1856927813981 50.000412\n"
     ]
    },
    {
     "name": "stderr",
     "output_type": "stream",
     "text": []
    },
    {
     "name": "stdout",
     "output_type": "stream",
     "text": [
      "     identifier      rootname pad filter         pa        focus  coord_ha   coord_hb      wavelen_ha         wavelen_hb      DELTATIM\n",
      "------------------- --------- --- ------ ----------------- ----- ---------- ---------- ------------------ ------------------ ---------\n",
      "GS4_26698_icoi1kfbq icoi1kfbq 200   G102 82.13551033287314     0 144 .. 206 144 .. 206 1375.9101196358504 1019.1856927813981 50.000412\n"
     ]
    },
    {
     "name": "stderr",
     "output_type": "stream",
     "text": []
    },
    {
     "name": "stdout",
     "output_type": "stream",
     "text": [
      "     identifier      rootname pad filter         pa        focus  coord_ha   coord_hb      wavelen_ha         wavelen_hb      DELTATIM\n",
      "------------------- --------- --- ------ ----------------- ----- ---------- ---------- ------------------ ------------------ ---------\n",
      "GS4_26698_icoi1kfdq icoi1kfdq 200   G102 82.13556073607997     0 142 .. 209 142 .. 209 1375.9101196358504 1019.1856927813981 50.000412\n"
     ]
    },
    {
     "name": "stderr",
     "output_type": "stream",
     "text": []
    },
    {
     "name": "stdout",
     "output_type": "stream",
     "text": [
      "     identifier      rootname pad filter         pa        focus  coord_ha   coord_hb      wavelen_ha         wavelen_hb      DELTATIM\n",
      "------------------- --------- --- ------ ----------------- ----- ---------- ---------- ------------------ ------------------ ---------\n",
      "GS4_26698_icoi1kfhq icoi1kfhq 200   G102 82.13556073971812     0 142 .. 209 142 .. 209 1375.9101196358504 1019.1856927813981 50.000412\n"
     ]
    },
    {
     "name": "stderr",
     "output_type": "stream",
     "text": []
    },
    {
     "name": "stdout",
     "output_type": "stream",
     "text": [
      "     identifier      rootname pad filter         pa        focus  coord_ha   coord_hb      wavelen_ha         wavelen_hb      DELTATIM\n",
      "------------------- --------- --- ------ ----------------- ----- ---------- ---------- ------------------ ------------------ ---------\n",
      "GS4_26698_icoi1lfpq icoi1lfpq 200   G102 82.13944937561803     0 168 .. 235 168 .. 235 1375.9101196358504 1019.1856927813981 50.000412\n"
     ]
    },
    {
     "name": "stderr",
     "output_type": "stream",
     "text": []
    },
    {
     "name": "stdout",
     "output_type": "stream",
     "text": [
      "     identifier      rootname pad filter         pa        focus  coord_ha   coord_hb      wavelen_ha         wavelen_hb      DELTATIM\n",
      "------------------- --------- --- ------ ----------------- ----- ---------- ---------- ------------------ ------------------ ---------\n",
      "GS4_26698_icoi1lfrq icoi1lfrq 200   G102 82.13944935157191     0 168 .. 235 168 .. 235 1375.9101196358504 1019.1856927813981 50.000412\n"
     ]
    },
    {
     "name": "stderr",
     "output_type": "stream",
     "text": []
    },
    {
     "name": "stdout",
     "output_type": "stream",
     "text": [
      "     identifier      rootname pad filter         pa        focus  coord_ha   coord_hb      wavelen_ha         wavelen_hb      DELTATIM\n",
      "------------------- --------- --- ------ ----------------- ----- ---------- ---------- ------------------ ------------------ ---------\n",
      "GS4_26698_icoi1lftq icoi1lftq 200   G102 82.13949838177001     0 167 .. 238 167 .. 238 1375.9101196358504 1019.1856927813981 50.000412\n"
     ]
    },
    {
     "name": "stderr",
     "output_type": "stream",
     "text": []
    },
    {
     "name": "stdout",
     "output_type": "stream",
     "text": [
      "     identifier      rootname pad filter         pa        focus  coord_ha   coord_hb      wavelen_ha         wavelen_hb      DELTATIM\n",
      "------------------- --------- --- ------ ----------------- ----- ---------- ---------- ------------------ ------------------ ---------\n",
      "GS4_26698_icoi1lfxq icoi1lfxq 200   G102 82.13949835914225     0 167 .. 238 167 .. 238 1375.9101196358504 1019.1856927813981 50.000412\n"
     ]
    },
    {
     "name": "stderr",
     "output_type": "stream",
     "text": []
    },
    {
     "name": "stdout",
     "output_type": "stream",
     "text": [
      "     identifier      rootname pad filter         pa        focus  coord_ha   coord_hb      wavelen_ha         wavelen_hb      DELTATIM\n",
      "------------------- --------- --- ------ ----------------- ----- ---------- ---------- ------------------ ------------------ ---------\n",
      "GS4_26698_icoi1lg3q icoi1lg3q 200   G102 82.13904127776222     0 144 .. 208 144 .. 208 1375.9101196358504 1019.1856927813981 50.000412\n"
     ]
    },
    {
     "name": "stderr",
     "output_type": "stream",
     "text": []
    },
    {
     "name": "stdout",
     "output_type": "stream",
     "text": [
      "     identifier      rootname pad filter         pa        focus  coord_ha   coord_hb      wavelen_ha         wavelen_hb      DELTATIM\n",
      "------------------- --------- --- ------ ----------------- ----- ---------- ---------- ------------------ ------------------ ---------\n",
      "GS4_26698_icoi1lg6q icoi1lg6q 200   G102 82.13904132137108     0 144 .. 208 144 .. 208 1375.9101196358504 1019.1856927813981 50.000412\n"
     ]
    },
    {
     "name": "stderr",
     "output_type": "stream",
     "text": []
    },
    {
     "name": "stdout",
     "output_type": "stream",
     "text": [
      "     identifier      rootname pad filter        pa        focus  coord_ha   coord_hb      wavelen_ha         wavelen_hb      DELTATIM\n",
      "------------------- --------- --- ------ ---------------- ----- ---------- ---------- ------------------ ------------------ ---------\n",
      "GS4_26698_icoi1lg8q icoi1lg8q 200   G102 82.1390919612893     0 142 .. 210 142 .. 210 1375.9101196358504 1019.1856927813981 50.000412\n"
     ]
    },
    {
     "name": "stderr",
     "output_type": "stream",
     "text": []
    },
    {
     "name": "stdout",
     "output_type": "stream",
     "text": [
      "     identifier      rootname pad filter        pa        focus  coord_ha   coord_hb      wavelen_ha         wavelen_hb      DELTATIM\n",
      "------------------- --------- --- ------ ---------------- ----- ---------- ---------- ------------------ ------------------ ---------\n",
      "GS4_26698_icoi1lgcq icoi1lgcq 200   G102 82.1390919945709     0 142 .. 210 142 .. 210 1375.9101196358504 1019.1856927813981 50.000412\n"
     ]
    },
    {
     "name": "stderr",
     "output_type": "stream",
     "text": []
    },
    {
     "name": "stdout",
     "output_type": "stream",
     "text": [
      "     identifier      rootname pad filter         pa        focus  coord_ha  coord_hb     wavelen_ha         wavelen_hb      DELTATIM\n",
      "------------------- --------- --- ------ ----------------- ----- --------- --------- ------------------ ------------------ ---------\n",
      "GS4_26698_icoi1eqkq icoi1eqkq 200   G102 144.1368441793468     0 91 .. 499 91 .. 499 1375.9101196358504 1019.1856927813981 50.000412\n"
     ]
    },
    {
     "name": "stderr",
     "output_type": "stream",
     "text": []
    },
    {
     "name": "stdout",
     "output_type": "stream",
     "text": [
      "     identifier      rootname pad filter         pa        focus  coord_ha  coord_hb     wavelen_ha         wavelen_hb      DELTATIM\n",
      "------------------- --------- --- ------ ----------------- ----- --------- --------- ------------------ ------------------ ---------\n",
      "GS4_26698_icoi1eqmq icoi1eqmq 200   G102 144.1368441650312     0 91 .. 499 91 .. 499 1375.9101196358504 1019.1856927813981 50.000412\n"
     ]
    },
    {
     "name": "stderr",
     "output_type": "stream",
     "text": []
    },
    {
     "name": "stdout",
     "output_type": "stream",
     "text": [
      "     identifier      rootname pad filter         pa        focus  coord_ha  coord_hb     wavelen_ha         wavelen_hb      DELTATIM\n",
      "------------------- --------- --- ------ ----------------- ----- --------- --------- ------------------ ------------------ ---------\n",
      "GS4_26698_icoi1eqoq icoi1eqoq 200   G102 144.1369272054256     0 95 .. 500 95 .. 500 1375.9101196358504 1019.1856927813981 50.000412\n"
     ]
    },
    {
     "name": "stderr",
     "output_type": "stream",
     "text": []
    },
    {
     "name": "stdout",
     "output_type": "stream",
     "text": [
      "     identifier      rootname pad filter         pa        focus  coord_ha  coord_hb     wavelen_ha         wavelen_hb      DELTATIM\n",
      "------------------- --------- --- ------ ----------------- ----- --------- --------- ------------------ ------------------ ---------\n",
      "GS4_26698_icoi1eqsq icoi1eqsq 200   G102 144.1369272122486     0 95 .. 500 95 .. 500 1375.9101196358504 1019.1856927813981 50.000412\n"
     ]
    },
    {
     "name": "stderr",
     "output_type": "stream",
     "text": []
    },
    {
     "name": "stdout",
     "output_type": "stream",
     "text": [
      "     identifier      rootname pad filter       pa       focus  coord_ha  coord_hb     wavelen_ha         wavelen_hb      DELTATIM\n",
      "------------------- --------- --- ------ -------------- ----- --------- --------- ------------------ ------------------ ---------\n",
      "GS4_26698_icoi1eqyq icoi1eqyq 200   G102 144.1369271995     0 93 .. 503 93 .. 503 1375.9101196358504 1019.1856927813981 50.000412\n"
     ]
    },
    {
     "name": "stderr",
     "output_type": "stream",
     "text": []
    },
    {
     "name": "stdout",
     "output_type": "stream",
     "text": [
      "     identifier      rootname pad filter         pa        focus  coord_ha  coord_hb     wavelen_ha         wavelen_hb      DELTATIM\n",
      "------------------- --------- --- ------ ----------------- ----- --------- --------- ------------------ ------------------ ---------\n",
      "GS4_26698_icoi1er1q icoi1er1q 200   G102 144.1369271859523     0 93 .. 503 93 .. 503 1375.9101196358504 1019.1856927813981 50.000412\n"
     ]
    },
    {
     "name": "stderr",
     "output_type": "stream",
     "text": []
    },
    {
     "name": "stdout",
     "output_type": "stream",
     "text": [
      "     identifier      rootname pad filter         pa        focus  coord_ha  coord_hb     wavelen_ha         wavelen_hb      DELTATIM\n",
      "------------------- --------- --- ------ ----------------- ----- --------- --------- ------------------ ------------------ ---------\n",
      "GS4_26698_icoi1er3q icoi1er3q 200   G102 144.1368507689214     0 89 .. 501 89 .. 501 1375.9101196358504 1019.1856927813981 50.000412\n"
     ]
    },
    {
     "name": "stderr",
     "output_type": "stream",
     "text": []
    },
    {
     "name": "stdout",
     "output_type": "stream",
     "text": [
      "     identifier      rootname pad filter         pa        focus  coord_ha  coord_hb     wavelen_ha         wavelen_hb      DELTATIM\n",
      "------------------- --------- --- ------ ----------------- ----- --------- --------- ------------------ ------------------ ---------\n",
      "GS4_26698_icoi1er7q icoi1er7q 200   G102 144.1368507811051     0 89 .. 501 89 .. 501 1375.9101196358504 1019.1856927813981 50.000412\n"
     ]
    },
    {
     "name": "stderr",
     "output_type": "stream",
     "text": []
    },
    {
     "name": "stdout",
     "output_type": "stream",
     "text": [
      "     identifier      rootname pad filter         pa        focus  coord_ha  coord_hb     wavelen_ha         wavelen_hb      DELTATIM\n",
      "------------------- --------- --- ------ ----------------- ----- --------- --------- ------------------ ------------------ ---------\n",
      "GS4_26698_icoi1fzrq icoi1fzrq 200   G102 144.1404290495847     0 91 .. 497 91 .. 497 1375.9101196358504 1019.1856927813981 50.000412\n"
     ]
    },
    {
     "name": "stderr",
     "output_type": "stream",
     "text": []
    },
    {
     "name": "stdout",
     "output_type": "stream",
     "text": [
      "     identifier      rootname pad filter         pa        focus  coord_ha  coord_hb     wavelen_ha         wavelen_hb      DELTATIM\n",
      "------------------- --------- --- ------ ----------------- ----- --------- --------- ------------------ ------------------ ---------\n",
      "GS4_26698_icoi1fztq icoi1fztq 200   G102 144.1404290499286     0 91 .. 497 91 .. 497 1375.9101196358504 1019.1856927813981 50.000412\n"
     ]
    },
    {
     "name": "stderr",
     "output_type": "stream",
     "text": []
    },
    {
     "name": "stdout",
     "output_type": "stream",
     "text": [
      "     identifier      rootname pad filter         pa        focus  coord_ha  coord_hb     wavelen_ha         wavelen_hb      DELTATIM\n",
      "------------------- --------- --- ------ ----------------- ----- --------- --------- ------------------ ------------------ ---------\n",
      "GS4_26698_icoi1fzvq icoi1fzvq 200   G102 144.1405130618058     0 95 .. 498 95 .. 498 1375.9101196358504 1019.1856927813981 50.000412\n"
     ]
    },
    {
     "name": "stderr",
     "output_type": "stream",
     "text": []
    },
    {
     "name": "stdout",
     "output_type": "stream",
     "text": [
      "     identifier      rootname pad filter         pa        focus  coord_ha  coord_hb     wavelen_ha         wavelen_hb      DELTATIM\n",
      "------------------- --------- --- ------ ----------------- ----- --------- --------- ------------------ ------------------ ---------\n",
      "GS4_26698_icoi1fzzq icoi1fzzq 200   G102 144.1405130808629     0 95 .. 498 95 .. 498 1375.9101196358504 1019.1856927813981 50.000412\n"
     ]
    },
    {
     "name": "stderr",
     "output_type": "stream",
     "text": []
    },
    {
     "name": "stdout",
     "output_type": "stream",
     "text": [
      "     identifier      rootname pad filter         pa        focus  coord_ha  coord_hb     wavelen_ha         wavelen_hb      DELTATIM\n",
      "------------------- --------- --- ------ ----------------- ----- --------- --------- ------------------ ------------------ ---------\n",
      "GS4_26698_icoi1fa6q icoi1fa6q 200   G102 144.1405130554147     0 94 .. 501 94 .. 501 1375.9101196358504 1019.1856927813981 50.000412\n"
     ]
    },
    {
     "name": "stderr",
     "output_type": "stream",
     "text": []
    },
    {
     "name": "stdout",
     "output_type": "stream",
     "text": [
      "     identifier      rootname pad filter         pa        focus  coord_ha  coord_hb     wavelen_ha         wavelen_hb      DELTATIM\n",
      "------------------- --------- --- ------ ----------------- ----- --------- --------- ------------------ ------------------ ---------\n",
      "GS4_26698_icoi1fa9q icoi1fa9q 200   G102 144.1405130653383     0 94 .. 501 94 .. 501 1375.9101196358504 1019.1856927813981 50.000412\n"
     ]
    },
    {
     "name": "stderr",
     "output_type": "stream",
     "text": []
    },
    {
     "name": "stdout",
     "output_type": "stream",
     "text": [
      "     identifier      rootname pad filter         pa        focus  coord_ha  coord_hb     wavelen_ha         wavelen_hb      DELTATIM\n",
      "------------------- --------- --- ------ ----------------- ----- --------- --------- ------------------ ------------------ ---------\n",
      "GS4_26698_icoi1fabq icoi1fabq 200   G102 144.1404295628959     0 90 .. 499 90 .. 499 1375.9101196358504 1019.1856927813981 50.000412\n"
     ]
    },
    {
     "name": "stderr",
     "output_type": "stream",
     "text": []
    },
    {
     "name": "stdout",
     "output_type": "stream",
     "text": [
      "     identifier      rootname pad filter         pa        focus  coord_ha  coord_hb     wavelen_ha         wavelen_hb      DELTATIM\n",
      "------------------- --------- --- ------ ----------------- ----- --------- --------- ------------------ ------------------ ---------\n",
      "GS4_26698_icoi1fafq icoi1fafq 200   G102 144.1404295810196     0 90 .. 499 90 .. 499 1375.9101196358504 1019.1856927813981 50.000412\n"
     ]
    },
    {
     "name": "stderr",
     "output_type": "stream",
     "text": []
    },
    {
     "name": "stdout",
     "output_type": "stream",
     "text": [
      "     identifier      rootname pad filter        pa        focus  coord_ha  coord_hb     wavelen_ha         wavelen_hb      DELTATIM\n",
      "------------------- --------- --- ------ ---------------- ----- --------- --------- ------------------ ------------------ ---------\n",
      "GS4_26698_icoi1gxjq icoi1gxjq 200   G102 144.142298634766     0 90 .. 497 90 .. 497 1375.9101196358504 1019.1856927813981 50.000412\n"
     ]
    },
    {
     "name": "stderr",
     "output_type": "stream",
     "text": []
    },
    {
     "name": "stdout",
     "output_type": "stream",
     "text": [
      "     identifier      rootname pad filter         pa        focus  coord_ha  coord_hb     wavelen_ha         wavelen_hb      DELTATIM\n",
      "------------------- --------- --- ------ ----------------- ----- --------- --------- ------------------ ------------------ ---------\n",
      "GS4_26698_icoi1gxlq icoi1gxlq 200   G102 144.1422986232609     0 90 .. 497 90 .. 497 1375.9101196358504 1019.1856927813981 50.000412\n"
     ]
    },
    {
     "name": "stderr",
     "output_type": "stream",
     "text": []
    },
    {
     "name": "stdout",
     "output_type": "stream",
     "text": [
      "     identifier      rootname pad filter         pa        focus  coord_ha  coord_hb     wavelen_ha         wavelen_hb      DELTATIM\n",
      "------------------- --------- --- ------ ----------------- ----- --------- --------- ------------------ ------------------ ---------\n",
      "GS4_26698_icoi1gxoq icoi1gxoq 200   G102 144.1423826425488     0 94 .. 498 94 .. 498 1375.9101196358504 1019.1856927813981 50.000412\n"
     ]
    },
    {
     "name": "stderr",
     "output_type": "stream",
     "text": []
    },
    {
     "name": "stdout",
     "output_type": "stream",
     "text": [
      "     identifier      rootname pad filter         pa        focus  coord_ha  coord_hb     wavelen_ha         wavelen_hb      DELTATIM\n",
      "------------------- --------- --- ------ ----------------- ----- --------- --------- ------------------ ------------------ ---------\n",
      "GS4_26698_icoi1gxsq icoi1gxsq 200   G102 144.1423826528491     0 94 .. 498 94 .. 498 1375.9101196358504 1019.1856927813981 50.000412\n"
     ]
    },
    {
     "name": "stderr",
     "output_type": "stream",
     "text": []
    },
    {
     "name": "stdout",
     "output_type": "stream",
     "text": [
      "     identifier      rootname pad filter         pa        focus  coord_ha  coord_hb     wavelen_ha         wavelen_hb      DELTATIM\n",
      "------------------- --------- --- ------ ----------------- ----- --------- --------- ------------------ ------------------ ---------\n",
      "GS4_26698_icoi1gxyq icoi1gxyq 200   G102 144.1423896534264     0 92 .. 501 92 .. 501 1375.9101196358504 1019.1856927813981 50.000412\n"
     ]
    },
    {
     "name": "stderr",
     "output_type": "stream",
     "text": []
    },
    {
     "name": "stdout",
     "output_type": "stream",
     "text": [
      "     identifier      rootname pad filter         pa        focus  coord_ha  coord_hb     wavelen_ha         wavelen_hb      DELTATIM\n",
      "------------------- --------- --- ------ ----------------- ----- --------- --------- ------------------ ------------------ ---------\n",
      "GS4_26698_icoi1gy1q icoi1gy1q 200   G102 144.1423896500335     0 92 .. 501 92 .. 501 1375.9101196358504 1019.1856927813981 50.000412\n"
     ]
    },
    {
     "name": "stderr",
     "output_type": "stream",
     "text": []
    },
    {
     "name": "stdout",
     "output_type": "stream",
     "text": [
      "     identifier      rootname pad filter         pa        focus  coord_ha  coord_hb     wavelen_ha         wavelen_hb      DELTATIM\n",
      "------------------- --------- --- ------ ----------------- ----- --------- --------- ------------------ ------------------ ---------\n",
      "GS4_26698_icoi1gy3q icoi1gy3q 200   G102 144.1422985897374     0 88 .. 499 88 .. 499 1375.9101196358504 1019.1856927813981 50.000412\n"
     ]
    },
    {
     "name": "stderr",
     "output_type": "stream",
     "text": []
    },
    {
     "name": "stdout",
     "output_type": "stream",
     "text": [
      "     identifier      rootname pad filter         pa        focus  coord_ha  coord_hb     wavelen_ha         wavelen_hb      DELTATIM\n",
      "------------------- --------- --- ------ ----------------- ----- --------- --------- ------------------ ------------------ ---------\n",
      "GS4_26698_icoi1gy7q icoi1gy7q 200   G102 144.1422985818362     0 88 .. 499 88 .. 499 1375.9101196358504 1019.1856927813981 50.000412\n"
     ]
    },
    {
     "name": "stderr",
     "output_type": "stream",
     "text": []
    },
    {
     "name": "stdout",
     "output_type": "stream",
     "text": [
      "     identifier      rootname pad filter         pa        focus  coord_ha  coord_hb     wavelen_ha         wavelen_hb      DELTATIM\n",
      "------------------- --------- --- ------ ----------------- ----- --------- --------- ------------------ ------------------ ---------\n",
      "GS4_26698_icoi1hydq icoi1hydq 200   G102 144.1394208720037     0 90 .. 498 90 .. 498 1375.9101196358504 1019.1856927813981 50.000412\n"
     ]
    },
    {
     "name": "stderr",
     "output_type": "stream",
     "text": []
    },
    {
     "name": "stdout",
     "output_type": "stream",
     "text": [
      "     identifier      rootname pad filter         pa        focus  coord_ha  coord_hb     wavelen_ha         wavelen_hb      DELTATIM\n",
      "------------------- --------- --- ------ ----------------- ----- --------- --------- ------------------ ------------------ ---------\n",
      "GS4_26698_icoi1hyfq icoi1hyfq 200   G102 144.1394208775218     0 90 .. 498 90 .. 498 1375.9101196358504 1019.1856927813981 50.000412\n"
     ]
    },
    {
     "name": "stderr",
     "output_type": "stream",
     "text": []
    },
    {
     "name": "stdout",
     "output_type": "stream",
     "text": [
      "     identifier      rootname pad filter         pa        focus  coord_ha  coord_hb     wavelen_ha         wavelen_hb      DELTATIM\n",
      "------------------- --------- --- ------ ----------------- ----- --------- --------- ------------------ ------------------ ---------\n",
      "GS4_26698_icoi1hyhq icoi1hyhq 200   G102 144.1395048695636     0 94 .. 500 94 .. 500 1375.9101196358504 1019.1856927813981 50.000412\n"
     ]
    },
    {
     "name": "stderr",
     "output_type": "stream",
     "text": []
    },
    {
     "name": "stdout",
     "output_type": "stream",
     "text": [
      "     identifier      rootname pad filter         pa        focus  coord_ha  coord_hb     wavelen_ha         wavelen_hb      DELTATIM\n",
      "------------------- --------- --- ------ ----------------- ----- --------- --------- ------------------ ------------------ ---------\n",
      "GS4_26698_icoi1hylq icoi1hylq 200   G102 144.1395048641354     0 94 .. 500 94 .. 500 1375.9101196358504 1019.1856927813981 50.000412\n"
     ]
    },
    {
     "name": "stderr",
     "output_type": "stream",
     "text": []
    },
    {
     "name": "stdout",
     "output_type": "stream",
     "text": [
      "     identifier      rootname pad filter         pa        focus  coord_ha  coord_hb     wavelen_ha         wavelen_hb      DELTATIM\n",
      "------------------- --------- --- ------ ----------------- ----- --------- --------- ------------------ ------------------ ---------\n",
      "GS4_26698_icoi1hyrq icoi1hyrq 200   G102 144.1395048586301     0 92 .. 502 92 .. 502 1375.9101196358504 1019.1856927813981 50.000412\n"
     ]
    },
    {
     "name": "stderr",
     "output_type": "stream",
     "text": []
    },
    {
     "name": "stdout",
     "output_type": "stream",
     "text": [
      "     identifier      rootname pad filter         pa        focus  coord_ha  coord_hb     wavelen_ha         wavelen_hb      DELTATIM\n",
      "------------------- --------- --- ------ ----------------- ----- --------- --------- ------------------ ------------------ ---------\n",
      "GS4_26698_icoi1hyuq icoi1hyuq 200   G102 144.1395048639264     0 92 .. 502 92 .. 502 1375.9101196358504 1019.1856927813981 50.000412\n"
     ]
    },
    {
     "name": "stderr",
     "output_type": "stream",
     "text": []
    },
    {
     "name": "stdout",
     "output_type": "stream",
     "text": [
      "     identifier      rootname pad filter         pa        focus  coord_ha  coord_hb     wavelen_ha         wavelen_hb      DELTATIM\n",
      "------------------- --------- --- ------ ----------------- ----- --------- --------- ------------------ ------------------ ---------\n",
      "GS4_26698_icoi1hywq icoi1hywq 200   G102 144.1394209806005     0 88 .. 501 88 .. 501 1375.9101196358504 1019.1856927813981 50.000412\n"
     ]
    },
    {
     "name": "stderr",
     "output_type": "stream",
     "text": []
    },
    {
     "name": "stdout",
     "output_type": "stream",
     "text": [
      "     identifier      rootname pad filter         pa        focus  coord_ha  coord_hb     wavelen_ha         wavelen_hb      DELTATIM\n",
      "------------------- --------- --- ------ ----------------- ----- --------- --------- ------------------ ------------------ ---------\n",
      "GS4_26698_icoi1hz0q icoi1hz0q 200   G102 144.1394210248062     0 88 .. 501 88 .. 501 1375.9101196358504 1019.1856927813981 50.000412\n"
     ]
    },
    {
     "name": "stderr",
     "output_type": "stream",
     "text": []
    },
    {
     "name": "stdout",
     "output_type": "stream",
     "text": [
      "     identifier      rootname pad filter         pa        focus  coord_ha   coord_hb      wavelen_ha         wavelen_hb      DELTATIM\n",
      "------------------- --------- --- ------ ----------------- ----- ---------- ---------- ------------------ ------------------ ---------\n",
      "GS4_26698_icoi1qduq icoi1qduq 200   G102 151.1395149322783     0 101 .. 531 101 .. 531 1375.9101196358504 1019.1856927813981 50.000412\n"
     ]
    },
    {
     "name": "stderr",
     "output_type": "stream",
     "text": []
    },
    {
     "name": "stdout",
     "output_type": "stream",
     "text": [
      "     identifier      rootname pad filter         pa        focus  coord_ha   coord_hb      wavelen_ha         wavelen_hb      DELTATIM\n",
      "------------------- --------- --- ------ ----------------- ----- ---------- ---------- ------------------ ------------------ ---------\n",
      "GS4_26698_icoi1qdwq icoi1qdwq 200   G102 151.1395149324693     0 101 .. 531 101 .. 531 1375.9101196358504 1019.1856927813981 50.000412\n"
     ]
    },
    {
     "name": "stderr",
     "output_type": "stream",
     "text": []
    },
    {
     "name": "stdout",
     "output_type": "stream",
     "text": [
      "     identifier      rootname pad filter         pa        focus  coord_ha   coord_hb      wavelen_ha         wavelen_hb      DELTATIM\n",
      "------------------- --------- --- ------ ----------------- ----- ---------- ---------- ------------------ ------------------ ---------\n",
      "GS4_26698_icoi1qdyq icoi1qdyq 200   G102 151.1395149621623     0 105 .. 532 105 .. 532 1375.9101196358504 1019.1856927813981 50.000412\n"
     ]
    },
    {
     "name": "stderr",
     "output_type": "stream",
     "text": []
    },
    {
     "name": "stdout",
     "output_type": "stream",
     "text": [
      "     identifier      rootname pad filter         pa        focus  coord_ha   coord_hb      wavelen_ha         wavelen_hb      DELTATIM\n",
      "------------------- --------- --- ------ ----------------- ----- ---------- ---------- ------------------ ------------------ ---------\n",
      "GS4_26698_icoi1qe2q icoi1qe2q 200   G102 151.1395149712481     0 105 .. 532 105 .. 532 1375.9101196358504 1019.1856927813981 50.000412\n"
     ]
    },
    {
     "name": "stderr",
     "output_type": "stream",
     "text": []
    },
    {
     "name": "stdout",
     "output_type": "stream",
     "text": [
      "     identifier      rootname pad filter         pa        focus  coord_ha   coord_hb      wavelen_ha         wavelen_hb      DELTATIM\n",
      "------------------- --------- --- ------ ----------------- ----- ---------- ---------- ------------------ ------------------ ---------\n",
      "GS4_26698_icoi1qe8q icoi1qe8q 200   G102 151.1395149339945     0 104 .. 535 104 .. 535 1375.9101196358504 1019.1856927813981 50.000412\n"
     ]
    },
    {
     "name": "stderr",
     "output_type": "stream",
     "text": []
    },
    {
     "name": "stdout",
     "output_type": "stream",
     "text": [
      "     identifier      rootname pad filter         pa        focus  coord_ha   coord_hb      wavelen_ha         wavelen_hb      DELTATIM\n",
      "------------------- --------- --- ------ ----------------- ----- ---------- ---------- ------------------ ------------------ ---------\n",
      "GS4_26698_icoi1qebq icoi1qebq 200   G102 151.1395149392955     0 104 .. 535 104 .. 535 1375.9101196358504 1019.1856927813981 50.000412\n"
     ]
    },
    {
     "name": "stderr",
     "output_type": "stream",
     "text": []
    },
    {
     "name": "stdout",
     "output_type": "stream",
     "text": [
      "     identifier      rootname pad filter         pa        focus  coord_ha   coord_hb      wavelen_ha         wavelen_hb      DELTATIM\n",
      "------------------- --------- --- ------ ----------------- ----- ---------- ---------- ------------------ ------------------ ---------\n",
      "GS4_26698_icoi1qedq icoi1qedq 200   G102 151.1395155116835     0 100 .. 533 100 .. 533 1375.9101196358504 1019.1856927813981 50.000412\n"
     ]
    },
    {
     "name": "stderr",
     "output_type": "stream",
     "text": []
    },
    {
     "name": "stdout",
     "output_type": "stream",
     "text": [
      "     identifier      rootname pad filter         pa        focus  coord_ha   coord_hb      wavelen_ha         wavelen_hb      DELTATIM\n",
      "------------------- --------- --- ------ ----------------- ----- ---------- ---------- ------------------ ------------------ ---------\n",
      "GS4_26698_icoi1qehq icoi1qehq 200   G102 151.1395155109529     0 100 .. 533 100 .. 533 1375.9101196358504 1019.1856927813981 50.000412\n"
     ]
    },
    {
     "name": "stderr",
     "output_type": "stream",
     "text": []
    },
    {
     "name": "stdout",
     "output_type": "stream",
     "text": [
      "     identifier      rootname pad filter        pa        focus  coord_ha   coord_hb      wavelen_ha         wavelen_hb      DELTATIM\n",
      "------------------- --------- --- ------ ---------------- ----- ---------- ---------- ------------------ ------------------ ---------\n",
      "GS4_26698_icoi1rn3q icoi1rn3q 200   G102 151.138115298714     0 101 .. 529 101 .. 529 1375.9101196358504 1019.1856927813981 50.000412\n"
     ]
    },
    {
     "name": "stderr",
     "output_type": "stream",
     "text": []
    },
    {
     "name": "stdout",
     "output_type": "stream",
     "text": [
      "     identifier      rootname pad filter         pa        focus  coord_ha   coord_hb      wavelen_ha         wavelen_hb      DELTATIM\n",
      "------------------- --------- --- ------ ----------------- ----- ---------- ---------- ------------------ ------------------ ---------\n",
      "GS4_26698_icoi1rn5q icoi1rn5q 200   G102 151.1381152973217     0 101 .. 529 101 .. 529 1375.9101196358504 1019.1856927813981 50.000412\n"
     ]
    },
    {
     "name": "stderr",
     "output_type": "stream",
     "text": []
    },
    {
     "name": "stdout",
     "output_type": "stream",
     "text": [
      "     identifier      rootname pad filter         pa        focus  coord_ha   coord_hb      wavelen_ha         wavelen_hb      DELTATIM\n",
      "------------------- --------- --- ------ ----------------- ----- ---------- ---------- ------------------ ------------------ ---------\n",
      "GS4_26698_icoi1rn7q icoi1rn7q 200   G102 151.1382152820833     0 105 .. 530 105 .. 530 1375.9101196358504 1019.1856927813981 50.000412\n"
     ]
    },
    {
     "name": "stderr",
     "output_type": "stream",
     "text": []
    },
    {
     "name": "stdout",
     "output_type": "stream",
     "text": [
      "     identifier      rootname pad filter         pa        focus  coord_ha   coord_hb      wavelen_ha         wavelen_hb      DELTATIM\n",
      "------------------- --------- --- ------ ----------------- ----- ---------- ---------- ------------------ ------------------ ---------\n",
      "GS4_26698_icoi1rnbq icoi1rnbq 200   G102 151.1382153062551     0 105 .. 530 105 .. 530 1375.9101196358504 1019.1856927813981 50.000412\n"
     ]
    },
    {
     "name": "stderr",
     "output_type": "stream",
     "text": []
    },
    {
     "name": "stdout",
     "output_type": "stream",
     "text": [
      "     identifier      rootname pad filter         pa        focus  coord_ha   coord_hb      wavelen_ha         wavelen_hb      DELTATIM\n",
      "------------------- --------- --- ------ ----------------- ----- ---------- ---------- ------------------ ------------------ ---------\n",
      "GS4_26698_icoi1rnhq icoi1rnhq 200   G102 151.1382152829564     0 104 .. 533 104 .. 533 1375.9101196358504 1019.1856927813981 50.000412\n"
     ]
    },
    {
     "name": "stderr",
     "output_type": "stream",
     "text": []
    },
    {
     "name": "stdout",
     "output_type": "stream",
     "text": [
      "     identifier      rootname pad filter        pa        focus  coord_ha   coord_hb      wavelen_ha         wavelen_hb      DELTATIM\n",
      "------------------- --------- --- ------ ---------------- ----- ---------- ---------- ------------------ ------------------ ---------\n",
      "GS4_26698_icoi1rnkq icoi1rnkq 200   G102 151.138215272833     0 104 .. 533 104 .. 533 1375.9101196358504 1019.1856927813981 50.000412\n"
     ]
    },
    {
     "name": "stderr",
     "output_type": "stream",
     "text": []
    },
    {
     "name": "stdout",
     "output_type": "stream",
     "text": [
      "     identifier      rootname pad filter         pa        focus  coord_ha   coord_hb      wavelen_ha         wavelen_hb      DELTATIM\n",
      "------------------- --------- --- ------ ----------------- ----- ---------- ---------- ------------------ ------------------ ---------\n",
      "GS4_26698_icoi1rnmq icoi1rnmq 200   G102 151.1381148969861     0 100 .. 531 100 .. 531 1375.9101196358504 1019.1856927813981 50.000412\n"
     ]
    },
    {
     "name": "stderr",
     "output_type": "stream",
     "text": []
    },
    {
     "name": "stdout",
     "output_type": "stream",
     "text": [
      "     identifier      rootname pad filter         pa        focus  coord_ha   coord_hb      wavelen_ha         wavelen_hb      DELTATIM\n",
      "------------------- --------- --- ------ ----------------- ----- ---------- ---------- ------------------ ------------------ ---------\n",
      "GS4_26698_icoi1rnqq icoi1rnqq 200   G102 151.1381149388093     0 100 .. 531 100 .. 531 1375.9101196358504 1019.1856927813981 50.000412\n"
     ]
    },
    {
     "name": "stderr",
     "output_type": "stream",
     "text": []
    },
    {
     "name": "stdout",
     "output_type": "stream",
     "text": [
      "     identifier      rootname pad filter        pa        focus  coord_ha   coord_hb      wavelen_ha         wavelen_hb      DELTATIM\n",
      "------------------- --------- --- ------ ---------------- ----- ---------- ---------- ------------------ ------------------ ---------\n",
      "GS4_26698_icoi1sstq icoi1sstq 200   G102 151.139216039532     0 100 .. 529 100 .. 529 1375.9101196358504 1019.1856927813981 50.000412\n"
     ]
    },
    {
     "name": "stderr",
     "output_type": "stream",
     "text": []
    },
    {
     "name": "stdout",
     "output_type": "stream",
     "text": [
      "     identifier      rootname pad filter         pa        focus  coord_ha   coord_hb      wavelen_ha         wavelen_hb      DELTATIM\n",
      "------------------- --------- --- ------ ----------------- ----- ---------- ---------- ------------------ ------------------ ---------\n",
      "GS4_26698_icoi1ssvq icoi1ssvq 200   G102 151.1392160368574     0 100 .. 529 100 .. 529 1375.9101196358504 1019.1856927813981 50.000412\n"
     ]
    },
    {
     "name": "stderr",
     "output_type": "stream",
     "text": []
    },
    {
     "name": "stdout",
     "output_type": "stream",
     "text": [
      "     identifier      rootname pad filter         pa        focus  coord_ha   coord_hb      wavelen_ha         wavelen_hb      DELTATIM\n",
      "------------------- --------- --- ------ ----------------- ----- ---------- ---------- ------------------ ------------------ ---------\n",
      "GS4_26698_icoi1ssxq icoi1ssxq 200   G102 151.1393160379334     0 104 .. 531 104 .. 531 1375.9101196358504 1019.1856927813981 50.000412\n"
     ]
    },
    {
     "name": "stderr",
     "output_type": "stream",
     "text": []
    },
    {
     "name": "stdout",
     "output_type": "stream",
     "text": [
      "     identifier      rootname pad filter         pa        focus  coord_ha   coord_hb      wavelen_ha         wavelen_hb      DELTATIM\n",
      "------------------- --------- --- ------ ----------------- ----- ---------- ---------- ------------------ ------------------ ---------\n",
      "GS4_26698_icoi1st1q icoi1st1q 200   G102 151.1393160350856     0 104 .. 531 104 .. 531 1375.9101196358504 1019.1856927813981 50.000412\n"
     ]
    },
    {
     "name": "stderr",
     "output_type": "stream",
     "text": []
    },
    {
     "name": "stdout",
     "output_type": "stream",
     "text": [
      "     identifier      rootname pad filter         pa        focus  coord_ha   coord_hb      wavelen_ha         wavelen_hb      DELTATIM\n",
      "------------------- --------- --- ------ ----------------- ----- ---------- ---------- ------------------ ------------------ ---------\n",
      "GS4_26698_icoi1st7q icoi1st7q 200   G102 151.1393160399253     0 102 .. 533 102 .. 533 1375.9101196358504 1019.1856927813981 50.000412\n"
     ]
    },
    {
     "name": "stderr",
     "output_type": "stream",
     "text": []
    },
    {
     "name": "stdout",
     "output_type": "stream",
     "text": [
      "     identifier      rootname pad filter         pa        focus  coord_ha   coord_hb      wavelen_ha         wavelen_hb      DELTATIM\n",
      "------------------- --------- --- ------ ----------------- ----- ---------- ---------- ------------------ ------------------ ---------\n",
      "GS4_26698_icoi1staq icoi1staq 200   G102 151.1393160528048     0 102 .. 533 102 .. 533 1375.9101196358504 1019.1856927813981 50.000412\n"
     ]
    },
    {
     "name": "stderr",
     "output_type": "stream",
     "text": []
    },
    {
     "name": "stdout",
     "output_type": "stream",
     "text": [
      "     identifier      rootname pad filter         pa        focus  coord_ha  coord_hb     wavelen_ha         wavelen_hb      DELTATIM\n",
      "------------------- --------- --- ------ ----------------- ----- --------- --------- ------------------ ------------------ ---------\n",
      "GS4_26698_icoi1stcq icoi1stcq 200   G102 151.1392170261745     0 98 .. 532 98 .. 532 1375.9101196358504 1019.1856927813981 50.000412\n"
     ]
    },
    {
     "name": "stderr",
     "output_type": "stream",
     "text": []
    },
    {
     "name": "stdout",
     "output_type": "stream",
     "text": [
      "     identifier      rootname pad filter         pa        focus  coord_ha  coord_hb     wavelen_ha         wavelen_hb      DELTATIM\n",
      "------------------- --------- --- ------ ----------------- ----- --------- --------- ------------------ ------------------ ---------\n",
      "GS4_26698_icoi1stgq icoi1stgq 200   G102 151.1392169979739     0 98 .. 532 98 .. 532 1375.9101196358504 1019.1856927813981 50.000412\n"
     ]
    },
    {
     "name": "stderr",
     "output_type": "stream",
     "text": []
    },
    {
     "name": "stdout",
     "output_type": "stream",
     "text": [
      "     identifier      rootname pad filter         pa        focus  coord_ha   coord_hb      wavelen_ha         wavelen_hb      DELTATIM\n",
      "------------------- --------- --- ------ ----------------- ----- ---------- ---------- ------------------ ------------------ ---------\n",
      "GS4_26698_icoi1tkuq icoi1tkuq 200   G102 151.1386185168051     0 100 .. 531 100 .. 531 1375.9101196358504 1019.1856927813981 50.000412\n"
     ]
    },
    {
     "name": "stderr",
     "output_type": "stream",
     "text": []
    },
    {
     "name": "stdout",
     "output_type": "stream",
     "text": [
      "     identifier      rootname pad filter         pa        focus  coord_ha   coord_hb      wavelen_ha         wavelen_hb      DELTATIM\n",
      "------------------- --------- --- ------ ----------------- ----- ---------- ---------- ------------------ ------------------ ---------\n",
      "GS4_26698_icoi1tkwq icoi1tkwq 200   G102 151.1386185150262     0 100 .. 531 100 .. 531 1375.9101196358504 1019.1856927813981 50.000412\n"
     ]
    },
    {
     "name": "stderr",
     "output_type": "stream",
     "text": []
    },
    {
     "name": "stdout",
     "output_type": "stream",
     "text": [
      "     identifier      rootname pad filter         pa        focus  coord_ha   coord_hb      wavelen_ha         wavelen_hb      DELTATIM\n",
      "------------------- --------- --- ------ ----------------- ----- ---------- ---------- ------------------ ------------------ ---------\n",
      "GS4_26698_icoi1tl1q icoi1tl1q 200   G102 151.1387185095184     0 104 .. 532 104 .. 532 1375.9101196358504 1019.1856927813981 50.000412\n"
     ]
    },
    {
     "name": "stderr",
     "output_type": "stream",
     "text": []
    },
    {
     "name": "stdout",
     "output_type": "stream",
     "text": [
      "     identifier      rootname pad filter         pa        focus  coord_ha   coord_hb      wavelen_ha         wavelen_hb      DELTATIM\n",
      "------------------- --------- --- ------ ----------------- ----- ---------- ---------- ------------------ ------------------ ---------\n",
      "GS4_26698_icoi1tl5q icoi1tl5q 200   G102 151.1387185337713     0 104 .. 532 104 .. 532 1375.9101196358504 1019.1856927813981 50.000412\n"
     ]
    },
    {
     "name": "stderr",
     "output_type": "stream",
     "text": []
    },
    {
     "name": "stdout",
     "output_type": "stream",
     "text": [
      "     identifier      rootname pad filter         pa        focus  coord_ha   coord_hb      wavelen_ha         wavelen_hb      DELTATIM\n",
      "------------------- --------- --- ------ ----------------- ----- ---------- ---------- ------------------ ------------------ ---------\n",
      "GS4_26698_icoi1tlfq icoi1tlfq 200   G102 151.1387185004747     0 103 .. 535 103 .. 535 1375.9101196358504 1019.1856927813981 50.000412\n"
     ]
    },
    {
     "name": "stderr",
     "output_type": "stream",
     "text": [
      "124it [00:41,  2.98it/s]\n",
      " 56%|█████▌    | 88/158 [19:03<15:09, 13.00s/it]\n"
     ]
    },
    {
     "ename": "KeyboardInterrupt",
     "evalue": "",
     "output_type": "error",
     "traceback": [
      "\u001b[0;31m---------------------------------------------------------------------------\u001b[0m",
      "\u001b[0;31mKeyboardInterrupt\u001b[0m                         Traceback (most recent call last)",
      "Cell \u001b[0;32mIn[37], line 112\u001b[0m\n\u001b[1;32m    110\u001b[0m \u001b[38;5;28;01mif\u001b[39;00m \u001b[38;5;18m__name__\u001b[39m \u001b[38;5;241m==\u001b[39m \u001b[38;5;124m'\u001b[39m\u001b[38;5;124m__main__\u001b[39m\u001b[38;5;124m'\u001b[39m:\n\u001b[1;32m    111\u001b[0m     obj_lis \u001b[38;5;241m=\u001b[39m Table\u001b[38;5;241m.\u001b[39mread(\u001b[38;5;124m'\u001b[39m\u001b[38;5;124mobj_lis_selected.fits\u001b[39m\u001b[38;5;124m'\u001b[39m)\n\u001b[0;32m--> 112\u001b[0m     results \u001b[38;5;241m=\u001b[39m \u001b[43mcat_process_gen_psf_input_param\u001b[49m\u001b[43m(\u001b[49m\u001b[43mobj_lis\u001b[49m\u001b[43m,\u001b[49m\u001b[43mmax_threads\u001b[49m\u001b[38;5;241;43m=\u001b[39;49m\u001b[38;5;241;43m1\u001b[39;49m\u001b[43m)\u001b[49m\n\u001b[1;32m    113\u001b[0m     number \u001b[38;5;241m=\u001b[39m \u001b[38;5;241m0\u001b[39m\n\u001b[1;32m    114\u001b[0m     \u001b[38;5;28;01mfor\u001b[39;00m result \u001b[38;5;129;01min\u001b[39;00m results:\n",
      "Cell \u001b[0;32mIn[37], line 106\u001b[0m, in \u001b[0;36mcat_process_gen_psf_input_param\u001b[0;34m(obj_lis, max_threads)\u001b[0m\n\u001b[1;32m    104\u001b[0m \u001b[38;5;28;01melse\u001b[39;00m:\n\u001b[1;32m    105\u001b[0m     \u001b[38;5;28;01mfor\u001b[39;00m obj \u001b[38;5;129;01min\u001b[39;00m tqdm(obj_lis):\n\u001b[0;32m--> 106\u001b[0m         results\u001b[38;5;241m.\u001b[39mappend(\u001b[43mgen_psf\u001b[49m\u001b[43m(\u001b[49m\u001b[43mobj\u001b[49m\u001b[43m)\u001b[49m)\n\u001b[1;32m    107\u001b[0m     \u001b[38;5;28;01mreturn\u001b[39;00m results\n",
      "Cell \u001b[0;32mIn[37], line 59\u001b[0m, in \u001b[0;36mgen_psf\u001b[0;34m(obj, exist_skip)\u001b[0m\n\u001b[1;32m     57\u001b[0m \u001b[38;5;66;03m#hb\u001b[39;00m\n\u001b[1;32m     58\u001b[0m filename_hb \u001b[38;5;241m=\u001b[39m \u001b[38;5;124mf\u001b[39m\u001b[38;5;124m\"\u001b[39m\u001b[38;5;124mpsf/individual_psf/\u001b[39m\u001b[38;5;132;01m{\u001b[39;00midentifier\u001b[38;5;241m.\u001b[39msplit(\u001b[38;5;124m'\u001b[39m\u001b[38;5;124m_\u001b[39m\u001b[38;5;124m'\u001b[39m)[\u001b[38;5;241m2\u001b[39m]\u001b[38;5;132;01m}\u001b[39;00m\u001b[38;5;124m_hb.fits\u001b[39m\u001b[38;5;124m\"\u001b[39m\n\u001b[0;32m---> 59\u001b[0m \u001b[43mtinytim\u001b[49m\u001b[38;5;241;43m.\u001b[39;49m\u001b[43mmake_subsampled_model_psf\u001b[49m\u001b[43m(\u001b[49m\u001b[43mfilename\u001b[49m\u001b[38;5;241;43m=\u001b[39;49m\u001b[43mfilename_hb\u001b[49m\u001b[43m,\u001b[49m\n\u001b[1;32m     60\u001b[0m \u001b[43m                    \u001b[49m\u001b[43mpsf_size\u001b[49m\u001b[43m \u001b[49m\u001b[38;5;241;43m=\u001b[39;49m\u001b[43m \u001b[49m\u001b[38;5;241;43m4\u001b[39;49m\u001b[43m,\u001b[49m\n\u001b[1;32m     61\u001b[0m \u001b[43m                    \u001b[49m\u001b[43mfilter_name\u001b[49m\u001b[43m \u001b[49m\u001b[38;5;241;43m=\u001b[39;49m\u001b[43m \u001b[49m\u001b[38;5;28;43mfilter\u001b[39;49m\u001b[43m,\u001b[49m\n\u001b[1;32m     62\u001b[0m \u001b[43m                    \u001b[49m\u001b[43mfocus\u001b[49m\u001b[43m \u001b[49m\u001b[38;5;241;43m=\u001b[39;49m\u001b[43m \u001b[49m\u001b[43mfocus\u001b[49m\u001b[43m,\u001b[49m\u001b[43m  \u001b[49m\n\u001b[1;32m     63\u001b[0m \u001b[43m                    \u001b[49m\u001b[43mpsf_position\u001b[49m\u001b[43m \u001b[49m\u001b[38;5;241;43m=\u001b[39;49m\u001b[43m \u001b[49m\u001b[43mcoord_hb\u001b[49m\u001b[43m,\u001b[49m\n\u001b[1;32m     64\u001b[0m \u001b[43m                    \u001b[49m\u001b[43mmono\u001b[49m\u001b[43m \u001b[49m\u001b[38;5;241;43m=\u001b[39;49m\u001b[43m \u001b[49m\u001b[43mwavelen_hb\u001b[49m\u001b[43m,\u001b[49m\n\u001b[1;32m     65\u001b[0m \u001b[43m                    \u001b[49m\u001b[43msubsampling_factor\u001b[49m\u001b[43m \u001b[49m\u001b[38;5;241;43m=\u001b[39;49m\u001b[43m \u001b[49m\u001b[38;5;241;43m2\u001b[39;49m\u001b[43m)\u001b[49m\n\u001b[1;32m     66\u001b[0m hb_psf \u001b[38;5;241m=\u001b[39m rotate_and_crop(filename_hb,\u001b[38;5;241m-\u001b[39mpa)\n\u001b[1;32m     67\u001b[0m hb_psf\u001b[38;5;241m.\u001b[39mname \u001b[38;5;241m=\u001b[39m \u001b[38;5;124mf\u001b[39m\u001b[38;5;124m'\u001b[39m\u001b[38;5;132;01m{\u001b[39;00mrootname\u001b[38;5;132;01m}\u001b[39;00m\u001b[38;5;124m_hb\u001b[39m\u001b[38;5;124m'\u001b[39m\n",
      "File \u001b[0;32m/media/yang/T7/Balmer-Decrement_3DHST/psf/make_psf.py:295\u001b[0m, in \u001b[0;36mmake_subsampled_model_psf\u001b[0;34m(filename, psf_position, focus, spec_file_path, detector, filter_name, psf_size, tinytim_path, subsampling_factor, linear_fit, clobber, mono, **optical_params)\u001b[0m\n\u001b[1;32m    292\u001b[0m cmd \u001b[38;5;241m=\u001b[39m \u001b[38;5;124mf\u001b[39m\u001b[38;5;124m\"\u001b[39m\u001b[38;5;132;01m{\u001b[39;00mtinytim_path\u001b[38;5;132;01m}\u001b[39;00m\u001b[38;5;124m/tiny2 \u001b[39m\u001b[38;5;124m\"\u001b[39m \u001b[38;5;241m+\u001b[39m par_file\n\u001b[1;32m    293\u001b[0m \u001b[38;5;66;03m# Run the command to call tiny2\u001b[39;00m\n\u001b[1;32m    294\u001b[0m \u001b[38;5;66;03m#sbp.run(cmd, shell=True,executable=\"/bin/bash\")\u001b[39;00m\n\u001b[0;32m--> 295\u001b[0m \u001b[43msbp\u001b[49m\u001b[38;5;241;43m.\u001b[39;49m\u001b[43mrun\u001b[49m\u001b[43m(\u001b[49m\u001b[43mcmd\u001b[49m\u001b[43m,\u001b[49m\u001b[43m \u001b[49m\u001b[43mshell\u001b[49m\u001b[38;5;241;43m=\u001b[39;49m\u001b[38;5;28;43;01mTrue\u001b[39;49;00m\u001b[43m,\u001b[49m\u001b[43mexecutable\u001b[49m\u001b[38;5;241;43m=\u001b[39;49m\u001b[38;5;124;43m\"\u001b[39;49m\u001b[38;5;124;43m/bin/bash\u001b[39;49m\u001b[38;5;124;43m\"\u001b[39;49m\u001b[43m,\u001b[49m\n\u001b[1;32m    296\u001b[0m \u001b[43m        \u001b[49m\u001b[43mstdout\u001b[49m\u001b[38;5;241;43m=\u001b[39;49m\u001b[43msbp\u001b[49m\u001b[38;5;241;43m.\u001b[39;49m\u001b[43mDEVNULL\u001b[49m\u001b[43m,\u001b[49m\u001b[43m \u001b[49m\u001b[43mstderr\u001b[49m\u001b[38;5;241;43m=\u001b[39;49m\u001b[43msbp\u001b[49m\u001b[38;5;241;43m.\u001b[39;49m\u001b[43mDEVNULL\u001b[49m\u001b[43m)\u001b[49m\n\u001b[1;32m    297\u001b[0m         \u001b[38;5;66;03m#timeout=10,check=True)\u001b[39;00m\n\u001b[1;32m    298\u001b[0m \n\u001b[1;32m    299\u001b[0m \n\u001b[1;32m    300\u001b[0m \n\u001b[1;32m    301\u001b[0m \u001b[38;5;66;03m# Set up the command to call tiny3\u001b[39;00m\n\u001b[1;32m    302\u001b[0m cmd \u001b[38;5;241m=\u001b[39m \u001b[38;5;124mf\u001b[39m\u001b[38;5;124m\"\u001b[39m\u001b[38;5;132;01m{\u001b[39;00mtinytim_path\u001b[38;5;132;01m}\u001b[39;00m\u001b[38;5;124m/tiny3 \u001b[39m\u001b[38;5;124m\"\u001b[39m \u001b[38;5;241m+\u001b[39m par_file  \u001b[38;5;241m+\u001b[39m \u001b[38;5;124m\"\u001b[39m\u001b[38;5;124m SUB=\u001b[39m\u001b[38;5;124m\"\u001b[39m \u001b[38;5;241m+\u001b[39m \u001b[38;5;28mstr\u001b[39m(\u001b[38;5;28mint\u001b[39m(subsampling_factor))\n",
      "File \u001b[0;32m~/anaconda3/envs/baproj/lib/python3.10/subprocess.py:505\u001b[0m, in \u001b[0;36mrun\u001b[0;34m(input, capture_output, timeout, check, *popenargs, **kwargs)\u001b[0m\n\u001b[1;32m    503\u001b[0m \u001b[38;5;28;01mwith\u001b[39;00m Popen(\u001b[38;5;241m*\u001b[39mpopenargs, \u001b[38;5;241m*\u001b[39m\u001b[38;5;241m*\u001b[39mkwargs) \u001b[38;5;28;01mas\u001b[39;00m process:\n\u001b[1;32m    504\u001b[0m     \u001b[38;5;28;01mtry\u001b[39;00m:\n\u001b[0;32m--> 505\u001b[0m         stdout, stderr \u001b[38;5;241m=\u001b[39m \u001b[43mprocess\u001b[49m\u001b[38;5;241;43m.\u001b[39;49m\u001b[43mcommunicate\u001b[49m\u001b[43m(\u001b[49m\u001b[38;5;28;43minput\u001b[39;49m\u001b[43m,\u001b[49m\u001b[43m \u001b[49m\u001b[43mtimeout\u001b[49m\u001b[38;5;241;43m=\u001b[39;49m\u001b[43mtimeout\u001b[49m\u001b[43m)\u001b[49m\n\u001b[1;32m    506\u001b[0m     \u001b[38;5;28;01mexcept\u001b[39;00m TimeoutExpired \u001b[38;5;28;01mas\u001b[39;00m exc:\n\u001b[1;32m    507\u001b[0m         process\u001b[38;5;241m.\u001b[39mkill()\n",
      "File \u001b[0;32m~/anaconda3/envs/baproj/lib/python3.10/subprocess.py:1146\u001b[0m, in \u001b[0;36mPopen.communicate\u001b[0;34m(self, input, timeout)\u001b[0m\n\u001b[1;32m   1144\u001b[0m         stderr \u001b[38;5;241m=\u001b[39m \u001b[38;5;28mself\u001b[39m\u001b[38;5;241m.\u001b[39mstderr\u001b[38;5;241m.\u001b[39mread()\n\u001b[1;32m   1145\u001b[0m         \u001b[38;5;28mself\u001b[39m\u001b[38;5;241m.\u001b[39mstderr\u001b[38;5;241m.\u001b[39mclose()\n\u001b[0;32m-> 1146\u001b[0m     \u001b[38;5;28;43mself\u001b[39;49m\u001b[38;5;241;43m.\u001b[39;49m\u001b[43mwait\u001b[49m\u001b[43m(\u001b[49m\u001b[43m)\u001b[49m\n\u001b[1;32m   1147\u001b[0m \u001b[38;5;28;01melse\u001b[39;00m:\n\u001b[1;32m   1148\u001b[0m     \u001b[38;5;28;01mif\u001b[39;00m timeout \u001b[38;5;129;01mis\u001b[39;00m \u001b[38;5;129;01mnot\u001b[39;00m \u001b[38;5;28;01mNone\u001b[39;00m:\n",
      "File \u001b[0;32m~/anaconda3/envs/baproj/lib/python3.10/subprocess.py:1209\u001b[0m, in \u001b[0;36mPopen.wait\u001b[0;34m(self, timeout)\u001b[0m\n\u001b[1;32m   1207\u001b[0m     endtime \u001b[38;5;241m=\u001b[39m _time() \u001b[38;5;241m+\u001b[39m timeout\n\u001b[1;32m   1208\u001b[0m \u001b[38;5;28;01mtry\u001b[39;00m:\n\u001b[0;32m-> 1209\u001b[0m     \u001b[38;5;28;01mreturn\u001b[39;00m \u001b[38;5;28;43mself\u001b[39;49m\u001b[38;5;241;43m.\u001b[39;49m\u001b[43m_wait\u001b[49m\u001b[43m(\u001b[49m\u001b[43mtimeout\u001b[49m\u001b[38;5;241;43m=\u001b[39;49m\u001b[43mtimeout\u001b[49m\u001b[43m)\u001b[49m\n\u001b[1;32m   1210\u001b[0m \u001b[38;5;28;01mexcept\u001b[39;00m \u001b[38;5;167;01mKeyboardInterrupt\u001b[39;00m:\n\u001b[1;32m   1211\u001b[0m     \u001b[38;5;66;03m# https://bugs.python.org/issue25942\u001b[39;00m\n\u001b[1;32m   1212\u001b[0m     \u001b[38;5;66;03m# The first keyboard interrupt waits briefly for the child to\u001b[39;00m\n\u001b[1;32m   1213\u001b[0m     \u001b[38;5;66;03m# exit under the common assumption that it also received the ^C\u001b[39;00m\n\u001b[1;32m   1214\u001b[0m     \u001b[38;5;66;03m# generated SIGINT and will exit rapidly.\u001b[39;00m\n\u001b[1;32m   1215\u001b[0m     \u001b[38;5;28;01mif\u001b[39;00m timeout \u001b[38;5;129;01mis\u001b[39;00m \u001b[38;5;129;01mnot\u001b[39;00m \u001b[38;5;28;01mNone\u001b[39;00m:\n",
      "File \u001b[0;32m~/anaconda3/envs/baproj/lib/python3.10/subprocess.py:1959\u001b[0m, in \u001b[0;36mPopen._wait\u001b[0;34m(self, timeout)\u001b[0m\n\u001b[1;32m   1957\u001b[0m \u001b[38;5;28;01mif\u001b[39;00m \u001b[38;5;28mself\u001b[39m\u001b[38;5;241m.\u001b[39mreturncode \u001b[38;5;129;01mis\u001b[39;00m \u001b[38;5;129;01mnot\u001b[39;00m \u001b[38;5;28;01mNone\u001b[39;00m:\n\u001b[1;32m   1958\u001b[0m     \u001b[38;5;28;01mbreak\u001b[39;00m  \u001b[38;5;66;03m# Another thread waited.\u001b[39;00m\n\u001b[0;32m-> 1959\u001b[0m (pid, sts) \u001b[38;5;241m=\u001b[39m \u001b[38;5;28;43mself\u001b[39;49m\u001b[38;5;241;43m.\u001b[39;49m\u001b[43m_try_wait\u001b[49m\u001b[43m(\u001b[49m\u001b[38;5;241;43m0\u001b[39;49m\u001b[43m)\u001b[49m\n\u001b[1;32m   1960\u001b[0m \u001b[38;5;66;03m# Check the pid and loop as waitpid has been known to\u001b[39;00m\n\u001b[1;32m   1961\u001b[0m \u001b[38;5;66;03m# return 0 even without WNOHANG in odd situations.\u001b[39;00m\n\u001b[1;32m   1962\u001b[0m \u001b[38;5;66;03m# http://bugs.python.org/issue14396.\u001b[39;00m\n\u001b[1;32m   1963\u001b[0m \u001b[38;5;28;01mif\u001b[39;00m pid \u001b[38;5;241m==\u001b[39m \u001b[38;5;28mself\u001b[39m\u001b[38;5;241m.\u001b[39mpid:\n",
      "File \u001b[0;32m~/anaconda3/envs/baproj/lib/python3.10/subprocess.py:1917\u001b[0m, in \u001b[0;36mPopen._try_wait\u001b[0;34m(self, wait_flags)\u001b[0m\n\u001b[1;32m   1915\u001b[0m \u001b[38;5;250m\u001b[39m\u001b[38;5;124;03m\"\"\"All callers to this function MUST hold self._waitpid_lock.\"\"\"\u001b[39;00m\n\u001b[1;32m   1916\u001b[0m \u001b[38;5;28;01mtry\u001b[39;00m:\n\u001b[0;32m-> 1917\u001b[0m     (pid, sts) \u001b[38;5;241m=\u001b[39m \u001b[43mos\u001b[49m\u001b[38;5;241;43m.\u001b[39;49m\u001b[43mwaitpid\u001b[49m\u001b[43m(\u001b[49m\u001b[38;5;28;43mself\u001b[39;49m\u001b[38;5;241;43m.\u001b[39;49m\u001b[43mpid\u001b[49m\u001b[43m,\u001b[49m\u001b[43m \u001b[49m\u001b[43mwait_flags\u001b[49m\u001b[43m)\u001b[49m\n\u001b[1;32m   1918\u001b[0m \u001b[38;5;28;01mexcept\u001b[39;00m \u001b[38;5;167;01mChildProcessError\u001b[39;00m:\n\u001b[1;32m   1919\u001b[0m     \u001b[38;5;66;03m# This happens if SIGCLD is set to be ignored or waiting\u001b[39;00m\n\u001b[1;32m   1920\u001b[0m     \u001b[38;5;66;03m# for child processes has otherwise been disabled for our\u001b[39;00m\n\u001b[1;32m   1921\u001b[0m     \u001b[38;5;66;03m# process.  This child is dead, we can't get the status.\u001b[39;00m\n\u001b[1;32m   1922\u001b[0m     pid \u001b[38;5;241m=\u001b[39m \u001b[38;5;28mself\u001b[39m\u001b[38;5;241m.\u001b[39mpid\n",
      "\u001b[0;31mKeyboardInterrupt\u001b[0m: "
     ]
    }
   ],
   "source": [
    "def rotate_and_crop(image_path,rotating_angle=0,crop_size=50):\n",
    "    with fits.open(image_path) as hdu:\n",
    "\n",
    "        rot = rotate(hdu[0].data, \n",
    "                    angle=rotating_angle, \n",
    "                    reshape=False, \n",
    "                    mode='constant')\n",
    "        \n",
    "        center_x, center_y = np.array(hdu[0].data.shape) // 2\n",
    "        half_crop = crop_size // 2\n",
    "        cropped_data = rot[\n",
    "            center_y - half_crop : center_y + half_crop,\n",
    "            center_x - half_crop : center_x + half_crop]\n",
    "        image = fits.ImageHDU(data=cropped_data, header=hdu[0].header)\n",
    "    return image\n",
    "\n",
    "#using tinytim and rotate to generate single psf\n",
    "def gen_psf(obj,exist_skip=False):\n",
    "    #try:\n",
    "\n",
    "    #path to save individual psf and combined psf\n",
    "    save_path          = f\"psf/individual_psf/{obj['subfield']}_{obj['id']}\"\n",
    "    save_path_combined = f\"psf/combined_psf/{obj['subfield']}_{obj['id']}\"\n",
    "\n",
    "    if os.path.exists(save_path) and exist_skip==True: \n",
    "        clear_output(wait=True)\n",
    "        return f\"{obj['subfield']}_{obj['id']} skipped\"\n",
    "\n",
    "    #load parameter table\n",
    "    param_table = Table.read(f\"psf/obj_param/{obj['subfield']}_{obj['id']}_psf.fits\")\n",
    "    #use integration time as weight\n",
    "    int_time = np.array(param_table['DELTATIM'])\n",
    "    weights = int_time/np.sum(int_time)\n",
    "    #psf_lis to contain individual psf\n",
    "    psf_lis = fits.HDUList(); psf_lis.append(fits.PrimaryHDU())\n",
    "    #_combine to store weighted average\n",
    "    ha_combine = fits.ImageHDU(data=np.zeros((50,50)));hb_combine = fits.ImageHDU(data=np.zeros((50,50)))\n",
    "    \n",
    "    #calculate for each individual beam file:\n",
    "    for i,row in tqdm(enumerate(param_table)):\n",
    "        print(row)\n",
    "        identifier, rootname, pad, filter, pa ,focus, coord_ha, coord_hb, wavelen_ha, wavelen_hb, deltatim = row\n",
    "\n",
    "#------------------this part generate and rotate individual psf--------------------------------\n",
    "        #ha\n",
    "        filename_ha = f\"psf/individual_psf/{identifier.split('_')[2]}_ha.fits\"\n",
    "        tinytim.make_subsampled_model_psf(filename=filename_ha,\n",
    "                            psf_size = 4,\n",
    "                            filter_name = filter,\n",
    "                            focus = focus,  \n",
    "                            psf_position = coord_ha,\n",
    "                            mono = wavelen_ha,\n",
    "                            subsampling_factor = 2)\n",
    "        ha_psf = rotate_and_crop(filename_ha,-pa)\n",
    "        ha_psf.name= f'{rootname}_ha'\n",
    "        ha_combine.data += ha_psf.data * weights[i]\n",
    "        #hb\n",
    "        filename_hb = f\"psf/individual_psf/{identifier.split('_')[2]}_hb.fits\"\n",
    "        tinytim.make_subsampled_model_psf(filename=filename_hb,\n",
    "                            psf_size = 4,\n",
    "                            filter_name = filter,\n",
    "                            focus = focus,  \n",
    "                            psf_position = coord_hb,\n",
    "                            mono = wavelen_hb,\n",
    "                            subsampling_factor = 2)\n",
    "        hb_psf = rotate_and_crop(filename_hb,-pa)\n",
    "        hb_psf.name = f'{rootname}_hb'\n",
    "        hb_combine.data += hb_psf.data * weights[i]\n",
    "#-----------------------------------------------------------------------------------------------\n",
    "\n",
    "        #normalization and append individual psf\n",
    "        ha_psf.data = ha_psf.data/np.sum(ha_psf.data)\n",
    "        hb_psf.data = hb_psf.data/np.sum(hb_psf.data)\n",
    "        psf_lis.append(ha_psf);psf_lis.append(hb_psf)\n",
    "        os.remove(filename_ha);os.remove(filename_hb)\n",
    "\n",
    "    #save combined & individual psf\n",
    "    psf_lis.append(ha_combine);psf_lis.append(hb_combine)\n",
    "    psf_lis.writeto(f'{save_path}_psf.fits',overwrite=True)\n",
    "    ha_combine.writeto(f'{save_path_combined}_ha.fits',overwrite=True)\n",
    "    hb_combine.writeto(f'{save_path_combined}_hb.fits',overwrite=True)\n",
    "\n",
    "    #clear output and return\n",
    "    clear_output(wait=True)\n",
    "    return f\"{obj['subfield']}_{obj['id']} processed\"\n",
    "\n",
    "    #except Exception as e:\n",
    "    #    return f\"!error {obj['subfield']}_{obj['id']}:{e}\"\n",
    "\n",
    "\n",
    "\n",
    "from concurrent.futures     import ThreadPoolExecutor, as_completed\n",
    "def cat_process_gen_psf_input_param(obj_lis,max_threads=1):\n",
    "    #make directories:\n",
    "    os.makedirs('psf/individual_psf',exist_ok=True)\n",
    "    os.makedirs('psf/combined_psf',exist_ok=True)  \n",
    "    results = []\n",
    "    if max_threads>1:\n",
    "        with ThreadPoolExecutor(max_threads) as executor:\n",
    "            futures = {executor.submit(gen_psf,obj):obj for obj in obj_lis}\n",
    "            for future in tqdm(as_completed(futures), total=len(obj_lis), desc=\"Processing\"):\n",
    "                results.append(future.result())\n",
    "        return results\n",
    "    else:\n",
    "        for obj in tqdm(obj_lis):\n",
    "            results.append(gen_psf(obj))\n",
    "        return results\n",
    "\n",
    "\n",
    "if __name__ == '__main__':\n",
    "    obj_lis = Table.read('obj_lis_selected.fits')\n",
    "    results = cat_process_gen_psf_input_param(obj_lis,max_threads=1)\n",
    "    number = 0\n",
    "    for result in results:\n",
    "        if 'error' in result:\n",
    "            number +=1\n",
    "            print(result)\n",
    "    print('total number of obj processed:',len(results))\n",
    "    print('number of failed obj',number)"
   ]
  },
  {
   "cell_type": "markdown",
   "metadata": {},
   "source": [
    "### matching psf + hb convolving"
   ]
  },
  {
   "cell_type": "code",
   "execution_count": 4,
   "metadata": {},
   "outputs": [
    {
     "name": "stderr",
     "output_type": "stream",
     "text": [
      "Processing: 100%|██████████| 158/158 [01:00<00:00,  2.61it/s]"
     ]
    },
    {
     "name": "stdout",
     "output_type": "stream",
     "text": [
      "total number of obj processed: 158\n",
      "number of failed obj 0\n"
     ]
    },
    {
     "name": "stderr",
     "output_type": "stream",
     "text": [
      "\n"
     ]
    }
   ],
   "source": [
    "from    photutils.psf       import matching as match\n",
    "from    astropy.convolution import convolve_fft \n",
    "\n",
    "#find specific entry in the hdu\n",
    "def find_data(name,hdu):\n",
    "    for i,image in enumerate(hdu):\n",
    "        if name == image.name:\n",
    "            return i,image\n",
    "\n",
    "#generate matching kernel for psf_ha & psf_hb\n",
    "def gen_kernel(psf_hb,psf_ha):\n",
    "        window = match.CosineBellWindow(alpha=1.3)\n",
    "        kernel = fits.ImageHDU(\n",
    "                data = match.create_matching_kernel(psf_hb.data,psf_ha.data,window=window),\n",
    "                name = 'PSF_MATCH')\n",
    "        kernel.data = kernel.data/np.sum(kernel.data)\n",
    "        return kernel\n",
    "\n",
    "def save_update(image_to_save,extracted):\n",
    "        for i,image in enumerate(extracted):\n",
    "            if image.name == image_to_save.name:\n",
    "                extracted[i] = image_to_save\n",
    "                return extracted\n",
    "        extracted.append(image_to_save)\n",
    "        extracted.flush()\n",
    "        return extracted\n",
    "\n",
    "def match_psf(obj):\n",
    "    print(obj)\n",
    "    #path for extracted hdu list and combined psf\n",
    "    path        = f\"data_extracted/{file_name(obj,prefix='extracted')}\"\n",
    "    path_to_psf = f\"psf/combined_psf/{obj['subfield']}_{obj['id']}\"\n",
    "\n",
    "    #open and update extracted file, add psf_kernel\n",
    "    with fits.open(path,mode='update') as extracted:\n",
    "        psf_ha = fits.open(f'{path_to_psf}_ha.fits')[1]\n",
    "        psf_hb = fits.open(f'{path_to_psf}_hb.fits')[1]\n",
    "        kernel = gen_kernel(psf_hb,psf_ha)\n",
    "        \n",
    "        #convolve hb linemap\n",
    "        hb     = find_data('LINE_HB',extracted)[1]\n",
    "        hb_convolve = fits.ImageHDU(data = convolve_fft(hb.data,kernel.data),\n",
    "        header = hb.header,name = 'LINE_HB_CONV')\n",
    "\n",
    "        #cnvolve hb weight map\n",
    "        hb_wht = find_data('LINEWHT_HB',extracted)[1]\n",
    "        hb_wht_convolve = fits.ImageHDU(data = convolve_fft(hb_wht.data,kernel.data),\n",
    "        header = hb_wht.header,name = 'LINEWHT_HB_CONV')\n",
    "\n",
    "        #also do a background subtraction for the convoled image\n",
    "        hb_convolve_bg = fits.ImageHDU(data = hb_convolve.data - np.median(hb_convolve.data),\n",
    "        header = hb.header,name = 'LINE_HB_CONV_BG')\n",
    "\n",
    "        # either update or add data to HDUlist\n",
    "        extracted = save_update(kernel          ,extracted)\n",
    "        extracted = save_update(hb_convolve     ,extracted)\n",
    "        extracted = save_update(hb_wht_convolve ,extracted)\n",
    "        extracted = save_update(hb_convolve_bg  ,extracted)\n",
    "\n",
    "        \n",
    "        #update\n",
    "        extracted.flush()\n",
    "        clear_output(wait=True)\n",
    "        return f\"{obj['subfield']}_{obj['id']} processed\"\n",
    "\n",
    "\n",
    "from concurrent.futures     import ThreadPoolExecutor, as_completed\n",
    "def cat_process_match_psf(obj_lis,max_threads=1):\n",
    "    results = []\n",
    "    if max_threads>1:\n",
    "        with ThreadPoolExecutor(max_threads) as executor:\n",
    "            futures = {executor.submit(match_psf,obj):obj for obj in obj_lis}\n",
    "            for future in tqdm(as_completed(futures), total=len(obj_lis), desc=\"Processing\"):\n",
    "                results.append(future.result())\n",
    "        return results\n",
    "    else:\n",
    "        for obj in tqdm(obj_lis):\n",
    "            results.append(match_psf(obj))\n",
    "        return results\n",
    "\n",
    "if __name__ == '__main__':\n",
    "    obj_lis = Table.read('obj_lis_selected.fits')\n",
    "    results = cat_process_match_psf(obj_lis,max_threads=6)\n",
    "    number = 0\n",
    "    for result in results:\n",
    "        if 'error' in result:\n",
    "            number +=1\n",
    "            print(result)\n",
    "    print('total number of obj processed:',len(results))\n",
    "    print('number of failed obj',number)"
   ]
  },
  {
   "cell_type": "markdown",
   "metadata": {},
   "source": [
    "### The focusing info is still needed for best psf generation"
   ]
  },
  {
   "cell_type": "code",
   "execution_count": 18,
   "metadata": {},
   "outputs": [
    {
     "name": "stdout",
     "output_type": "stream",
     "text": [
      " obsID   obs_collection dataproduct_type   obs_id   description  type                 dataURI                  productType productGroupDescription productSubGroupDescription productDocumentationURL project      prvversion     proposal_id     productFilename     size parent_obsid dataRights calib_level filters\n",
      "-------- -------------- ---------------- --------- ------------- ---- ---------------------------------------- ----------- ----------------------- -------------------------- ----------------------- ------- ------------------- ----------- ----------------------- ---- ------------ ---------- ----------- -------\n",
      "23824938            HST            image ib3747aaq DADS FLT_HLET    S mast:HST/product/ib3747aaq_flt_hlet.fits   AUXILIARY                      --                   FLT_HLET                      --  CALWF3 3.7.1 (Oct-18-2023)       11600 ib3747aaq_flt_hlet.fits 8640     26508101     PUBLIC           2   F140W\n",
      " obsID   obs_collection dataproduct_type   obs_id   description  type                 dataURI                  productType productGroupDescription productSubGroupDescription productDocumentationURL project      prvversion     proposal_id     productFilename     size parent_obsid dataRights calib_level filters\n",
      "-------- -------------- ---------------- --------- ------------- ---- ---------------------------------------- ----------- ----------------------- -------------------------- ----------------------- ------- ------------------- ----------- ----------------------- ---- ------------ ---------- ----------- -------\n",
      "23824938            HST            image ib3747aaq DADS FLT_HLET    S mast:HST/product/ib3747aaq_flt_hlet.fits   AUXILIARY                      --                   FLT_HLET                      --  CALWF3 3.7.1 (Oct-18-2023)       11600 ib3747aaq_flt_hlet.fits 8640     26508106     PUBLIC           2   F140W\n",
      " obsID   obs_collection dataproduct_type   obs_id                      description                     type               dataURI               productType productGroupDescription productSubGroupDescription productDocumentationURL project      prvversion     proposal_id  productFilename      size   parent_obsid dataRights calib_level filters\n",
      "-------- -------------- ---------------- --------- --------------------------------------------------- ---- ----------------------------------- ----------- ----------------------- -------------------------- ----------------------- ------- ------------------- ----------- ------------------ --------- ------------ ---------- ----------- -------\n",
      "23824938            HST            image ib3747aaq DADS IMA file - Intermediate Mult-Accum WFC3/NICMOS    S mast:HST/product/ib3747aaq_ima.fits   AUXILIARY                      --                        IMA                      --  CALWF3 3.7.1 (Oct-18-2023)       11600 ib3747aaq_ima.fits 105171840     26508101     PUBLIC           2   F140W\n",
      " obsID   obs_collection dataproduct_type   obs_id                      description                     type               dataURI               productType productGroupDescription productSubGroupDescription productDocumentationURL project      prvversion     proposal_id  productFilename      size   parent_obsid dataRights calib_level filters\n",
      "-------- -------------- ---------------- --------- --------------------------------------------------- ---- ----------------------------------- ----------- ----------------------- -------------------------- ----------------------- ------- ------------------- ----------- ------------------ --------- ------------ ---------- ----------- -------\n",
      "23824938            HST            image ib3747aaq DADS IMA file - Intermediate Mult-Accum WFC3/NICMOS    S mast:HST/product/ib3747aaq_ima.fits   AUXILIARY                      --                        IMA                      --  CALWF3 3.7.1 (Oct-18-2023)       11600 ib3747aaq_ima.fits 105171840     26508106     PUBLIC           2   F140W\n",
      " obsID   obs_collection dataproduct_type   obs_id                           description                           type               dataURI               productType productGroupDescription productSubGroupDescription productDocumentationURL project prvversion proposal_id  productFilename    size  parent_obsid dataRights calib_level filters\n",
      "-------- -------------- ---------------- --------- -------------------------------------------------------------- ---- ----------------------------------- ----------- ----------------------- -------------------------- ----------------------- ------- ---------- ----------- ------------------ ------ ------------ ---------- ----------- -------\n",
      "23824938            HST            image ib3747aaq DADS SPT file - Engineering telemetry ACS/WFC3/NICMOS/COS/STIS    S mast:HST/product/ib3747aaq_spt.fits   AUXILIARY                      --                        SPT                      --  CALWF3         --       11600 ib3747aaq_spt.fits 777600     26508101     PUBLIC           1   F140W\n",
      " obsID   obs_collection dataproduct_type   obs_id                           description                           type               dataURI               productType productGroupDescription productSubGroupDescription productDocumentationURL project prvversion proposal_id  productFilename    size  parent_obsid dataRights calib_level filters\n",
      "-------- -------------- ---------------- --------- -------------------------------------------------------------- ---- ----------------------------------- ----------- ----------------------- -------------------------- ----------------------- ------- ---------- ----------- ------------------ ------ ------------ ---------- ----------- -------\n",
      "23824938            HST            image ib3747aaq DADS SPT file - Engineering telemetry ACS/WFC3/NICMOS/COS/STIS    S mast:HST/product/ib3747aaq_spt.fits   AUXILIARY                      --                        SPT                      --  CALWF3         --       11600 ib3747aaq_spt.fits 777600     26508106     PUBLIC           1   F140W\n",
      " obsID   obs_collection dataproduct_type   obs_id           description           type               dataURI               productType productGroupDescription productSubGroupDescription productDocumentationURL project prvversion proposal_id  productFilename    size parent_obsid dataRights calib_level filters\n",
      "-------- -------------- ---------------- --------- ------------------------------ ---- ----------------------------------- ----------- ----------------------- -------------------------- ----------------------- ------- ---------- ----------- ------------------ ----- ------------ ---------- ----------- -------\n",
      "23824938            HST            image ib3747aaq DADS TRL file - Processing log    S mast:HST/product/ib3747aaq_trl.fits   AUXILIARY                      --                        TRL                      --  CALWF3         --       11600 ib3747aaq_trl.fits 25920     26508101     PUBLIC           1   F140W\n",
      " obsID   obs_collection dataproduct_type   obs_id           description           type               dataURI               productType productGroupDescription productSubGroupDescription productDocumentationURL project prvversion proposal_id  productFilename    size parent_obsid dataRights calib_level filters\n",
      "-------- -------------- ---------------- --------- ------------------------------ ---- ----------------------------------- ----------- ----------------------- -------------------------- ----------------------- ------- ---------- ----------- ------------------ ----- ------------ ---------- ----------- -------\n",
      "23824938            HST            image ib3747aaq DADS TRL file - Processing log    S mast:HST/product/ib3747aaq_trl.fits   AUXILIARY                      --                        TRL                      --  CALWF3         --       11600 ib3747aaq_trl.fits 25920     26508106     PUBLIC           1   F140W\n",
      " obsID   obs_collection dataproduct_type   obs_id   description  type              dataURI               productType productGroupDescription productSubGroupDescription productDocumentationURL project prvversion proposal_id  productFilename  size parent_obsid dataRights calib_level filters\n",
      "-------- -------------- ---------------- --------- ------------- ---- ---------------------------------- ----------- ----------------------- -------------------------- ----------------------- ------- ---------- ----------- ----------------- ---- ------------ ---------- ----------- -------\n",
      "23824938            HST            image ib3747aaq DADS LOG file    S mast:HST/product/ib3747aaq_log.txt        INFO                      --                        LOG                      --  CALWF3         --       11600 ib3747aaq_log.txt 6835     26508101     PUBLIC           1   F140W\n",
      " obsID   obs_collection dataproduct_type   obs_id   description  type              dataURI               productType productGroupDescription productSubGroupDescription productDocumentationURL project prvversion proposal_id  productFilename  size parent_obsid dataRights calib_level filters\n",
      "-------- -------------- ---------------- --------- ------------- ---- ---------------------------------- ----------- ----------------------- -------------------------- ----------------------- ------- ---------- ----------- ----------------- ---- ------------ ---------- ----------- -------\n",
      "23824938            HST            image ib3747aaq DADS LOG file    S mast:HST/product/ib3747aaq_log.txt        INFO                      --                        LOG                      --  CALWF3         --       11600 ib3747aaq_log.txt 6835     26508106     PUBLIC           1   F140W\n",
      " obsID   obs_collection dataproduct_type   obs_id  description  type              dataURI               productType productGroupDescription productSubGroupDescription productDocumentationURL project prvversion proposal_id  productFilename   size  parent_obsid dataRights calib_level filters\n",
      "-------- -------------- ---------------- --------- ------------ ---- ---------------------------------- ----------- ----------------------- -------------------------- ----------------------- ------- ---------- ----------- ----------------- ------ ------------ ---------- ----------- -------\n",
      "23824938            HST            image ib3747aaq Preview-Full    S mast:HST/product/ib3747aaq_raw.jpg     PREVIEW                      --                         --                      --  CALWF3         --       11600 ib3747aaq_raw.jpg 246342     26508101     PUBLIC           1   F140W\n",
      " obsID   obs_collection dataproduct_type   obs_id  description  type              dataURI               productType productGroupDescription productSubGroupDescription productDocumentationURL project prvversion proposal_id  productFilename   size  parent_obsid dataRights calib_level filters\n",
      "-------- -------------- ---------------- --------- ------------ ---- ---------------------------------- ----------- ----------------------- -------------------------- ----------------------- ------- ---------- ----------- ----------------- ------ ------------ ---------- ----------- -------\n",
      "23824938            HST            image ib3747aaq Preview-Full    S mast:HST/product/ib3747aaq_raw.jpg     PREVIEW                      --                         --                      --  CALWF3         --       11600 ib3747aaq_raw.jpg 246342     26508106     PUBLIC           1   F140W\n",
      " obsID   obs_collection dataproduct_type   obs_id  description  type              dataURI               productType productGroupDescription productSubGroupDescription productDocumentationURL project      prvversion     proposal_id  productFilename   size  parent_obsid dataRights calib_level filters\n",
      "-------- -------------- ---------------- --------- ------------ ---- ---------------------------------- ----------- ----------------------- -------------------------- ----------------------- ------- ------------------- ----------- ----------------- ------ ------------ ---------- ----------- -------\n",
      "23824938            HST            image ib3747aaq Preview-Full    S mast:HST/product/ib3747aaq_flt.jpg     PREVIEW                      --                         --                      --  CALWF3 3.7.1 (Oct-18-2023)       11600 ib3747aaq_flt.jpg 310005     26508101     PUBLIC           2   F140W\n",
      " obsID   obs_collection dataproduct_type   obs_id  description  type              dataURI               productType productGroupDescription productSubGroupDescription productDocumentationURL project      prvversion     proposal_id  productFilename   size  parent_obsid dataRights calib_level filters\n",
      "-------- -------------- ---------------- --------- ------------ ---- ---------------------------------- ----------- ----------------------- -------------------------- ----------------------- ------- ------------------- ----------- ----------------- ------ ------------ ---------- ----------- -------\n",
      "23824938            HST            image ib3747aaq Preview-Full    S mast:HST/product/ib3747aaq_flt.jpg     PREVIEW                      --                         --                      --  CALWF3 3.7.1 (Oct-18-2023)       11600 ib3747aaq_flt.jpg 310005     26508106     PUBLIC           2   F140W\n",
      " obsID   obs_collection dataproduct_type   obs_id                       description                      type               dataURI               productType productGroupDescription productSubGroupDescription productDocumentationURL project      prvversion     proposal_id  productFilename     size   parent_obsid dataRights calib_level filters\n",
      "-------- -------------- ---------------- --------- ----------------------------------------------------- ---- ----------------------------------- ----------- ----------------------- -------------------------- ----------------------- ------- ------------------- ----------- ------------------ -------- ------------ ---------- ----------- -------\n",
      "23824938            HST            image ib3747aaq DADS FLT file - Calibrated exposure ACS/WFC3/STIS/COS    S mast:HST/product/ib3747aaq_flt.fits     SCIENCE                      --                        FLT                      --  CALWF3 3.7.1 (Oct-18-2023)       11600 ib3747aaq_flt.fits 16583040     26508101     PUBLIC           2   F140W\n",
      " obsID   obs_collection dataproduct_type   obs_id                       description                      type               dataURI               productType productGroupDescription productSubGroupDescription productDocumentationURL project      prvversion     proposal_id  productFilename     size   parent_obsid dataRights calib_level filters\n",
      "-------- -------------- ---------------- --------- ----------------------------------------------------- ---- ----------------------------------- ----------- ----------------------- -------------------------- ----------------------- ------- ------------------- ----------- ------------------ -------- ------------ ---------- ----------- -------\n",
      "23824938            HST            image ib3747aaq DADS FLT file - Calibrated exposure ACS/WFC3/STIS/COS    S mast:HST/product/ib3747aaq_flt.fits     SCIENCE                      --                        FLT                      --  CALWF3 3.7.1 (Oct-18-2023)       11600 ib3747aaq_flt.fits 16583040     26508106     PUBLIC           2   F140W\n",
      " obsID   obs_collection dataproduct_type   obs_id                       description                      type               dataURI               productType productGroupDescription productSubGroupDescription productDocumentationURL project prvversion proposal_id  productFilename     size   parent_obsid dataRights calib_level filters\n",
      "-------- -------------- ---------------- --------- ----------------------------------------------------- ---- ----------------------------------- ----------- ----------------------- -------------------------- ----------------------- ------- ---------- ----------- ------------------ -------- ------------ ---------- ----------- -------\n",
      "23824938            HST            image ib3747aaq DADS RAW file - Raw exposure COS/NICMOS/STIS/WFC3/ACS    S mast:HST/product/ib3747aaq_raw.fits     SCIENCE                      --                        RAW                      --  CALWF3         --       11600 ib3747aaq_raw.fits 21274560     26508101     PUBLIC           1   F140W\n",
      " obsID   obs_collection dataproduct_type   obs_id                       description                      type               dataURI               productType productGroupDescription productSubGroupDescription productDocumentationURL project prvversion proposal_id  productFilename     size   parent_obsid dataRights calib_level filters\n",
      "-------- -------------- ---------------- --------- ----------------------------------------------------- ---- ----------------------------------- ----------- ----------------------- -------------------------- ----------------------- ------- ---------- ----------- ------------------ -------- ------------ ---------- ----------- -------\n",
      "23824938            HST            image ib3747aaq DADS RAW file - Raw exposure COS/NICMOS/STIS/WFC3/ACS    S mast:HST/product/ib3747aaq_raw.fits     SCIENCE                      --                        RAW                      --  CALWF3         --       11600 ib3747aaq_raw.fits 21274560     26508106     PUBLIC           1   F140W\n",
      " obsID   obs_collection dataproduct_type   obs_id   description  type                 dataURI                  productType productGroupDescription productSubGroupDescription productDocumentationURL project      prvversion     proposal_id     productFilename     size parent_obsid dataRights calib_level filters\n",
      "-------- -------------- ---------------- --------- ------------- ---- ---------------------------------------- ----------- ----------------------- -------------------------- ----------------------- ------- ------------------- ----------- ----------------------- ---- ------------ ---------- ----------- -------\n",
      "23824941            HST            image ib3747zbq DADS FLT_HLET    S mast:HST/product/ib3747zbq_flt_hlet.fits   AUXILIARY                      --                   FLT_HLET                      --  CALWF3 3.7.1 (Oct-18-2023)       11600 ib3747zbq_flt_hlet.fits 8640     26508101     PUBLIC           2   F140W\n",
      " obsID   obs_collection dataproduct_type   obs_id   description  type                 dataURI                  productType productGroupDescription productSubGroupDescription productDocumentationURL project      prvversion     proposal_id     productFilename     size parent_obsid dataRights calib_level filters\n",
      "-------- -------------- ---------------- --------- ------------- ---- ---------------------------------------- ----------- ----------------------- -------------------------- ----------------------- ------- ------------------- ----------- ----------------------- ---- ------------ ---------- ----------- -------\n",
      "23824941            HST            image ib3747zbq DADS FLT_HLET    S mast:HST/product/ib3747zbq_flt_hlet.fits   AUXILIARY                      --                   FLT_HLET                      --  CALWF3 3.7.1 (Oct-18-2023)       11600 ib3747zbq_flt_hlet.fits 8640     26508106     PUBLIC           2   F140W\n",
      " obsID   obs_collection dataproduct_type   obs_id                      description                     type               dataURI               productType productGroupDescription productSubGroupDescription productDocumentationURL project      prvversion     proposal_id  productFilename      size   parent_obsid dataRights calib_level filters\n",
      "-------- -------------- ---------------- --------- --------------------------------------------------- ---- ----------------------------------- ----------- ----------------------- -------------------------- ----------------------- ------- ------------------- ----------- ------------------ --------- ------------ ---------- ----------- -------\n",
      "23824941            HST            image ib3747zbq DADS IMA file - Intermediate Mult-Accum WFC3/NICMOS    S mast:HST/product/ib3747zbq_ima.fits   AUXILIARY                      --                        IMA                      --  CALWF3 3.7.1 (Oct-18-2023)       11600 ib3747zbq_ima.fits 105171840     26508101     PUBLIC           2   F140W\n",
      " obsID   obs_collection dataproduct_type   obs_id                      description                     type               dataURI               productType productGroupDescription productSubGroupDescription productDocumentationURL project      prvversion     proposal_id  productFilename      size   parent_obsid dataRights calib_level filters\n",
      "-------- -------------- ---------------- --------- --------------------------------------------------- ---- ----------------------------------- ----------- ----------------------- -------------------------- ----------------------- ------- ------------------- ----------- ------------------ --------- ------------ ---------- ----------- -------\n",
      "23824941            HST            image ib3747zbq DADS IMA file - Intermediate Mult-Accum WFC3/NICMOS    S mast:HST/product/ib3747zbq_ima.fits   AUXILIARY                      --                        IMA                      --  CALWF3 3.7.1 (Oct-18-2023)       11600 ib3747zbq_ima.fits 105171840     26508106     PUBLIC           2   F140W\n",
      " obsID   obs_collection dataproduct_type   obs_id                           description                           type               dataURI               productType productGroupDescription productSubGroupDescription productDocumentationURL project prvversion proposal_id  productFilename    size  parent_obsid dataRights calib_level filters\n",
      "-------- -------------- ---------------- --------- -------------------------------------------------------------- ---- ----------------------------------- ----------- ----------------------- -------------------------- ----------------------- ------- ---------- ----------- ------------------ ------ ------------ ---------- ----------- -------\n",
      "23824941            HST            image ib3747zbq DADS SPT file - Engineering telemetry ACS/WFC3/NICMOS/COS/STIS    S mast:HST/product/ib3747zbq_spt.fits   AUXILIARY                      --                        SPT                      --  CALWF3         --       11600 ib3747zbq_spt.fits 777600     26508101     PUBLIC           1   F140W\n",
      " obsID   obs_collection dataproduct_type   obs_id                           description                           type               dataURI               productType productGroupDescription productSubGroupDescription productDocumentationURL project prvversion proposal_id  productFilename    size  parent_obsid dataRights calib_level filters\n",
      "-------- -------------- ---------------- --------- -------------------------------------------------------------- ---- ----------------------------------- ----------- ----------------------- -------------------------- ----------------------- ------- ---------- ----------- ------------------ ------ ------------ ---------- ----------- -------\n",
      "23824941            HST            image ib3747zbq DADS SPT file - Engineering telemetry ACS/WFC3/NICMOS/COS/STIS    S mast:HST/product/ib3747zbq_spt.fits   AUXILIARY                      --                        SPT                      --  CALWF3         --       11600 ib3747zbq_spt.fits 777600     26508106     PUBLIC           1   F140W\n",
      " obsID   obs_collection dataproduct_type   obs_id           description           type               dataURI               productType productGroupDescription productSubGroupDescription productDocumentationURL project prvversion proposal_id  productFilename    size parent_obsid dataRights calib_level filters\n",
      "-------- -------------- ---------------- --------- ------------------------------ ---- ----------------------------------- ----------- ----------------------- -------------------------- ----------------------- ------- ---------- ----------- ------------------ ----- ------------ ---------- ----------- -------\n",
      "23824941            HST            image ib3747zbq DADS TRL file - Processing log    S mast:HST/product/ib3747zbq_trl.fits   AUXILIARY                      --                        TRL                      --  CALWF3         --       11600 ib3747zbq_trl.fits 25920     26508101     PUBLIC           1   F140W\n",
      " obsID   obs_collection dataproduct_type   obs_id           description           type               dataURI               productType productGroupDescription productSubGroupDescription productDocumentationURL project prvversion proposal_id  productFilename    size parent_obsid dataRights calib_level filters\n",
      "-------- -------------- ---------------- --------- ------------------------------ ---- ----------------------------------- ----------- ----------------------- -------------------------- ----------------------- ------- ---------- ----------- ------------------ ----- ------------ ---------- ----------- -------\n",
      "23824941            HST            image ib3747zbq DADS TRL file - Processing log    S mast:HST/product/ib3747zbq_trl.fits   AUXILIARY                      --                        TRL                      --  CALWF3         --       11600 ib3747zbq_trl.fits 25920     26508106     PUBLIC           1   F140W\n",
      " obsID   obs_collection dataproduct_type   obs_id   description  type              dataURI               productType productGroupDescription productSubGroupDescription productDocumentationURL project prvversion proposal_id  productFilename  size parent_obsid dataRights calib_level filters\n",
      "-------- -------------- ---------------- --------- ------------- ---- ---------------------------------- ----------- ----------------------- -------------------------- ----------------------- ------- ---------- ----------- ----------------- ---- ------------ ---------- ----------- -------\n",
      "23824941            HST            image ib3747zbq DADS LOG file    S mast:HST/product/ib3747zbq_log.txt        INFO                      --                        LOG                      --  CALWF3         --       11600 ib3747zbq_log.txt 7160     26508101     PUBLIC           1   F140W\n",
      " obsID   obs_collection dataproduct_type   obs_id   description  type              dataURI               productType productGroupDescription productSubGroupDescription productDocumentationURL project prvversion proposal_id  productFilename  size parent_obsid dataRights calib_level filters\n",
      "-------- -------------- ---------------- --------- ------------- ---- ---------------------------------- ----------- ----------------------- -------------------------- ----------------------- ------- ---------- ----------- ----------------- ---- ------------ ---------- ----------- -------\n",
      "23824941            HST            image ib3747zbq DADS LOG file    S mast:HST/product/ib3747zbq_log.txt        INFO                      --                        LOG                      --  CALWF3         --       11600 ib3747zbq_log.txt 7160     26508106     PUBLIC           1   F140W\n",
      " obsID   obs_collection dataproduct_type   obs_id  description  type              dataURI               productType productGroupDescription productSubGroupDescription productDocumentationURL project prvversion proposal_id  productFilename   size  parent_obsid dataRights calib_level filters\n",
      "-------- -------------- ---------------- --------- ------------ ---- ---------------------------------- ----------- ----------------------- -------------------------- ----------------------- ------- ---------- ----------- ----------------- ------ ------------ ---------- ----------- -------\n",
      "23824941            HST            image ib3747zbq Preview-Full    S mast:HST/product/ib3747zbq_raw.jpg     PREVIEW                      --                         --                      --  CALWF3         --       11600 ib3747zbq_raw.jpg 246708     26508101     PUBLIC           1   F140W\n",
      " obsID   obs_collection dataproduct_type   obs_id  description  type              dataURI               productType productGroupDescription productSubGroupDescription productDocumentationURL project prvversion proposal_id  productFilename   size  parent_obsid dataRights calib_level filters\n",
      "-------- -------------- ---------------- --------- ------------ ---- ---------------------------------- ----------- ----------------------- -------------------------- ----------------------- ------- ---------- ----------- ----------------- ------ ------------ ---------- ----------- -------\n",
      "23824941            HST            image ib3747zbq Preview-Full    S mast:HST/product/ib3747zbq_raw.jpg     PREVIEW                      --                         --                      --  CALWF3         --       11600 ib3747zbq_raw.jpg 246708     26508106     PUBLIC           1   F140W\n",
      " obsID   obs_collection dataproduct_type   obs_id  description  type              dataURI               productType productGroupDescription productSubGroupDescription productDocumentationURL project      prvversion     proposal_id  productFilename   size  parent_obsid dataRights calib_level filters\n",
      "-------- -------------- ---------------- --------- ------------ ---- ---------------------------------- ----------- ----------------------- -------------------------- ----------------------- ------- ------------------- ----------- ----------------- ------ ------------ ---------- ----------- -------\n",
      "23824941            HST            image ib3747zbq Preview-Full    S mast:HST/product/ib3747zbq_flt.jpg     PREVIEW                      --                         --                      --  CALWF3 3.7.1 (Oct-18-2023)       11600 ib3747zbq_flt.jpg 315330     26508101     PUBLIC           2   F140W\n",
      " obsID   obs_collection dataproduct_type   obs_id  description  type              dataURI               productType productGroupDescription productSubGroupDescription productDocumentationURL project      prvversion     proposal_id  productFilename   size  parent_obsid dataRights calib_level filters\n",
      "-------- -------------- ---------------- --------- ------------ ---- ---------------------------------- ----------- ----------------------- -------------------------- ----------------------- ------- ------------------- ----------- ----------------- ------ ------------ ---------- ----------- -------\n",
      "23824941            HST            image ib3747zbq Preview-Full    S mast:HST/product/ib3747zbq_flt.jpg     PREVIEW                      --                         --                      --  CALWF3 3.7.1 (Oct-18-2023)       11600 ib3747zbq_flt.jpg 315330     26508106     PUBLIC           2   F140W\n",
      " obsID   obs_collection dataproduct_type   obs_id                       description                      type               dataURI               productType productGroupDescription productSubGroupDescription productDocumentationURL project      prvversion     proposal_id  productFilename     size   parent_obsid dataRights calib_level filters\n",
      "-------- -------------- ---------------- --------- ----------------------------------------------------- ---- ----------------------------------- ----------- ----------------------- -------------------------- ----------------------- ------- ------------------- ----------- ------------------ -------- ------------ ---------- ----------- -------\n",
      "23824941            HST            image ib3747zbq DADS FLT file - Calibrated exposure ACS/WFC3/STIS/COS    S mast:HST/product/ib3747zbq_flt.fits     SCIENCE                      --                        FLT                      --  CALWF3 3.7.1 (Oct-18-2023)       11600 ib3747zbq_flt.fits 16583040     26508101     PUBLIC           2   F140W\n",
      " obsID   obs_collection dataproduct_type   obs_id                       description                      type               dataURI               productType productGroupDescription productSubGroupDescription productDocumentationURL project      prvversion     proposal_id  productFilename     size   parent_obsid dataRights calib_level filters\n",
      "-------- -------------- ---------------- --------- ----------------------------------------------------- ---- ----------------------------------- ----------- ----------------------- -------------------------- ----------------------- ------- ------------------- ----------- ------------------ -------- ------------ ---------- ----------- -------\n",
      "23824941            HST            image ib3747zbq DADS FLT file - Calibrated exposure ACS/WFC3/STIS/COS    S mast:HST/product/ib3747zbq_flt.fits     SCIENCE                      --                        FLT                      --  CALWF3 3.7.1 (Oct-18-2023)       11600 ib3747zbq_flt.fits 16583040     26508106     PUBLIC           2   F140W\n",
      " obsID   obs_collection dataproduct_type   obs_id                       description                      type               dataURI               productType productGroupDescription productSubGroupDescription productDocumentationURL project prvversion proposal_id  productFilename     size   parent_obsid dataRights calib_level filters\n",
      "-------- -------------- ---------------- --------- ----------------------------------------------------- ---- ----------------------------------- ----------- ----------------------- -------------------------- ----------------------- ------- ---------- ----------- ------------------ -------- ------------ ---------- ----------- -------\n",
      "23824941            HST            image ib3747zbq DADS RAW file - Raw exposure COS/NICMOS/STIS/WFC3/ACS    S mast:HST/product/ib3747zbq_raw.fits     SCIENCE                      --                        RAW                      --  CALWF3         --       11600 ib3747zbq_raw.fits 21274560     26508101     PUBLIC           1   F140W\n",
      " obsID   obs_collection dataproduct_type   obs_id                       description                      type               dataURI               productType productGroupDescription productSubGroupDescription productDocumentationURL project prvversion proposal_id  productFilename     size   parent_obsid dataRights calib_level filters\n",
      "-------- -------------- ---------------- --------- ----------------------------------------------------- ---- ----------------------------------- ----------- ----------------------- -------------------------- ----------------------- ------- ---------- ----------- ------------------ -------- ------------ ---------- ----------- -------\n",
      "23824941            HST            image ib3747zbq DADS RAW file - Raw exposure COS/NICMOS/STIS/WFC3/ACS    S mast:HST/product/ib3747zbq_raw.fits     SCIENCE                      --                        RAW                      --  CALWF3         --       11600 ib3747zbq_raw.fits 21274560     26508106     PUBLIC           1   F140W\n",
      " obsID   obs_collection dataproduct_type   obs_id                 description                type               dataURI               productType productGroupDescription productSubGroupDescription productDocumentationURL project      prvversion     proposal_id  productFilename    size parent_obsid dataRights calib_level filters\n",
      "-------- -------------- ---------------- --------- ----------------------------------------- ---- ----------------------------------- ----------- ----------------------- -------------------------- ----------------------- ------- ------------------- ----------- ------------------ ----- ------------ ---------- ----------- -------\n",
      "24796065            HST            image ib3747060 DADS ASN file - Association ACS/WFC3/STIS    D mast:HST/product/ib3747060_asn.fits   AUXILIARY                      --                        ASN                      --  CALWF3 3.7.1 (Oct-18-2023)       11600 ib3747060_asn.fits 11520     26508101     PUBLIC           3   F140W\n",
      " obsID   obs_collection dataproduct_type   obs_id                 description                type               dataURI               productType productGroupDescription productSubGroupDescription productDocumentationURL project      prvversion     proposal_id  productFilename    size parent_obsid dataRights calib_level filters\n",
      "-------- -------------- ---------------- --------- ----------------------------------------- ---- ----------------------------------- ----------- ----------------------- -------------------------- ----------------------- ------- ------------------- ----------- ------------------ ----- ------------ ---------- ----------- -------\n",
      "24796065            HST            image ib3747060 DADS ASN file - Association ACS/WFC3/STIS    D mast:HST/product/ib3747060_asn.fits   AUXILIARY                      --                        ASN                      --  CALWF3 3.7.1 (Oct-18-2023)       11600 ib3747060_asn.fits 11520     26508106     PUBLIC           3   F140W\n",
      " obsID   obs_collection dataproduct_type   obs_id   description  type               dataURI               productType productGroupDescription productSubGroupDescription productDocumentationURL project prvversion proposal_id  productFilename    size parent_obsid dataRights calib_level filters\n",
      "-------- -------------- ---------------- --------- ------------- ---- ----------------------------------- ----------- ----------------------- -------------------------- ----------------------- ------- ---------- ----------- ------------------ ----- ------------ ---------- ----------- -------\n",
      "24796065            HST            image ib3747060 DADS JIF file    D mast:HST/product/ib3747060_jif.fits   AUXILIARY                      --                        JIF                      --  CALWF3         --       11600 ib3747060_jif.fits 60480     26508101     PUBLIC           1   F140W\n",
      " obsID   obs_collection dataproduct_type   obs_id   description  type               dataURI               productType productGroupDescription productSubGroupDescription productDocumentationURL project prvversion proposal_id  productFilename    size parent_obsid dataRights calib_level filters\n",
      "-------- -------------- ---------------- --------- ------------- ---- ----------------------------------- ----------- ----------------------- -------------------------- ----------------------- ------- ---------- ----------- ------------------ ----- ------------ ---------- ----------- -------\n",
      "24796065            HST            image ib3747060 DADS JIF file    D mast:HST/product/ib3747060_jif.fits   AUXILIARY                      --                        JIF                      --  CALWF3         --       11600 ib3747060_jif.fits 60480     26508106     PUBLIC           1   F140W\n",
      " obsID   obs_collection dataproduct_type   obs_id   description  type               dataURI               productType productGroupDescription productSubGroupDescription productDocumentationURL project prvversion proposal_id  productFilename    size parent_obsid dataRights calib_level filters\n",
      "-------- -------------- ---------------- --------- ------------- ---- ----------------------------------- ----------- ----------------------- -------------------------- ----------------------- ------- ---------- ----------- ------------------ ----- ------------ ---------- ----------- -------\n",
      "24796065            HST            image ib3747060 DADS JIT file    D mast:HST/product/ib3747060_jit.fits   AUXILIARY                      --                        JIT                      --  CALWF3         --       11600 ib3747060_jit.fits 37440     26508101     PUBLIC           1   F140W\n",
      " obsID   obs_collection dataproduct_type   obs_id   description  type               dataURI               productType productGroupDescription productSubGroupDescription productDocumentationURL project prvversion proposal_id  productFilename    size parent_obsid dataRights calib_level filters\n",
      "-------- -------------- ---------------- --------- ------------- ---- ----------------------------------- ----------- ----------------------- -------------------------- ----------------------- ------- ---------- ----------- ------------------ ----- ------------ ---------- ----------- -------\n",
      "24796065            HST            image ib3747060 DADS JIT file    D mast:HST/product/ib3747060_jit.fits   AUXILIARY                      --                        JIT                      --  CALWF3         --       11600 ib3747060_jit.fits 37440     26508106     PUBLIC           1   F140W\n",
      " obsID   obs_collection dataproduct_type   obs_id                           description                           type               dataURI               productType productGroupDescription productSubGroupDescription productDocumentationURL project prvversion proposal_id  productFilename     size  parent_obsid dataRights calib_level filters\n",
      "-------- -------------- ---------------- --------- -------------------------------------------------------------- ---- ----------------------------------- ----------- ----------------------- -------------------------- ----------------------- ------- ---------- ----------- ------------------ ------- ------------ ---------- ----------- -------\n",
      "24796065            HST            image ib3747060 DADS SPT file - Engineering telemetry ACS/WFC3/NICMOS/COS/STIS    D mast:HST/product/ib3747060_spt.fits   AUXILIARY                      --                        SPT                      --  CALWF3         --       11600 ib3747060_spt.fits 1526400     26508101     PUBLIC           1   F140W\n",
      " obsID   obs_collection dataproduct_type   obs_id                           description                           type               dataURI               productType productGroupDescription productSubGroupDescription productDocumentationURL project prvversion proposal_id  productFilename     size  parent_obsid dataRights calib_level filters\n",
      "-------- -------------- ---------------- --------- -------------------------------------------------------------- ---- ----------------------------------- ----------- ----------------------- -------------------------- ----------------------- ------- ---------- ----------- ------------------ ------- ------------ ---------- ----------- -------\n",
      "24796065            HST            image ib3747060 DADS SPT file - Engineering telemetry ACS/WFC3/NICMOS/COS/STIS    D mast:HST/product/ib3747060_spt.fits   AUXILIARY                      --                        SPT                      --  CALWF3         --       11600 ib3747060_spt.fits 1526400     26508106     PUBLIC           1   F140W\n",
      " obsID   obs_collection dataproduct_type   obs_id           description           type               dataURI               productType productGroupDescription productSubGroupDescription productDocumentationURL project prvversion proposal_id  productFilename    size  parent_obsid dataRights calib_level filters\n",
      "-------- -------------- ---------------- --------- ------------------------------ ---- ----------------------------------- ----------- ----------------------- -------------------------- ----------------------- ------- ---------- ----------- ------------------ ------ ------------ ---------- ----------- -------\n",
      "24796065            HST            image ib3747060 DADS TRL file - Processing log    D mast:HST/product/ib3747060_trl.fits   AUXILIARY                      --                        TRL                      --  CALWF3         --       11600 ib3747060_trl.fits 221760     26508101     PUBLIC           1   F140W\n",
      " obsID   obs_collection dataproduct_type   obs_id           description           type               dataURI               productType productGroupDescription productSubGroupDescription productDocumentationURL project prvversion proposal_id  productFilename    size  parent_obsid dataRights calib_level filters\n",
      "-------- -------------- ---------------- --------- ------------------------------ ---- ----------------------------------- ----------- ----------------------- -------------------------- ----------------------- ------- ---------- ----------- ------------------ ------ ------------ ---------- ----------- -------\n",
      "24796065            HST            image ib3747060 DADS TRL file - Processing log    D mast:HST/product/ib3747060_trl.fits   AUXILIARY                      --                        TRL                      --  CALWF3         --       11600 ib3747060_trl.fits 221760     26508106     PUBLIC           1   F140W\n",
      " obsID   obs_collection dataproduct_type   obs_id   description  type              dataURI               productType productGroupDescription productSubGroupDescription productDocumentationURL project prvversion proposal_id  productFilename   size parent_obsid dataRights calib_level filters\n",
      "-------- -------------- ---------------- --------- ------------- ---- ---------------------------------- ----------- ----------------------- -------------------------- ----------------------- ------- ---------- ----------- ----------------- ----- ------------ ---------- ----------- -------\n",
      "24796065            HST            image ib3747060 DADS LOG file    D mast:HST/product/ib3747060_log.txt        INFO                      --                        LOG                      --  CALWF3         --       11600 ib3747060_log.txt 73827     26508101     PUBLIC           1   F140W\n",
      " obsID   obs_collection dataproduct_type   obs_id   description  type              dataURI               productType productGroupDescription productSubGroupDescription productDocumentationURL project prvversion proposal_id  productFilename   size parent_obsid dataRights calib_level filters\n",
      "-------- -------------- ---------------- --------- ------------- ---- ---------------------------------- ----------- ----------------------- -------------------------- ----------------------- ------- ---------- ----------- ----------------- ----- ------------ ---------- ----------- -------\n",
      "24796065            HST            image ib3747060 DADS LOG file    D mast:HST/product/ib3747060_log.txt        INFO                      --                        LOG                      --  CALWF3         --       11600 ib3747060_log.txt 73827     26508106     PUBLIC           1   F140W\n",
      " obsID   obs_collection dataproduct_type   obs_id  description  type              dataURI               productType productGroupDescription productSubGroupDescription productDocumentationURL project      prvversion     proposal_id  productFilename   size  parent_obsid dataRights calib_level filters\n",
      "-------- -------------- ---------------- --------- ------------ ---- ---------------------------------- ----------- ----------------------- -------------------------- ----------------------- ------- ------------------- ----------- ----------------- ------ ------------ ---------- ----------- -------\n",
      "24796065            HST            image ib3747060 Preview-Full    D mast:HST/product/ib3747060_drz.jpg     PREVIEW                      --                         --                      --  CALWF3 3.7.1 (Oct-18-2023)       11600 ib3747060_drz.jpg 284398     26508101     PUBLIC           3   F140W\n",
      " obsID   obs_collection dataproduct_type   obs_id  description  type              dataURI               productType productGroupDescription productSubGroupDescription productDocumentationURL project      prvversion     proposal_id  productFilename   size  parent_obsid dataRights calib_level filters\n",
      "-------- -------------- ---------------- --------- ------------ ---- ---------------------------------- ----------- ----------------------- -------------------------- ----------------------- ------- ------------------- ----------- ----------------- ------ ------------ ---------- ----------- -------\n",
      "24796065            HST            image ib3747060 Preview-Full    D mast:HST/product/ib3747060_drz.jpg     PREVIEW                      --                         --                      --  CALWF3 3.7.1 (Oct-18-2023)       11600 ib3747060_drz.jpg 284398     26508106     PUBLIC           3   F140W\n",
      " obsID   obs_collection dataproduct_type   obs_id                           description                          type               dataURI               productType productGroupDescription productSubGroupDescription productDocumentationURL project      prvversion     proposal_id  productFilename     size   parent_obsid dataRights calib_level filters\n",
      "-------- -------------- ---------------- --------- ------------------------------------------------------------- ---- ----------------------------------- ----------- ----------------------- -------------------------- ----------------------- ------- ------------------- ----------- ------------------ -------- ------------ ---------- ----------- -------\n",
      "24796065            HST            image ib3747060 DADS DRZ file - Calibrated combined image ACS/WFC3/WFPC2/STIS    D mast:HST/product/ib3747060_drz.fits     SCIENCE                      --                        DRZ                      --  CALWF3 3.7.1 (Oct-18-2023)       11600 ib3747060_drz.fits 12732480     26508101     PUBLIC           3   F140W\n",
      " obsID   obs_collection dataproduct_type   obs_id                           description                          type               dataURI               productType productGroupDescription productSubGroupDescription productDocumentationURL project      prvversion     proposal_id  productFilename     size   parent_obsid dataRights calib_level filters\n",
      "-------- -------------- ---------------- --------- ------------------------------------------------------------- ---- ----------------------------------- ----------- ----------------------- -------------------------- ----------------------- ------- ------------------- ----------- ------------------ -------- ------------ ---------- ----------- -------\n",
      "24796065            HST            image ib3747060 DADS DRZ file - Calibrated combined image ACS/WFC3/WFPC2/STIS    D mast:HST/product/ib3747060_drz.fits     SCIENCE                      --                        DRZ                      --  CALWF3 3.7.1 (Oct-18-2023)       11600 ib3747060_drz.fits 12732480     26508106     PUBLIC           3   F140W\n",
      " obsID   obs_collection dataproduct_type                obs_id                  description     type                            dataURI                             productType productGroupDescription productSubGroupDescription productDocumentationURL project     prvversion     proposal_id                productFilename                size parent_obsid dataRights calib_level filters\n",
      "-------- -------------- ---------------- ----------------------------------- ------------------ ---- -------------------------------------------------------------- ----------- ----------------------- -------------------------- ----------------------- ------- ------------------ ----------- --------------------------------------------- ---- ------------ ---------- ----------- -------\n",
      "26508096            HST            image hst_11600_47_wfc3_ir_f140w_ib3747zb HAP headerlet file    D mast:HST/product/hst_11600_47_wfc3_ir_f140w_ib3747zb_hlet.fits   AUXILIARY                      --                       HLET                      -- HAP-SVM DrizzlePac 3.7.1.1       11600 hst_11600_47_wfc3_ir_f140w_ib3747zb_hlet.fits 8640     26508101     PUBLIC           2   F140W\n",
      " obsID   obs_collection dataproduct_type                obs_id                  description     type                            dataURI                             productType productGroupDescription productSubGroupDescription productDocumentationURL project     prvversion     proposal_id                productFilename                size parent_obsid dataRights calib_level filters\n",
      "-------- -------------- ---------------- ----------------------------------- ------------------ ---- -------------------------------------------------------------- ----------- ----------------------- -------------------------- ----------------------- ------- ------------------ ----------- --------------------------------------------- ---- ------------ ---------- ----------- -------\n",
      "26508096            HST            image hst_11600_47_wfc3_ir_f140w_ib3747zb HAP headerlet file    D mast:HST/product/hst_11600_47_wfc3_ir_f140w_ib3747zb_hlet.fits   AUXILIARY                      --                       HLET                      -- HAP-SVM DrizzlePac 3.7.1.1       11600 hst_11600_47_wfc3_ir_f140w_ib3747zb_hlet.fits 8640     26508106     PUBLIC           2   F140W\n",
      " obsID   obs_collection dataproduct_type                obs_id                 description    type                           dataURI                            productType productGroupDescription productSubGroupDescription productDocumentationURL project     prvversion     proposal_id               productFilename               size parent_obsid dataRights calib_level filters\n",
      "-------- -------------- ---------------- ----------------------------------- ---------------- ---- ------------------------------------------------------------ ----------- ----------------------- -------------------------- ----------------------- ------- ------------------ ----------- ------------------------------------------- ---- ------------ ---------- ----------- -------\n",
      "26508096            HST            image hst_11600_47_wfc3_ir_f140w_ib3747zb HAP trailer file    D mast:HST/product/hst_11600_47_wfc3_ir_f140w_ib3747zb_trl.txt   AUXILIARY                      --                        TRL                      -- HAP-SVM DrizzlePac 3.7.1.1       11600 hst_11600_47_wfc3_ir_f140w_ib3747zb_trl.txt 7283     26508101     PUBLIC           2   F140W\n",
      " obsID   obs_collection dataproduct_type                obs_id                 description    type                           dataURI                            productType productGroupDescription productSubGroupDescription productDocumentationURL project     prvversion     proposal_id               productFilename               size parent_obsid dataRights calib_level filters\n",
      "-------- -------------- ---------------- ----------------------------------- ---------------- ---- ------------------------------------------------------------ ----------- ----------------------- -------------------------- ----------------------- ------- ------------------ ----------- ------------------------------------------- ---- ------------ ---------- ----------- -------\n",
      "26508096            HST            image hst_11600_47_wfc3_ir_f140w_ib3747zb HAP trailer file    D mast:HST/product/hst_11600_47_wfc3_ir_f140w_ib3747zb_trl.txt   AUXILIARY                      --                        TRL                      -- HAP-SVM DrizzlePac 3.7.1.1       11600 hst_11600_47_wfc3_ir_f140w_ib3747zb_trl.txt 7283     26508106     PUBLIC           2   F140W\n",
      " obsID   obs_collection dataproduct_type                obs_id               description  type                           dataURI                            productType productGroupDescription productSubGroupDescription productDocumentationURL project     prvversion     proposal_id               productFilename                size  parent_obsid dataRights calib_level filters\n",
      "-------- -------------- ---------------- ----------------------------------- ------------ ---- ------------------------------------------------------------ ----------- ----------------------- -------------------------- ----------------------- ------- ------------------ ----------- ------------------------------------------- ------ ------------ ---------- ----------- -------\n",
      "26508096            HST            image hst_11600_47_wfc3_ir_f140w_ib3747zb Preview-Full    D mast:HST/product/hst_11600_47_wfc3_ir_f140w_ib3747zb_drz.jpg     PREVIEW                      --                         --                      -- HAP-SVM DrizzlePac 3.7.1.1       11600 hst_11600_47_wfc3_ir_f140w_ib3747zb_drz.jpg 263927     26508101     PUBLIC           2   F140W\n",
      " obsID   obs_collection dataproduct_type                obs_id               description  type                           dataURI                            productType productGroupDescription productSubGroupDescription productDocumentationURL project     prvversion     proposal_id               productFilename                size  parent_obsid dataRights calib_level filters\n",
      "-------- -------------- ---------------- ----------------------------------- ------------ ---- ------------------------------------------------------------ ----------- ----------------------- -------------------------- ----------------------- ------- ------------------ ----------- ------------------------------------------- ------ ------------ ---------- ----------- -------\n",
      "26508096            HST            image hst_11600_47_wfc3_ir_f140w_ib3747zb Preview-Full    D mast:HST/product/hst_11600_47_wfc3_ir_f140w_ib3747zb_drz.jpg     PREVIEW                      --                         --                      -- HAP-SVM DrizzlePac 3.7.1.1       11600 hst_11600_47_wfc3_ir_f140w_ib3747zb_drz.jpg 263927     26508106     PUBLIC           2   F140W\n",
      " obsID   obs_collection dataproduct_type                obs_id                    description       type                            dataURI                            productType productGroupDescription productSubGroupDescription productDocumentationURL project     prvversion     proposal_id               productFilename                  size   parent_obsid dataRights calib_level filters\n",
      "-------- -------------- ---------------- ----------------------------------- ---------------------- ---- ------------------------------------------------------------- ----------- ----------------------- -------------------------- ----------------------- ------- ------------------ ----------- -------------------------------------------- -------- ------------ ---------- ----------- -------\n",
      "26508096            HST            image hst_11600_47_wfc3_ir_f140w_ib3747zb HAP fits science image    D mast:HST/product/hst_11600_47_wfc3_ir_f140w_ib3747zb_drz.fits     SCIENCE                      --                        DRZ                      -- HAP-SVM DrizzlePac 3.7.1.1       11600 hst_11600_47_wfc3_ir_f140w_ib3747zb_drz.fits 23719680     26508101     PUBLIC           2   F140W\n",
      " obsID   obs_collection dataproduct_type                obs_id                    description       type                            dataURI                            productType productGroupDescription productSubGroupDescription productDocumentationURL project     prvversion     proposal_id               productFilename                  size   parent_obsid dataRights calib_level filters\n",
      "-------- -------------- ---------------- ----------------------------------- ---------------------- ---- ------------------------------------------------------------- ----------- ----------------------- -------------------------- ----------------------- ------- ------------------ ----------- -------------------------------------------- -------- ------------ ---------- ----------- -------\n",
      "26508096            HST            image hst_11600_47_wfc3_ir_f140w_ib3747zb HAP fits science image    D mast:HST/product/hst_11600_47_wfc3_ir_f140w_ib3747zb_drz.fits     SCIENCE                      --                        DRZ                      -- HAP-SVM DrizzlePac 3.7.1.1       11600 hst_11600_47_wfc3_ir_f140w_ib3747zb_drz.fits 23719680     26508106     PUBLIC           2   F140W\n",
      " obsID   obs_collection dataproduct_type                obs_id                    description       type                            dataURI                            productType productGroupDescription productSubGroupDescription productDocumentationURL project     prvversion     proposal_id               productFilename                  size   parent_obsid dataRights calib_level filters\n",
      "-------- -------------- ---------------- ----------------------------------- ---------------------- ---- ------------------------------------------------------------- ----------- ----------------------- -------------------------- ----------------------- ------- ------------------ ----------- -------------------------------------------- -------- ------------ ---------- ----------- -------\n",
      "26508096            HST            image hst_11600_47_wfc3_ir_f140w_ib3747zb HAP flat-field product    D mast:HST/product/hst_11600_47_wfc3_ir_f140w_ib3747zb_flt.fits     SCIENCE                      --                        FLT                      -- HAP-SVM DrizzlePac 3.7.1.1       11600 hst_11600_47_wfc3_ir_f140w_ib3747zb_flt.fits 16608960     26508101     PUBLIC           2   F140W\n",
      " obsID   obs_collection dataproduct_type                obs_id                    description       type                            dataURI                            productType productGroupDescription productSubGroupDescription productDocumentationURL project     prvversion     proposal_id               productFilename                  size   parent_obsid dataRights calib_level filters\n",
      "-------- -------------- ---------------- ----------------------------------- ---------------------- ---- ------------------------------------------------------------- ----------- ----------------------- -------------------------- ----------------------- ------- ------------------ ----------- -------------------------------------------- -------- ------------ ---------- ----------- -------\n",
      "26508096            HST            image hst_11600_47_wfc3_ir_f140w_ib3747zb HAP flat-field product    D mast:HST/product/hst_11600_47_wfc3_ir_f140w_ib3747zb_flt.fits     SCIENCE                      --                        FLT                      -- HAP-SVM DrizzlePac 3.7.1.1       11600 hst_11600_47_wfc3_ir_f140w_ib3747zb_flt.fits 16608960     26508106     PUBLIC           2   F140W\n",
      " obsID   obs_collection dataproduct_type                obs_id                  description     type                            dataURI                             productType productGroupDescription productSubGroupDescription productDocumentationURL project     prvversion     proposal_id                productFilename                size parent_obsid dataRights calib_level filters\n",
      "-------- -------------- ---------------- ----------------------------------- ------------------ ---- -------------------------------------------------------------- ----------- ----------------------- -------------------------- ----------------------- ------- ------------------ ----------- --------------------------------------------- ---- ------------ ---------- ----------- -------\n",
      "26508098            HST            image hst_11600_47_wfc3_ir_f140w_ib3747aa HAP headerlet file    D mast:HST/product/hst_11600_47_wfc3_ir_f140w_ib3747aa_hlet.fits   AUXILIARY                      --                       HLET                      -- HAP-SVM DrizzlePac 3.7.1.1       11600 hst_11600_47_wfc3_ir_f140w_ib3747aa_hlet.fits 8640     26508101     PUBLIC           2   F140W\n",
      " obsID   obs_collection dataproduct_type                obs_id                  description     type                            dataURI                             productType productGroupDescription productSubGroupDescription productDocumentationURL project     prvversion     proposal_id                productFilename                size parent_obsid dataRights calib_level filters\n",
      "-------- -------------- ---------------- ----------------------------------- ------------------ ---- -------------------------------------------------------------- ----------- ----------------------- -------------------------- ----------------------- ------- ------------------ ----------- --------------------------------------------- ---- ------------ ---------- ----------- -------\n",
      "26508098            HST            image hst_11600_47_wfc3_ir_f140w_ib3747aa HAP headerlet file    D mast:HST/product/hst_11600_47_wfc3_ir_f140w_ib3747aa_hlet.fits   AUXILIARY                      --                       HLET                      -- HAP-SVM DrizzlePac 3.7.1.1       11600 hst_11600_47_wfc3_ir_f140w_ib3747aa_hlet.fits 8640     26508106     PUBLIC           2   F140W\n",
      " obsID   obs_collection dataproduct_type                obs_id                 description    type                           dataURI                            productType productGroupDescription productSubGroupDescription productDocumentationURL project     prvversion     proposal_id               productFilename               size parent_obsid dataRights calib_level filters\n",
      "-------- -------------- ---------------- ----------------------------------- ---------------- ---- ------------------------------------------------------------ ----------- ----------------------- -------------------------- ----------------------- ------- ------------------ ----------- ------------------------------------------- ---- ------------ ---------- ----------- -------\n",
      "26508098            HST            image hst_11600_47_wfc3_ir_f140w_ib3747aa HAP trailer file    D mast:HST/product/hst_11600_47_wfc3_ir_f140w_ib3747aa_trl.txt   AUXILIARY                      --                        TRL                      -- HAP-SVM DrizzlePac 3.7.1.1       11600 hst_11600_47_wfc3_ir_f140w_ib3747aa_trl.txt 7267     26508101     PUBLIC           2   F140W\n",
      " obsID   obs_collection dataproduct_type                obs_id                 description    type                           dataURI                            productType productGroupDescription productSubGroupDescription productDocumentationURL project     prvversion     proposal_id               productFilename               size parent_obsid dataRights calib_level filters\n",
      "-------- -------------- ---------------- ----------------------------------- ---------------- ---- ------------------------------------------------------------ ----------- ----------------------- -------------------------- ----------------------- ------- ------------------ ----------- ------------------------------------------- ---- ------------ ---------- ----------- -------\n",
      "26508098            HST            image hst_11600_47_wfc3_ir_f140w_ib3747aa HAP trailer file    D mast:HST/product/hst_11600_47_wfc3_ir_f140w_ib3747aa_trl.txt   AUXILIARY                      --                        TRL                      -- HAP-SVM DrizzlePac 3.7.1.1       11600 hst_11600_47_wfc3_ir_f140w_ib3747aa_trl.txt 7267     26508106     PUBLIC           2   F140W\n",
      " obsID   obs_collection dataproduct_type                obs_id               description  type                           dataURI                            productType productGroupDescription productSubGroupDescription productDocumentationURL project     prvversion     proposal_id               productFilename                size  parent_obsid dataRights calib_level filters\n",
      "-------- -------------- ---------------- ----------------------------------- ------------ ---- ------------------------------------------------------------ ----------- ----------------------- -------------------------- ----------------------- ------- ------------------ ----------- ------------------------------------------- ------ ------------ ---------- ----------- -------\n",
      "26508098            HST            image hst_11600_47_wfc3_ir_f140w_ib3747aa Preview-Full    D mast:HST/product/hst_11600_47_wfc3_ir_f140w_ib3747aa_drz.jpg     PREVIEW                      --                         --                      -- HAP-SVM DrizzlePac 3.7.1.1       11600 hst_11600_47_wfc3_ir_f140w_ib3747aa_drz.jpg 281107     26508101     PUBLIC           2   F140W\n",
      " obsID   obs_collection dataproduct_type                obs_id               description  type                           dataURI                            productType productGroupDescription productSubGroupDescription productDocumentationURL project     prvversion     proposal_id               productFilename                size  parent_obsid dataRights calib_level filters\n",
      "-------- -------------- ---------------- ----------------------------------- ------------ ---- ------------------------------------------------------------ ----------- ----------------------- -------------------------- ----------------------- ------- ------------------ ----------- ------------------------------------------- ------ ------------ ---------- ----------- -------\n",
      "26508098            HST            image hst_11600_47_wfc3_ir_f140w_ib3747aa Preview-Full    D mast:HST/product/hst_11600_47_wfc3_ir_f140w_ib3747aa_drz.jpg     PREVIEW                      --                         --                      -- HAP-SVM DrizzlePac 3.7.1.1       11600 hst_11600_47_wfc3_ir_f140w_ib3747aa_drz.jpg 281107     26508106     PUBLIC           2   F140W\n",
      " obsID   obs_collection dataproduct_type                obs_id                    description       type                            dataURI                            productType productGroupDescription productSubGroupDescription productDocumentationURL project     prvversion     proposal_id               productFilename                  size   parent_obsid dataRights calib_level filters\n",
      "-------- -------------- ---------------- ----------------------------------- ---------------------- ---- ------------------------------------------------------------- ----------- ----------------------- -------------------------- ----------------------- ------- ------------------ ----------- -------------------------------------------- -------- ------------ ---------- ----------- -------\n",
      "26508098            HST            image hst_11600_47_wfc3_ir_f140w_ib3747aa HAP fits science image    D mast:HST/product/hst_11600_47_wfc3_ir_f140w_ib3747aa_drz.fits     SCIENCE                      --                        DRZ                      -- HAP-SVM DrizzlePac 3.7.1.1       11600 hst_11600_47_wfc3_ir_f140w_ib3747aa_drz.fits 23719680     26508101     PUBLIC           2   F140W\n",
      " obsID   obs_collection dataproduct_type                obs_id                    description       type                            dataURI                            productType productGroupDescription productSubGroupDescription productDocumentationURL project     prvversion     proposal_id               productFilename                  size   parent_obsid dataRights calib_level filters\n",
      "-------- -------------- ---------------- ----------------------------------- ---------------------- ---- ------------------------------------------------------------- ----------- ----------------------- -------------------------- ----------------------- ------- ------------------ ----------- -------------------------------------------- -------- ------------ ---------- ----------- -------\n",
      "26508098            HST            image hst_11600_47_wfc3_ir_f140w_ib3747aa HAP fits science image    D mast:HST/product/hst_11600_47_wfc3_ir_f140w_ib3747aa_drz.fits     SCIENCE                      --                        DRZ                      -- HAP-SVM DrizzlePac 3.7.1.1       11600 hst_11600_47_wfc3_ir_f140w_ib3747aa_drz.fits 23719680     26508106     PUBLIC           2   F140W\n",
      " obsID   obs_collection dataproduct_type                obs_id                    description       type                            dataURI                            productType productGroupDescription productSubGroupDescription productDocumentationURL project     prvversion     proposal_id               productFilename                  size   parent_obsid dataRights calib_level filters\n",
      "-------- -------------- ---------------- ----------------------------------- ---------------------- ---- ------------------------------------------------------------- ----------- ----------------------- -------------------------- ----------------------- ------- ------------------ ----------- -------------------------------------------- -------- ------------ ---------- ----------- -------\n",
      "26508098            HST            image hst_11600_47_wfc3_ir_f140w_ib3747aa HAP flat-field product    D mast:HST/product/hst_11600_47_wfc3_ir_f140w_ib3747aa_flt.fits     SCIENCE                      --                        FLT                      -- HAP-SVM DrizzlePac 3.7.1.1       11600 hst_11600_47_wfc3_ir_f140w_ib3747aa_flt.fits 16608960     26508101     PUBLIC           2   F140W\n",
      " obsID   obs_collection dataproduct_type                obs_id                    description       type                            dataURI                            productType productGroupDescription productSubGroupDescription productDocumentationURL project     prvversion     proposal_id               productFilename                  size   parent_obsid dataRights calib_level filters\n",
      "-------- -------------- ---------------- ----------------------------------- ---------------------- ---- ------------------------------------------------------------- ----------- ----------------------- -------------------------- ----------------------- ------- ------------------ ----------- -------------------------------------------- -------- ------------ ---------- ----------- -------\n",
      "26508098            HST            image hst_11600_47_wfc3_ir_f140w_ib3747aa HAP flat-field product    D mast:HST/product/hst_11600_47_wfc3_ir_f140w_ib3747aa_flt.fits     SCIENCE                      --                        FLT                      -- HAP-SVM DrizzlePac 3.7.1.1       11600 hst_11600_47_wfc3_ir_f140w_ib3747aa_flt.fits 16608960     26508106     PUBLIC           2   F140W\n",
      " obsID   obs_collection dataproduct_type               obs_id                description    type                          dataURI                           productType productGroupDescription productSubGroupDescription productDocumentationURL project     prvversion     proposal_id              productFilename               size parent_obsid dataRights calib_level filters\n",
      "-------- -------------- ---------------- --------------------------------- ---------------- ---- ---------------------------------------------------------- ----------- ----------------------- -------------------------- ----------------------- ------- ------------------ ----------- ----------------------------------------- ----- ------------ ---------- ----------- -------\n",
      "26508101            HST            image hst_11600_47_wfc3_ir_f140w_ib3747 HAP trailer file    D mast:HST/product/hst_11600_47_wfc3_ir_f140w_ib3747_trl.txt   AUXILIARY                      --                        TRL                      -- HAP-SVM DrizzlePac 3.7.1.1       11600 hst_11600_47_wfc3_ir_f140w_ib3747_trl.txt 16280     26508101     PUBLIC           3   F140W\n",
      " obsID   obs_collection dataproduct_type               obs_id              description  type                          dataURI                           productType productGroupDescription productSubGroupDescription productDocumentationURL project     prvversion     proposal_id              productFilename               size  parent_obsid dataRights calib_level filters\n",
      "-------- -------------- ---------------- --------------------------------- ------------ ---- ---------------------------------------------------------- ----------- ----------------------- -------------------------- ----------------------- ------- ------------------ ----------- ----------------------------------------- ------ ------------ ---------- ----------- -------\n",
      "26508101            HST            image hst_11600_47_wfc3_ir_f140w_ib3747 Preview-Full    D mast:HST/product/hst_11600_47_wfc3_ir_f140w_ib3747_drz.jpg     PREVIEW                      --                         --                      -- HAP-SVM DrizzlePac 3.7.1.1       11600 hst_11600_47_wfc3_ir_f140w_ib3747_drz.jpg 280382     26508101     PUBLIC           3   F140W\n",
      " obsID   obs_collection dataproduct_type               obs_id                   description       type                           dataURI                           productType   productGroupDescription    productSubGroupDescription productDocumentationURL project     prvversion     proposal_id              productFilename                 size   parent_obsid dataRights calib_level filters\n",
      "-------- -------------- ---------------- --------------------------------- ---------------------- ---- ----------------------------------------------------------- ----------- ---------------------------- -------------------------- ----------------------- ------- ------------------ ----------- ------------------------------------------ -------- ------------ ---------- ----------- -------\n",
      "26508101            HST            image hst_11600_47_wfc3_ir_f140w_ib3747 HAP fits science image    D mast:HST/product/hst_11600_47_wfc3_ir_f140w_ib3747_drz.fits     SCIENCE Minimum Recommended Products                        DRZ                      -- HAP-SVM DrizzlePac 3.7.1.1       11600 hst_11600_47_wfc3_ir_f140w_ib3747_drz.fits 23722560     26508101     PUBLIC           3   F140W\n",
      " obsID   obs_collection dataproduct_type               obs_id                 description     type                              dataURI                              productType   productGroupDescription    productSubGroupDescription productDocumentationURL project     prvversion     proposal_id                 productFilename                   size parent_obsid dataRights calib_level filters\n",
      "-------- -------------- ---------------- --------------------------------- ------------------ ---- ----------------------------------------------------------------- ----------- ---------------------------- -------------------------- ----------------------- ------- ------------------ ----------- ------------------------------------------------ ----- ------------ ---------- ----------- -------\n",
      "26508101            HST            image hst_11600_47_wfc3_ir_f140w_ib3747 HAP source catalog    D mast:HST/product/hst_11600_47_wfc3_ir_f140w_ib3747_point-cat.ecsv     SCIENCE Minimum Recommended Products                  POINT-CAT                      -- HAP-SVM DrizzlePac 3.7.1.1       11600 hst_11600_47_wfc3_ir_f140w_ib3747_point-cat.ecsv 67474     26508101     PUBLIC           3   F140W\n",
      " obsID   obs_collection dataproduct_type               obs_id                 description     type                               dataURI                               productType   productGroupDescription    productSubGroupDescription productDocumentationURL project     prvversion     proposal_id                  productFilename                    size parent_obsid dataRights calib_level filters\n",
      "-------- -------------- ---------------- --------------------------------- ------------------ ---- ------------------------------------------------------------------- ----------- ---------------------------- -------------------------- ----------------------- ------- ------------------ ----------- -------------------------------------------------- ----- ------------ ---------- ----------- -------\n",
      "26508101            HST            image hst_11600_47_wfc3_ir_f140w_ib3747 HAP source catalog    D mast:HST/product/hst_11600_47_wfc3_ir_f140w_ib3747_segment-cat.ecsv     SCIENCE Minimum Recommended Products                SEGMENT-CAT                      -- HAP-SVM DrizzlePac 3.7.1.1       11600 hst_11600_47_wfc3_ir_f140w_ib3747_segment-cat.ecsv 63970     26508101     PUBLIC           3   F140W\n",
      " obsID   obs_collection dataproduct_type               obs_id                description    type                          dataURI                           productType productGroupDescription productSubGroupDescription productDocumentationURL project     prvversion     proposal_id              productFilename               size  parent_obsid dataRights calib_level  filters \n",
      "-------- -------------- ---------------- --------------------------------- ---------------- ---- ---------------------------------------------------------- ----------- ----------------------- -------------------------- ----------------------- ------- ------------------ ----------- ----------------------------------------- ------ ------------ ---------- ----------- ---------\n",
      "26508106            HST            image hst_11600_47_wfc3_ir_total_ib3747 HAP trailer file    D mast:HST/product/hst_11600_47_wfc3_ir_total_ib3747_trl.txt   AUXILIARY                      --                        TRL                      -- HAP-SVM DrizzlePac 3.7.1.1       11600 hst_11600_47_wfc3_ir_total_ib3747_trl.txt 160471     26508106     PUBLIC           3 detection\n",
      " obsID   obs_collection dataproduct_type               obs_id              description  type                          dataURI                           productType productGroupDescription productSubGroupDescription productDocumentationURL project     prvversion     proposal_id              productFilename               size  parent_obsid dataRights calib_level  filters \n",
      "-------- -------------- ---------------- --------------------------------- ------------ ---- ---------------------------------------------------------- ----------- ----------------------- -------------------------- ----------------------- ------- ------------------ ----------- ----------------------------------------- ------ ------------ ---------- ----------- ---------\n",
      "26508106            HST            image hst_11600_47_wfc3_ir_total_ib3747 Preview-Full    D mast:HST/product/hst_11600_47_wfc3_ir_total_ib3747_drz.jpg     PREVIEW                      --                         --                      -- HAP-SVM DrizzlePac 3.7.1.1       11600 hst_11600_47_wfc3_ir_total_ib3747_drz.jpg 282329     26508106     PUBLIC           3 detection\n",
      " obsID   obs_collection dataproduct_type               obs_id                   description       type                           dataURI                           productType   productGroupDescription    productSubGroupDescription productDocumentationURL project     prvversion     proposal_id              productFilename                 size   parent_obsid dataRights calib_level  filters \n",
      "-------- -------------- ---------------- --------------------------------- ---------------------- ---- ----------------------------------------------------------- ----------- ---------------------------- -------------------------- ----------------------- ------- ------------------ ----------- ------------------------------------------ -------- ------------ ---------- ----------- ---------\n",
      "26508106            HST            image hst_11600_47_wfc3_ir_total_ib3747 HAP fits science image    D mast:HST/product/hst_11600_47_wfc3_ir_total_ib3747_drz.fits     SCIENCE Minimum Recommended Products                        DRZ                      -- HAP-SVM DrizzlePac 3.7.1.1       11600 hst_11600_47_wfc3_ir_total_ib3747_drz.fits 23722560     26508106     PUBLIC           3 detection\n",
      " obsID   obs_collection dataproduct_type               obs_id                 description     type                              dataURI                              productType   productGroupDescription    productSubGroupDescription productDocumentationURL project     prvversion     proposal_id                 productFilename                   size parent_obsid dataRights calib_level  filters \n",
      "-------- -------------- ---------------- --------------------------------- ------------------ ---- ----------------------------------------------------------------- ----------- ---------------------------- -------------------------- ----------------------- ------- ------------------ ----------- ------------------------------------------------ ----- ------------ ---------- ----------- ---------\n",
      "26508106            HST            image hst_11600_47_wfc3_ir_total_ib3747 HAP source catalog    D mast:HST/product/hst_11600_47_wfc3_ir_total_ib3747_point-cat.ecsv     SCIENCE Minimum Recommended Products                  POINT-CAT                      -- HAP-SVM DrizzlePac 3.7.1.1       11600 hst_11600_47_wfc3_ir_total_ib3747_point-cat.ecsv 14084     26508106     PUBLIC           3 detection\n",
      " obsID   obs_collection dataproduct_type               obs_id                 description     type                               dataURI                               productType   productGroupDescription    productSubGroupDescription productDocumentationURL project     prvversion     proposal_id                  productFilename                    size parent_obsid dataRights calib_level  filters \n",
      "-------- -------------- ---------------- --------------------------------- ------------------ ---- ------------------------------------------------------------------- ----------- ---------------------------- -------------------------- ----------------------- ------- ------------------ ----------- -------------------------------------------------- ----- ------------ ---------- ----------- ---------\n",
      "26508106            HST            image hst_11600_47_wfc3_ir_total_ib3747 HAP source catalog    D mast:HST/product/hst_11600_47_wfc3_ir_total_ib3747_segment-cat.ecsv     SCIENCE Minimum Recommended Products                SEGMENT-CAT                      -- HAP-SVM DrizzlePac 3.7.1.1       11600 hst_11600_47_wfc3_ir_total_ib3747_segment-cat.ecsv 14706     26508106     PUBLIC           3 detection\n"
     ]
    }
   ],
   "source": [
    "def get_focus_info(image):\n",
    "    obs_id = image.header['ROOTNAME']\n",
    "    filt = image.header['DFILTER']\n",
    "    print(obs_id,filt)\n",
    "    #obsTable = Observations.query_criteria(obs_id=f'*{obs_id[:-3]}', filters=filt)\n",
    "    #products = Observations.get_product_list(obsTable)\n",
    "    #print(obs_id,(products['obs_id'==obs_id]))\n",
    "\n",
    "\n",
    "\n",
    "\n",
    "obs_id = 'ib3747zyq'; filt = 'F140W'\n",
    "obsTable = Observations.query_criteria(obs_id=f'*ib3747')\n",
    "products = Observations.get_product_list(obsTable)\n",
    "for product in products:\n",
    "    print(product)\n",
    "#data_prod = ['FLT']                                 # ['FLC','FLT','DRC','DRZ']                  \n",
    "#data_type = ['CALWF3']                              # ['CALACS','CALWF3','CALWP2','HAP-SVM']    \n",
    "#Observations.download_products(products) #productSubGroupDescription=data_prod, project=data_type)#\n",
    "#Observations.download_products(products, productSubGroupDescription=data_prod, project=data_type)#\n",
    "#clear_output()"
   ]
  },
  {
   "cell_type": "code",
   "execution_count": null,
   "metadata": {},
   "outputs": [],
   "source": []
  }
 ],
 "metadata": {
  "kernelspec": {
   "display_name": "magpie",
   "language": "python",
   "name": "python3"
  },
  "language_info": {
   "codemirror_mode": {
    "name": "ipython",
    "version": 3
   },
   "file_extension": ".py",
   "mimetype": "text/x-python",
   "name": "python",
   "nbconvert_exporter": "python",
   "pygments_lexer": "ipython3",
   "version": "3.9.20"
  }
 },
 "nbformat": 4,
 "nbformat_minor": 2
}
