{
 "cells": [
  {
   "cell_type": "markdown",
   "metadata": {},
   "source": [
    "#### Now I try to play with the pixel to pixel radial gradient of Balmer decrement\n"
   ]
  },
  {
   "cell_type": "code",
   "execution_count": 1,
   "metadata": {},
   "outputs": [
    {
     "name": "stdout",
     "output_type": "stream",
     "text": [
      "start process,LINE_HA,LINE_HB\n"
     ]
    },
    {
     "name": "stderr",
     "output_type": "stream",
     "text": [
      "Processing: 100%|██████████| 158/158 [03:16<00:00,  1.25s/it]\n"
     ]
    },
    {
     "name": "stdout",
     "output_type": "stream",
     "text": [
      "total number of obj processed: 158\n",
      "number of failed obj 0\n",
      "start process,LINE_HA,LINE_HB_CONV\n"
     ]
    },
    {
     "name": "stderr",
     "output_type": "stream",
     "text": [
      "Processing: 100%|██████████| 158/158 [01:14<00:00,  2.13it/s]"
     ]
    },
    {
     "name": "stdout",
     "output_type": "stream",
     "text": [
      "total number of obj processed: 158\n",
      "number of failed obj 0\n"
     ]
    },
    {
     "name": "stderr",
     "output_type": "stream",
     "text": [
      "\n"
     ]
    }
   ],
   "source": [
    "from    astropy.table       import Table\n",
    "from    scripts.tools       import *\n",
    "import  numpy               as     np\n",
    "from    astropy.io          import fits\n",
    "from    astropy.cosmology   import Planck18\n",
    "import  astropy.units       as     u\n",
    "import  matplotlib.pyplot   as     plt\n",
    "import  matplotlib.colors   as     colors  \n",
    "import matplotlib\n",
    "#matplotlib.use('Agg')\n",
    "from    functools           import reduce\n",
    "from    tqdm                import tqdm\n",
    "import  os\n",
    "import  gc                                         \n",
    "import warnings\n",
    "warnings.filterwarnings(\"ignore\")\n",
    "# Avoid division by zero\n",
    "np.errstate(divide='ignore', invalid='ignore')\n",
    "warnings.filterwarnings(\"ignore\", message=\"marker is redundantly defined\")\n",
    "\n",
    "\n",
    "#calculate distance of each pixel to center:\n",
    "def image_to_center_distance(pixel_length):\n",
    "    y,x = np.indices((50,50))\n",
    "    center = (np.array((50,50)) - 1) / 2\n",
    "    distance = np.sqrt((x - center[1])**2 + (y - center[0])**2)\n",
    "    return (distance*pixel_length).value\n",
    "\n",
    "#this is the joint function that:\n",
    "#1. calculate the 2d map of balmer decrement + error\n",
    "#calculate each pixel distance using redshift + return a table of balmer decrement vs distance\n",
    "def extract_radial_profile(obj,\n",
    "                            LINE_HA='LINE_HA',LINE_HB='LINE_HB',\n",
    "                            LINEWHT_HA='LINEWHT_HA',LINEWHT_HB='LINEWHT_HB'):\n",
    "    \n",
    "    #load corresponding extracted file\n",
    "    path = f\"data_extracted/{file_name(obj,'extracted')}\"\n",
    "    with fits.open(path,mode='update') as extracted:\n",
    "\n",
    "        #seg ha hb from extracted data\n",
    "        seg = find_data('SEG',extracted)[1].data == obj['ID']\n",
    "        ha  = find_data(LINE_HA,extracted)[1]\n",
    "        hb  = find_data(LINE_HB,extracted)[1]\n",
    "        #this mask out all the the negative pixel due to continium oversubtraction\n",
    "        mask1 = np.logical_and(find_data('LINE_HA',extracted)[1].data>0, find_data('LINE_HB',extracted)[1].data>0)\n",
    "        mask2 = np.logical_and(ha.data>0,hb.data>0)\n",
    "        mask  = np.logical_and(np.logical_and(mask1,mask2),seg)\n",
    "\n",
    "        #pixel length from redshift, !! here angular diameter distance is used\n",
    "        #to  center distance\n",
    "        pixel_length = np.deg2rad(ha.header['PIXASEC']/3600) * Planck18.angular_diameter_distance(obj['z_MAP']).to(u.kpc)\n",
    "        distances_obj  = image_to_center_distance(pixel_length)[mask]\n",
    "        sort = np.argsort(distances_obj)\n",
    "        #this gives the distance sorted out.\n",
    "        distances_obj = distances_obj[sort]\n",
    "        \n",
    "        #this part calculate the actual 2d balmer decrement + error\n",
    "        balmer_2d     = fits.ImageHDU(data = ha.data/hb.data,name = '2D_BALMER')\n",
    "        #!!!! note the error here is just using the square root of the image thumbnail, weightmap needed for improvement!!\n",
    "        balmer_2d_err = fits.ImageHDU(data = ha.data/hb.data**2 + ha.data**2 * hb.data/hb.data**2,name = '2D_BALMER_ERR')\n",
    "\n",
    "        balmer_pix     = balmer_2d.data[mask][sort]\n",
    "        balmer_pix_err = balmer_2d_err.data[mask][sort]\n",
    "        dtype = [('DISTANCE [kpc]', 'f4'), ('BALMER_DECREM_PIX', 'f4'), ('BALMER_DECREM_PIX_ERR', 'f4')]\n",
    "\n",
    "        #choose the right name for saving the radial table\n",
    "        if 'CONV' in LINE_HB:\n",
    "            name_addon = '_CONV'\n",
    "        else:\n",
    "            name_addon = ''\n",
    "        if 'BG' not in LINE_HA:\n",
    "            name = f'PIX_RAD_PROFILE{name_addon}'\n",
    "        else:\n",
    "            name = f'PIX_RAD_PROFILE{name_addon}_BG'\n",
    "\n",
    "        balmer_table = fits.BinTableHDU(np.array(list(zip(distances_obj, balmer_pix, balmer_pix_err)), dtype=dtype), name=name)\n",
    "\n",
    "        #save update\n",
    "        save_update(balmer_2d,extracted)\n",
    "        save_update(balmer_2d_err,extracted)\n",
    "        save_update(balmer_table,extracted)\n",
    "        extracted.flush()\n",
    "    return f\"{obj['subfield']}-{obj['ID']} processed\"\n",
    "\n",
    "\n",
    "from    concurrent.futures  import ThreadPoolExecutor, as_completed\n",
    "def cat_process(obj_lis,\n",
    "                LINE_HA,   LINE_HB,\n",
    "                LINEWHT_HA, LINEWHT_HB,\n",
    "                max_threads=1):\n",
    "        print(f'start process,{LINE_HA},{LINE_HB}')\n",
    "        results = []\n",
    "        if max_threads > 1 :\n",
    "            with ThreadPoolExecutor(max_threads) as executor:\n",
    "                futures = {executor.submit(\n",
    "                    extract_radial_profile,\n",
    "                    obj,LINE_HA,LINE_HB,LINEWHT_HA,LINEWHT_HB\n",
    "                                            ): obj for obj in obj_lis}\n",
    "                for future in tqdm(as_completed(futures), total=len(obj_lis), desc=\"Processing\"):\n",
    "                    results.append(future.result())\n",
    "            return results\n",
    "        else:\n",
    "            for obj in tqdm(obj_lis):\n",
    "                results.append(extract_radial_profile(obj,LINE_HA,LINE_HB,LINEWHT_HA,LINEWHT_HB))\n",
    "            return results\n",
    "\n",
    "def main():\n",
    "    obj_lis = Table.read('obj_lis_selected.fits')\n",
    "    results = cat_process(obj_lis,\n",
    "                          LINE_HA='LINE_HA',LINE_HB='LINE_HB',\n",
    "                          LINEWHT_HA='LINEWHT_HA',LINEWHT_HB='LINEWHT_HB',max_threads=3)\n",
    "    errorcounting(results)\n",
    "\n",
    "    results = cat_process(obj_lis,\n",
    "                          LINE_HA='LINE_HA',LINE_HB='LINE_HB_CONV',\n",
    "                          LINEWHT_HA='LINEWHT_HA',LINEWHT_HB='LINEWHT_HB_CONV',max_threads=3)\n",
    "    errorcounting(results)\n",
    "\n",
    "if __name__ == '__main__' :\n",
    "    main()"
   ]
  },
  {
   "cell_type": "code",
   "execution_count": null,
   "metadata": {},
   "outputs": [],
   "source": []
  }
 ],
 "metadata": {
  "kernelspec": {
   "display_name": "seg",
   "language": "python",
   "name": "python3"
  },
  "language_info": {
   "codemirror_mode": {
    "name": "ipython",
    "version": 3
   },
   "file_extension": ".py",
   "mimetype": "text/x-python",
   "name": "python",
   "nbconvert_exporter": "python",
   "pygments_lexer": "ipython3",
   "version": "3.9.21"
  }
 },
 "nbformat": 4,
 "nbformat_minor": 2
}
