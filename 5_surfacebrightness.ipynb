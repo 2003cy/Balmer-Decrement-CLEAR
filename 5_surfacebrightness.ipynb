{
 "cells": [
  {
   "cell_type": "markdown",
   "metadata": {},
   "source": [
    "# This section uses Magpie to calculate surface brightness profile\n",
    "\n",
    "This is equivalently what the previous section does, but magpie is used to calculate surface brightness profile for each Ha Hb line maps and weights, averaged out over the polar angle phi, for each given pixel distance.\n",
    "\n",
    "what does the package [magpie](https://github.com/knaidoo29/magpie/tree/master) does:\n",
    "\n",
    "It transforms grid in Cartesian coordinates into (r,phi) polar coordinates, while preserving the size of the surface area of each pixel. Therefore one can calculate surface brightness of a certain ring area by summing over phi of a given radius range. This method is used in [Matharu 2023](https://iopscience.iop.org/article/10.3847/2041-8213/acd1db/pdf) and [Matharu 2024](https://arxiv.org/pdf/2404.17629)."
   ]
  },
  {
   "cell_type": "markdown",
   "metadata": {},
   "source": []
  },
  {
   "cell_type": "code",
   "execution_count": 1,
   "metadata": {},
   "outputs": [],
   "source": [
    "import  magpie              as     magpie"
   ]
  },
  {
   "cell_type": "code",
   "execution_count": 2,
   "metadata": {},
   "outputs": [],
   "source": [
    "\n",
    "import  numpy               as     np\n",
    "from    astropy.table       import Table\n",
    "from    astropy.io          import fits\n",
    "from    astropy.cosmology   import Planck18\n",
    "import  astropy.units       as     u\n",
    "import  matplotlib.pyplot   as     plt\n",
    "import  matplotlib.colors   as     colors  \n",
    "from    matplotlib          import use\n",
    "from    tqdm                import tqdm\n",
    "from    concurrent.futures  import ThreadPoolExecutor, as_completed\n",
    "import  sys, os\n",
    "from    IPython.display     import clear_output\n",
    "\n",
    "\n",
    "\n",
    "#this is just a handy little function to return the desired file path\n",
    "#give one entry in the object list, return the desired file path\n",
    "def file_name(obj,prefix,filetype='fits'):\n",
    "    field = obj['subfield'].lower()\n",
    "    id    = str(obj['ID']).zfill(5)\n",
    "    return f\"hlsp_clear_hst_wfc3_{field}-{id}_g102-g141_v4_{prefix}.{filetype}\"\n",
    "\n",
    "def find_data(name,hdu):\n",
    "    for image in hdu:\n",
    "        if name == image.name:\n",
    "            return image\n",
    "\n",
    "def save_update(image_to_save,extracted):\n",
    "        for i,image in enumerate(extracted):\n",
    "            if image.name == image_to_save.name:\n",
    "                extracted[i] = image_to_save\n",
    "                return extracted\n",
    "        extracted.append(image_to_save)\n",
    "        extracted.flush()\n",
    "        return extracted\n",
    "\n",
    "def errorcounting(results):\n",
    "    number = 0\n",
    "    for result in results:\n",
    "        if 'error' in result:\n",
    "            number +=1\n",
    "    print('total number of obj processed:',len(results))\n",
    "    print('number of failed obj',number)\n",
    "\n",
    "obj_lis = Table.read('obj_lis_selected.fits')"
   ]
  },
  {
   "cell_type": "markdown",
   "metadata": {},
   "source": [
    "### calculate radial profile"
   ]
  },
  {
   "cell_type": "code",
   "execution_count": 3,
   "metadata": {},
   "outputs": [
    {
     "name": "stdout",
     "output_type": "stream",
     "text": [
      "start process\n"
     ]
    },
    {
     "name": "stderr",
     "output_type": "stream",
     "text": [
      "Processing:   0%|          | 0/158 [00:00<?, ?it/s]/tmp/ipykernel_178260/4193684850.py:17: RuntimeWarning: invalid value encountered in divide\n",
      "  seg_weight = seg/np.sum(seg,axis=0)\n",
      "/tmp/ipykernel_178260/4193684850.py:24: RuntimeWarning: divide by zero encountered in divide\n",
      "  map_r_err = 1/np.sum(linemap_r_wht*seg,axis=0)**0.5\n",
      "Processing: 100%|██████████| 158/158 [02:07<00:00,  1.24it/s]\n"
     ]
    },
    {
     "name": "stdout",
     "output_type": "stream",
     "text": [
      "total number of obj processed: 158\n",
      "number of failed obj 0\n",
      "start process\n"
     ]
    },
    {
     "name": "stderr",
     "output_type": "stream",
     "text": [
      "Processing: 100%|██████████| 158/158 [02:08<00:00,  1.23it/s]\n"
     ]
    },
    {
     "name": "stdout",
     "output_type": "stream",
     "text": [
      "total number of obj processed: 158\n",
      "number of failed obj 0\n",
      "start process\n"
     ]
    },
    {
     "name": "stderr",
     "output_type": "stream",
     "text": [
      "Processing: 100%|██████████| 158/158 [03:18<00:00,  1.26s/it]\n"
     ]
    },
    {
     "name": "stdout",
     "output_type": "stream",
     "text": [
      "total number of obj processed: 158\n",
      "number of failed obj 0\n",
      "start process\n"
     ]
    },
    {
     "name": "stderr",
     "output_type": "stream",
     "text": [
      "Processing: 100%|██████████| 158/158 [02:16<00:00,  1.16it/s]"
     ]
    },
    {
     "name": "stdout",
     "output_type": "stream",
     "text": [
      "total number of obj processed: 158\n",
      "number of failed obj 0\n"
     ]
    },
    {
     "name": "stderr",
     "output_type": "stream",
     "text": [
      "\n"
     ]
    }
   ],
   "source": [
    "import magpie.montecarlo\n",
    "\n",
    "def spatial_remap(map,pixel_length):\n",
    "    b2r = magpie.montecarlo.Box2Ring()\n",
    "    b2r.setup_box(-25*pixel_length,25*pixel_length,50,\n",
    "                -25*pixel_length,25*pixel_length,50)\n",
    "    b2r.setup_polar_lin(0., 25*pixel_length, 12, 10, center=[0., 0.])\n",
    "    b2r.get_weights() \n",
    "    return np.linspace(b2r.redges[0], b2r.redges[-1],12), b2r.remap(map)\n",
    "\n",
    "def radial_profile(obj,linemap,weight,seg,pixel_length):\n",
    "        linemap = linemap.data; weight = weight.data; seg = seg.data\n",
    "\n",
    "        seg = np.where(seg==obj['ID'],1,0)\n",
    "        seg = np.where(linemap>0,seg,0)\n",
    "        seg = spatial_remap(seg,pixel_length)[1]\n",
    "        seg_weight = seg/np.sum(seg,axis=0)\n",
    "\n",
    "        r, linemap_r,   = spatial_remap(np.where(linemap>0,linemap,0),pixel_length)\n",
    "        linemap_r_wht = spatial_remap(np.where(linemap>0,weight,0),pixel_length)[1]\n",
    "\n",
    "\n",
    "        map_r   = np.average(linemap_r,weights=seg_weight,axis=0)\n",
    "        map_r_err = 1/np.sum(linemap_r_wht*seg,axis=0)**0.5\n",
    "        map_r_std = np.average((linemap_r-map_r)**2,weights = seg_weight,axis=0)**0.5\n",
    "        map_r_err = (map_r_err**2 + map_r_std**2)**0.5\n",
    "        return r, map_r, map_r_err \n",
    "\n",
    "\n",
    "def gen_radial_table(obj,LINE_HA='LINE_HA',LINE_HB='LINE_HB_CONV',\n",
    "                    LINEWHT_HA='LINEWHT_HA',LINEWHT_HB='LINEWHT_HB_CONV'):\n",
    "    #try:\n",
    "    path = f\"data_extracted/{file_name(obj,prefix='extracted')}\"\n",
    "    with fits.open(path,mode='update') as hdu:\n",
    "        \n",
    "        r, ha_r, ha_r_err = radial_profile(obj,\n",
    "                                        linemap      = find_data(LINE_HA,hdu),\n",
    "                                        weight       = find_data(LINEWHT_HA,hdu),\n",
    "                                        seg          = find_data('SEG',hdu),\n",
    "                                        pixel_length = obj['pixel_length'])\n",
    "        \n",
    "        r, hb_r, hb_r_err = radial_profile(obj,\n",
    "                                        linemap      = find_data(LINE_HB,hdu),\n",
    "                                        weight       = find_data(LINEWHT_HB,hdu),\n",
    "                                        seg          = find_data('SEG',hdu),\n",
    "                                        pixel_length = obj['pixel_length'])\n",
    "\n",
    "        balmer_r     = ha_r/hb_r\n",
    "        balmer_r_err = ((ha_r_err/hb_r)**2 + (hb_r_err**2 * (ha_r/hb_r**2)**2))**0.5\n",
    "        \n",
    "        cols = [\n",
    "            fits.Column(name='DISTANCE [kpc]',                       format='E', array=r),\n",
    "            fits.Column(name='Ha_SURF_BRIGHT [1e-17 erg/s/cm2]',     format='E', array=ha_r),\n",
    "            fits.Column(name='Ha_SURF_BRIGHT_err [1e-17 erg/s/cm2]', format='E', array=ha_r_err),\n",
    "            fits.Column(name='Hb_SURF_BRIGHT [1e-17 erg/s/cm2]',     format='E', array=hb_r),\n",
    "            fits.Column(name='Hb_SURF_BRIGHT_err [1e-17 erg/s/cm2]', format='E', array=hb_r_err),\n",
    "            fits.Column(name='BALMER_DECREM',                        format='E', array=balmer_r),\n",
    "            fits.Column(name='BALMER_DECREM_ERR',                    format='E', array=balmer_r_err),\n",
    "        ]\n",
    "        \n",
    "        #choose the right name for saving the radial table\n",
    "        if 'CONV' in LINE_HB:\n",
    "            name_addon = '_CONV'\n",
    "        else:\n",
    "            name_addon = ''\n",
    "        if 'BG' not in LINE_HA:\n",
    "            name = f'RAD_PROFILE{name_addon}'\n",
    "            new_table = fits.BinTableHDU.from_columns(cols, name=name)\n",
    "        else:\n",
    "            name = f'RAD_PROFILE{name_addon}_BG'\n",
    "            new_table = fits.BinTableHDU.from_columns(cols, name=name)\n",
    "\n",
    "        #save or update table\n",
    "        save_update(new_table,hdu)\n",
    "        hdu.flush()\n",
    "        return f\"{obj['subfield']}-{obj['ID']} processed\"\n",
    "    #except Exception as e:\n",
    "    #        return f\"! {obj['subfield']}-{obj['ID']} failed, error{e}\"\n",
    "\n",
    "\n",
    "def cat_process(obj_lis,LINE_HA,LINE_HB,LINEWHT_HA,LINEWHT_HB,max_threads=1):\n",
    "        print(f'start process,{LINE_HA},{LINE_HB}')\n",
    "        results = []\n",
    "        if max_threads > 1 :\n",
    "            with ThreadPoolExecutor(max_threads) as executor:\n",
    "                futures = {executor.submit(\n",
    "                    gen_radial_table,\n",
    "                    obj,LINE_HA,LINE_HB,LINEWHT_HA,LINEWHT_HB\n",
    "                                            ): obj for obj in obj_lis}\n",
    "                for future in tqdm(as_completed(futures), total=len(obj_lis), desc=\"Processing\"):\n",
    "                    results.append(future.result())\n",
    "            return results\n",
    "        else:\n",
    "            for obj in obj_lis:\n",
    "                results.append(gen_radial_table(obj,LINE_HA,LINE_HB,LINEWHT_HA,LINEWHT_HB))\n",
    "            return results\n",
    "\n",
    "\n",
    "def main():\n",
    "    obj_lis = Table.read('obj_lis_selected.fits')\n",
    "    \n",
    "    results1 = cat_process(obj_lis,\n",
    "                        LINE_HA='LINE_HA',LINE_HB='LINE_HB',\n",
    "                        LINEWHT_HA='LINEWHT_HA',LINEWHT_HB='LINEWHT_HB',max_threads=6)\n",
    "    errorcounting(results1)\n",
    "\n",
    "    results2 = cat_process(obj_lis,\n",
    "                        LINE_HA='LINE_HA_BG',LINE_HB='LINE_HB_BG',\n",
    "                        LINEWHT_HA='LINEWHT_HA',LINEWHT_HB='LINEWHT_HB',max_threads=6)\n",
    "    errorcounting(results2)\n",
    "\n",
    "\n",
    "    results3 = cat_process(obj_lis,\n",
    "                        LINE_HA='LINE_HA',LINE_HB='LINE_HB_CONV',\n",
    "                        LINEWHT_HA='LINEWHT_HA',LINEWHT_HB='LINEWHT_HB_CONV',max_threads=6)\n",
    "    errorcounting(results3)\n",
    "\n",
    "    \n",
    "    results4 = cat_process(obj_lis,\n",
    "                        LINE_HA='LINE_HA_BG',LINE_HB='LINE_HB_CONV_BG',\n",
    "                        LINEWHT_HA='LINEWHT_HA',LINEWHT_HB='LINEWHT_HB_CONV',max_threads=6)\n",
    "    errorcounting(results4)\n",
    "\n",
    "if __name__ == '__main__':\n",
    "    main()\n"
   ]
  },
  {
   "cell_type": "markdown",
   "metadata": {},
   "source": [
    "### plot radial profiles"
   ]
  },
  {
   "cell_type": "code",
   "execution_count": 12,
   "metadata": {},
   "outputs": [
    {
     "name": "stdout",
     "output_type": "stream",
     "text": [
      "\n",
      " start plot process('RAD_PROFILE', 'RAD_PROFILE_BG')\n"
     ]
    },
    {
     "name": "stderr",
     "output_type": "stream",
     "text": [
      "100%|██████████| 158/158 [02:08<00:00,  1.23it/s]\n"
     ]
    },
    {
     "name": "stdout",
     "output_type": "stream",
     "text": [
      "total number of obj processed: 158\n",
      "number of failed obj 0\n",
      "\n",
      " start plot process('RAD_PROFILE', 'RAD_PROFILE_CONV')\n"
     ]
    },
    {
     "name": "stderr",
     "output_type": "stream",
     "text": [
      "100%|██████████| 158/158 [02:03<00:00,  1.27it/s]\n"
     ]
    },
    {
     "name": "stdout",
     "output_type": "stream",
     "text": [
      "total number of obj processed: 158\n",
      "number of failed obj 0\n",
      "\n",
      " start plot process('RAD_PROFILE_BG', 'RAD_PROFILE_CONV_BG')\n"
     ]
    },
    {
     "name": "stderr",
     "output_type": "stream",
     "text": [
      "100%|██████████| 158/158 [02:00<00:00,  1.31it/s]"
     ]
    },
    {
     "name": "stdout",
     "output_type": "stream",
     "text": [
      "total number of obj processed: 158\n",
      "number of failed obj 0\n"
     ]
    },
    {
     "name": "stderr",
     "output_type": "stream",
     "text": [
      "\n"
     ]
    }
   ],
   "source": [
    "%matplotlib inline\n",
    "def plot_balmer_decrem(obj,plot,plot_var,crop_size=40):\n",
    "\n",
    "    try:\n",
    "        path = f\"data_extracted/{file_name(obj,prefix='extracted')}\"\n",
    "        with fits.open(path) as hdu:\n",
    "            center_x, center_y = np.array(hdu[3].data.shape) // 2\n",
    "            half_crop = crop_size // 2\n",
    "                \n",
    "            ax = plt.figure(figsize=(12,15));i=1\n",
    "            \n",
    "            for name in ['DSCI','LINE_HA','LINE_HB','LINE_HB_CONV']:\n",
    "                image = find_data(name,hdu)\n",
    "                data  = image.data[\n",
    "                    center_y - half_crop : center_y + half_crop,\n",
    "                    center_x - half_crop : center_x + half_crop]\n",
    "                ax.add_subplot(int(f'32{i}'));i+=1\n",
    "                plt.imshow(data,#np.where(seg,hdu[index].data,0),\n",
    "                            norm=colors.Normalize(vmin=0),\n",
    "                            origin='lower',\n",
    "                            cmap = 'plasma_r')\n",
    "                plt.plot([3,7],[4,4])\n",
    "                plt.text(5,5,f\"{round(obj['pixel_length']*4,2)} kpc\")\n",
    "                plt.title(f\"{image.name}_{obj['subfield']}_{obj['ID']}{obj['tag']}\")\n",
    "                plt.colorbar()\n",
    "            \n",
    "            r,ha_r,ha_r_err, hb_r, hb_r_err, balmer_r, balmer_r_err = np.vstack(find_data(plot,hdu).data).transpose()\n",
    "            r,ha_r_var,ha_r_err_var, hb_r_var, hb_r_err_var, balmer_r_var, balmer_r_err_var = np.vstack(find_data(plot_var,hdu).data).transpose()\n",
    "            \n",
    "            ax.add_subplot(325)\n",
    "            plt.errorbar(r,ha_r,yerr = ha_r_err,fmt='bo:',label=f'Ha_{plot}')\n",
    "            plt.errorbar(r,hb_r,yerr = hb_r_err,fmt='go:',label=f'Hb_{plot}')\n",
    "            plt.errorbar(r,ha_r_var,yerr = ha_r_err_var,fmt='bo:',label=f'Ha_{plot_var}',alpha=0.4)\n",
    "            plt.errorbar(r,hb_r_var,yerr = hb_r_err_var,fmt='go:',label=f'Hb_{plot_var}',alpha=0.4)\n",
    "            plt.xlabel('distance [kpc]'); plt.ylabel('flux [1e-7 erg/s/cm2]')\n",
    "            plt.yscale('log');plt.grid();plt.legend()\n",
    "            \n",
    "            ax.add_subplot(326)\n",
    "            plt.errorbar(r,balmer_r,yerr = balmer_r_err,fmt='ro:',label=f'balmer_decrem_{plot}')\n",
    "            plt.errorbar(r,balmer_r_var,yerr = balmer_r_err_var,fmt='bo:',label=f'balmer_decrem_{plot_var}',alpha=0.4)\n",
    "            plt.xlabel('distance [kpc]');plt.ylabel('Ha/Hb')\n",
    "            plt.xlim(0,8);plt.ylim(-5,10)\n",
    "            plt.grid();plt.legend()\n",
    "\n",
    "            save_path = f\"radial_balmer_decrem/{plot}_vs_{plot_var}\"\n",
    "            save_path_sn_10 = f\"sn_10/radial_balmer_decrem/{plot}_vs_{plot_var}\"\n",
    "            os.makedirs(save_path,exist_ok=True)\n",
    "            os.makedirs(save_path_sn_10,exist_ok=True)\n",
    "\n",
    "            plt.savefig(f\"{save_path}/{obj['subfield']}-{obj['ID']}.png\")\n",
    "            if obj['sn_hb'] >10:\n",
    "                plt.savefig(f\"{save_path_sn_10}/{obj['subfield']}-{obj['ID']}.png\")\n",
    "            plt.close('all')\n",
    "\n",
    "            return f\"{obj['subfield']}-{obj['ID']}saved\"\n",
    "        \n",
    "    except Exception as e:\n",
    "            return f\"! {obj['subfield']}-{obj['ID']} failed, error{e}\"\n",
    "\n",
    "\n",
    "def cat_process(obj_lis,plot='RAD_PROFILE',plot_var='RAD_PROFILE_BG',max_threads=1):\n",
    "        print(f'\\n start plot process{plot,plot_var}')\n",
    "        results = []\n",
    "        if max_threads>1:\n",
    "            with ThreadPoolExecutor(max_threads) as executor:\n",
    "                futures = {executor.submit(plot_balmer_decrem,\n",
    "                                            obj,plot=plot,plot_var=plot_var\n",
    "                                            ):obj for obj in obj_lis}\n",
    "                for future in tqdm(as_completed(futures), total=len(obj_lis), desc=\"Processing\"):\n",
    "                    results.append(future.result())\n",
    "            return results\n",
    "        else:\n",
    "            for obj in tqdm(obj_lis):\n",
    "                results.append(plot_balmer_decrem(obj,plot,plot_var))\n",
    "            return results\n",
    "\n",
    "\n",
    "def main():\n",
    "    use('Agg')\n",
    "    obj_lis = Table.read('obj_lis_selected.fits')\n",
    "    results1 = cat_process(obj_lis,\n",
    "                        plot='RAD_PROFILE',plot_var='RAD_PROFILE_BG',max_threads=1)\n",
    "    errorcounting(results1)\n",
    "\n",
    "    results2 = cat_process(obj_lis,\n",
    "                        plot='RAD_PROFILE',plot_var='RAD_PROFILE_CONV',max_threads=1)\n",
    "    errorcounting(results2)\n",
    "\n",
    "    results3 = cat_process(obj_lis,\n",
    "                        plot='RAD_PROFILE_BG',plot_var='RAD_PROFILE_CONV_BG',max_threads=1)\n",
    "    errorcounting(results3)\n",
    "    \n",
    "if __name__ == '__main__':\n",
    "    main()"
   ]
  },
  {
   "cell_type": "code",
   "execution_count": null,
   "metadata": {},
   "outputs": [],
   "source": []
  }
 ],
 "metadata": {
  "kernelspec": {
   "display_name": "magpie",
   "language": "python",
   "name": "python3"
  },
  "language_info": {
   "codemirror_mode": {
    "name": "ipython",
    "version": 3
   },
   "file_extension": ".py",
   "mimetype": "text/x-python",
   "name": "python",
   "nbconvert_exporter": "python",
   "pygments_lexer": "ipython3",
   "version": "3.9.20"
  }
 },
 "nbformat": 4,
 "nbformat_minor": 2
}
