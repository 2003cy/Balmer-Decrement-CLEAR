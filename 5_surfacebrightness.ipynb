{
 "cells": [
  {
   "cell_type": "markdown",
   "metadata": {},
   "source": [
    "# This section uses Magpie to calculate surface brightness profile\n",
    "\n",
    "This is equivalently what the previous section does, but magpie is used to calculate surface brightness profile for each Ha Hb line maps and weights, averaged out over the polar angle phi, for each given pixel distance.\n",
    "\n",
    "what does the package [magpie](https://github.com/knaidoo29/magpie/tree/master) does:\n",
    "\n",
    "It transforms grid in Cartesian coordinates into (r,phi) polar coordinates, while preserving the size of the surface area of each pixel. Therefore one can calculate surface brightness of a certain ring area by summing over phi of a given radius range. This method is used in [Matharu 2023](https://iopscience.iop.org/article/10.3847/2041-8213/acd1db/pdf) and [Matharu 2024](https://arxiv.org/pdf/2404.17629)."
   ]
  },
  {
   "cell_type": "markdown",
   "metadata": {},
   "source": []
  },
  {
   "cell_type": "code",
   "execution_count": 2,
   "metadata": {},
   "outputs": [],
   "source": [
    "import  magpie              as     magpie"
   ]
  },
  {
   "cell_type": "code",
   "execution_count": 3,
   "metadata": {},
   "outputs": [],
   "source": [
    "\n",
    "import  numpy               as     np\n",
    "from    astropy.table       import Table\n",
    "from    astropy.io          import fits\n",
    "from    astropy.cosmology   import Planck18\n",
    "import  astropy.units       as     u\n",
    "import  matplotlib.pyplot   as     plt\n",
    "import  matplotlib.colors   as     colors  \n",
    "from    matplotlib          import use\n",
    "from    tqdm                import tqdm\n",
    "from    concurrent.futures  import ThreadPoolExecutor, as_completed\n",
    "import  sys, os\n",
    "from    IPython.display     import clear_output\n",
    "\n",
    "\n",
    "\n",
    "#this is just a handy little function to return the desired file path\n",
    "#give one entry in the object list, return the desired file path\n",
    "def file_name(obj,prefix,filetype='fits'):\n",
    "    field = obj['subfield'].lower()\n",
    "    id    = str(obj['ID']).zfill(5)\n",
    "    return f\"hlsp_clear_hst_wfc3_{field}-{id}_g102-g141_v4_{prefix}.{filetype}\"\n",
    "\n",
    "def find_data(name,hdu):\n",
    "    for image in hdu:\n",
    "        if name == image.name:\n",
    "            return image\n",
    "\n",
    "obj_lis = Table.read('obj_lis_selected.fits')"
   ]
  },
  {
   "cell_type": "code",
   "execution_count": 2,
   "metadata": {},
   "outputs": [
    {
     "data": {
      "text/plain": [
       "True"
      ]
     },
     "execution_count": 2,
     "metadata": {},
     "output_type": "execute_result"
    }
   ],
   "source": []
  },
  {
   "cell_type": "code",
   "execution_count": null,
   "metadata": {},
   "outputs": [
    {
     "name": "stdout",
     "output_type": "stream",
     "text": [
      "Calculating weights : |#############################################_____|  90% "
     ]
    },
    {
     "name": "stderr",
     "output_type": "stream",
     "text": [
      "Processing:  69%|██████▉   | 109/158 [02:04<01:01,  1.25s/it]"
     ]
    },
    {
     "name": "stdout",
     "output_type": "stream",
     "text": [
      "  ID          RA               DEC         nlines        z_50              z_02             z_16             z_84              z_97            z_MAP            z_RISK       ArIII-7138_FLUX   ArIII-7138_FLUX_ERR ArIII-7138_EW_RF_16 ArIII-7138_EW_RF_50 ArIII-7138_EW_RF_84 CIII-1908_FLUX CIII-1908_FLUX_ERR CIII-1908_EW_RF_16 CIII-1908_EW_RF_50 CIII-1908_EW_RF_84 CIV-1549_FLUX CIV-1549_FLUX_ERR CIV-1549_EW_RF_16 CIV-1549_EW_RF_50 CIV-1549_EW_RF_84 H8_FLUX H8_FLUX_ERR H8_EW_RF_16 H8_EW_RF_50 H8_EW_RF_84 H9_FLUX H9_FLUX_ERR H9_EW_RF_16 H9_EW_RF_50 H9_EW_RF_84      Ha_FLUX         Ha_FLUX_ERR       Ha_EW_RF_16       Ha_EW_RF_50       Ha_EW_RF_84        Hb_FLUX         Hb_FLUX_ERR        Hb_EW_RF_16       Hb_EW_RF_50       Hb_EW_RF_84        Hd_FLUX        Hd_FLUX_ERR       Hd_EW_RF_16       Hd_EW_RF_50       Hd_EW_RF_84    HeI-1083_FLUX HeI-1083_FLUX_ERR HeI-1083_EW_RF_16 HeI-1083_EW_RF_50 HeI-1083_EW_RF_84  HeI-5877_FLUX   HeI-5877_FLUX_ERR  HeI-5877_EW_RF_16 HeI-5877_EW_RF_50 HeI-5877_EW_RF_84 HeII-1640_FLUX HeII-1640_FLUX_ERR HeII-1640_EW_RF_16 HeII-1640_EW_RF_50 HeII-1640_EW_RF_84     Hg_FLUX       Hg_FLUX_ERR       Hg_EW_RF_16       Hg_EW_RF_50       Hg_EW_RF_84    Lya_FLUX Lya_FLUX_ERR Lya_EW_RF_16 Lya_EW_RF_50 Lya_EW_RF_84 MgII_FLUX MgII_FLUX_ERR MgII_EW_RF_16 MgII_EW_RF_50 MgII_EW_RF_84 NIII-1750_FLUX NIII-1750_FLUX_ERR NIII-1750_EW_RF_16 NIII-1750_EW_RF_50 NIII-1750_EW_RF_84 NIV-1487_FLUX NIV-1487_FLUX_ERR NIV-1487_EW_RF_16 NIV-1487_EW_RF_50 NIV-1487_EW_RF_84 NV-1240_FLUX NV-1240_FLUX_ERR NV-1240_EW_RF_16 NV-1240_EW_RF_50 NV-1240_EW_RF_84 NeIII-3867_FLUX NeIII-3867_FLUX_ERR NeIII-3867_EW_RF_16 NeIII-3867_EW_RF_50 NeIII-3867_EW_RF_84 NeV-3346_FLUX NeV-3346_FLUX_ERR NeV-3346_EW_RF_16 NeV-3346_EW_RF_50 NeV-3346_EW_RF_84 NeVI-3426_FLUX NeVI-3426_FLUX_ERR NeVI-3426_EW_RF_16 NeVI-3426_EW_RF_50 NeVI-3426_EW_RF_84    OI-6302_FLUX   OI-6302_FLUX_ERR  OI-6302_EW_RF_16  OI-6302_EW_RF_50  OI-6302_EW_RF_84      OII_FLUX        OII_FLUX_ERR       OII_EW_RF_16      OII_EW_RF_50      OII_EW_RF_84    OII-7325_FLUX   OII-7325_FLUX_ERR  OII-7325_EW_RF_16  OII-7325_EW_RF_50 OII-7325_EW_RF_84 OIII_FLUX OIII_FLUX_ERR OIII_EW_RF_16 OIII_EW_RF_50 OIII_EW_RF_84 OIII-1663_FLUX OIII-1663_FLUX_ERR OIII-1663_EW_RF_16 OIII-1663_EW_RF_50 OIII-1663_EW_RF_84 OIII-4363_FLUX OIII-4363_FLUX_ERR OIII-4363_EW_RF_16 OIII-4363_EW_RF_50 OIII-4363_EW_RF_84 PaB_FLUX PaB_FLUX_ERR PaB_EW_RF_16 PaB_EW_RF_50 PaB_EW_RF_84     SII_FLUX       SII_FLUX_ERR      SII_EW_RF_16      SII_EW_RF_50      SII_EW_RF_84   SIII_FLUX SIII_FLUX_ERR SIII_EW_RF_16 SIII_EW_RF_50 SIII_EW_RF_84 HeII-4687_FLUX HeII-4687_FLUX_ERR HeII-4687_EW_RF_16 HeII-4687_EW_RF_50 HeII-4687_EW_RF_84       T_G102         T_G141        BIC_TEMP           CHIMIN        DOF   subfield   id      ra       dec     z_spec nusefilt   lc_min     lc_max     z_phot  z_phot_chi2 z_phot_risk  z_min_risk   min_risk   z_raw_chi2 raw_chi2   z025     z160     z500     z840     z975      restU      restU_err      restB      restB_err      restV      restV_err      restJ      restJ_err       dL       mass        sfr          Lv        LIR           MLv             Av              mass_p                     sfr_p                       Lv_p                    LIR_p                    ssfr_p            rest270    rest270_err    rest274    rest274_err    rest120    rest120_err    rest121    rest121_err    rest156    rest156_err    rest157    rest157_err    rest158    rest158_err    rest159    rest159_err    rest160    rest160_err    rest161    rest161_err    rest162    rest162_err    rest163    rest163_err       DISTMOD                       ABSM_271                                  ABSM_272                                  ABSM_274                  tag       sn_ha             sn_hb       manual_select\n",
      "                                                                                                                                                                                                                                                                                                                                                                                                                                                                                                                                                                                                                                                                                                                                                                                                                                                                                                                                                                                                                                                                                                                                                                                                                                                                                                                                                                                                                                                                                                                                                                                                                                                                                                                                                                                                                                                                                                                                                                                                                                                                                                                                                                                                                                                                                                                                                                                                                                                                                                                                                                                                                                                                                                                                                                                                                                                                                                                                                                                                                                                                                                                                                                    Mpc     solMass   solMass / yr   solLum     solLum   solMass / solLum                                                                                                                                                                                                                                                                                                                                                                                                                                                                                                                                                                                                                                                                            \n",
      "----- ----------------- ------------------ ------ ----------------- ----------------- ---------------- ---------------- ----------------- ---------------- ---------------- ------------------ ------------------- ------------------- ------------------- ------------------- -------------- ------------------ ------------------ ------------------ ------------------ ------------- ----------------- ----------------- ----------------- ----------------- ------- ----------- ----------- ----------- ----------- ------- ----------- ----------- ----------- ----------- ------------------ ---------------- ----------------- ----------------- ----------------- ---------------- ------------------ ----------------- ----------------- ----------------- ---------------- ---------------- ----------------- ----------------- ----------------- ------------- ----------------- ----------------- ----------------- ----------------- ---------------- ------------------ ----------------- ----------------- ----------------- -------------- ------------------ ------------------ ------------------ ------------------ --------------- ---------------- ----------------- ----------------- ----------------- -------- ------------ ------------ ------------ ------------ --------- ------------- ------------- ------------- ------------- -------------- ------------------ ------------------ ------------------ ------------------ ------------- ----------------- ----------------- ----------------- ----------------- ------------ ---------------- ---------------- ---------------- ---------------- --------------- ------------------- ------------------- ------------------- ------------------- ------------- ----------------- ----------------- ----------------- ----------------- -------------- ------------------ ------------------ ------------------ ------------------ ----------------- ---------------- ----------------- ----------------- ----------------- ----------------- ------------------ ----------------- ----------------- ----------------- ---------------- ------------------ ------------------ ----------------- ----------------- --------- ------------- ------------- ------------- ------------- -------------- ------------------ ------------------ ------------------ ------------------ -------------- ------------------ ------------------ ------------------ ------------------ -------- ------------ ------------ ------------ ------------ ---------------- ---------------- ----------------- ----------------- ----------------- --------- ------------- ------------- ------------- ------------- -------------- ------------------ ------------------ ------------------ ------------------ ----------------- ----------- ----------------- ----------------- ------- -------- ----- --------- ---------- ------ -------- ---------- ---------- --------- ----------- ------------ ---------- ------------ ---------- -------- -------- -------- -------- -------- -------- ------------ ------------ ------------ ------------ ------------ ------------ ------------ ------------ --------- ---------- ------------ ---------- ---------- ---------------- ----------- ------------------------ ---------------------------- ------------------------ ------------------------ ------------------------ ------------ ------------ ------------ ------------ ------------ ------------ ------------ ------------ ------------ ------------ ------------ ------------ ------------ ------------ ------------ ------------ ------------ ------------ ------------ ------------ ------------ ------------ ------------ ------------ ----------------- ------------------------------------------ ---------------------------------------- ------------------------------------------ --- ----------------- ----------------- -------------\n",
      "40255 53.12528049885481 -27.72193868130649     12 1.096616619158008 1.095243575023553 1.09590838379776 1.09741689768905 1.098243609577721 1.09652980991402 1.09665047680693 1.9244112852212198  1.5735307736753201  0.7817090868081503   3.872437188702318   7.316565393809966          -99.0              -99.0              -99.0              -99.0              -99.0         -99.0             -99.0             -99.0             -99.0             -99.0   -99.0       -99.0       -99.0       -99.0       -99.0   -99.0       -99.0       -99.0       -99.0       -99.0 54.831994584417004 1.75013010096474 114.5644077223797 118.6115669629155 122.2066777340483 4.56317106114415 0.8261526224726441 7.763698082023657 9.485268227671556 11.22123755386877 5.50790088211546 1.58662962488505 8.738099827204598 11.87744049559162 15.28174013198523         -99.0             -99.0             -99.0             -99.0             -99.0 7.81054000446504 1.9523212468224602 10.51256737428449 14.20939069201811 17.90480671953109          -99.0              -99.0              -99.0              -99.0              -99.0 8.6650255993171 1.25059176177862 15.65604548394738 18.30323617863678 20.96567538817714    -99.0        -99.0        -99.0        -99.0        -99.0     -99.0         -99.0         -99.0         -99.0         -99.0          -99.0              -99.0              -99.0              -99.0              -99.0         -99.0             -99.0             -99.0             -99.0             -99.0        -99.0            -99.0            -99.0            -99.0            -99.0           -99.0               -99.0               -99.0               -99.0               -99.0         -99.0             -99.0             -99.0             -99.0             -99.0          -99.0              -99.0              -99.0              -99.0              -99.0 5.914240960286239 1.78669180434709 7.950872156265266 10.96958606138994 14.35821677764207 6.856509100225599 2.8812493416073397 10.31011904339672 17.70385528623179 25.62854320777206 0.82830181303241 1.5489787308723801 -1.248298762704582 1.495700666881403 4.596546247230204     -99.0         -99.0         -99.0         -99.0         -99.0          -99.0              -99.0              -99.0              -99.0              -99.0          -99.0              -99.0              -99.0              -99.0              -99.0    -99.0        -99.0        -99.0        -99.0        -99.0 7.74348469354011 1.65911825726232 11.90189297854723 15.17287271230546 18.52107786192214     -99.0         -99.0         -99.0         -99.0         -99.0          -99.0              -99.0              -99.0              -99.0              -99.0 27670.46044799999 4711.743774 380.0461136850919 50632.64245131288 51972.0      GS5 40255 53.125281 -27.721939  1.098       40     3686.4    79157.5 0.9059198    320.7649 0.0011122178  0.9154457 0.0022120597  0.9154457 324.2881   0.8889   0.8900   0.8927   0.8954   0.9125        8.347        0.069       15.777        0.090       27.102        0.131      110.626        4.483   5.8e+03   1.87e+11       17.125   2.85e+10   1.37e+11             6.54        1.29   1.80e+11 ..   1.92e+11       16.841 ..       17.467   2.82e+10 ..   2.88e+10   1.35e+11 ..   1.41e+11   8.92e-11 ..   9.48e-11        0.853        0.274        3.857        0.047        1.121        0.147        2.335        0.038        8.028        0.069       19.783        0.117       35.621        0.414       49.665        1.038       63.680        1.020      109.690        3.794      149.919       10.466      145.148        3.019 43.13467838612498 -18.475615046891583 .. -18.605785869035138 -18.72956707325877 .. -18.93874027577342 -19.566357158097638 .. -19.630795024308576   / 31.33023913718841 5.523399595932709          keep\n",
      "Calculating weights : |##################################################| 100% \n",
      "Remapping : |##################################################| 100% ___|  10% \n",
      "Calculating weights : |##################################################| 100% \n",
      "Calculating weights : |##################################################| 100% \n",
      "Remapping : |##################################################| 100% ___|  40% \n",
      "Calculating weights : |##################################################| 100% \n",
      "Remapping : |##################################################| 100% ___|  30% \n",
      "Remapping : |##################################################| 100% \n",
      "Calculating weights : |#####_____________________________________________|  10% "
     ]
    }
   ],
   "source": [
    "import magpie.montecarlo\n",
    "\n",
    "def spatial_remap(map,pixel_length):\n",
    "    b2r = magpie.montecarlo.Box2Ring()\n",
    "    b2r.setup_box(-25*pixel_length,25*pixel_length,50,\n",
    "                -25*pixel_length,25*pixel_length,50)\n",
    "    b2r.setup_polar_lin(0., 25*pixel_length, 12, 10, center=[0., 0.])\n",
    "    b2r.get_weights() \n",
    "    return np.linspace(b2r.redges[0], b2r.redges[-1],12), b2r.remap(map)\n",
    "\n",
    "def radial_profile(obj,linemap,weight,seg,pixel_length):\n",
    "        linemap = linemap.data; weight = weight.data; seg = seg.data\n",
    "\n",
    "        seg = np.where(seg==obj['ID'],1,0)\n",
    "        seg = np.where(linemap>0,seg,0)\n",
    "        seg = spatial_remap(seg,pixel_length)[1]\n",
    "        seg_weight = seg/np.sum(seg,axis=0)\n",
    "\n",
    "        r, linemap_r,   = spatial_remap(np.where(linemap>0,linemap,0),pixel_length)\n",
    "        linemap_r_wht = spatial_remap(np.where(linemap>0,weight,0),pixel_length)[1]\n",
    "\n",
    "\n",
    "        map_r   = np.average(linemap_r,weights=seg_weight,axis=0)\n",
    "        map_r_err = 1/np.sum(linemap_r_wht*seg,axis=0)**0.5\n",
    "        map_r_std = np.average((linemap_r-map_r)**2,weights = seg_weight,axis=0)**0.5\n",
    "        map_r_err = (map_r_err**2 + map_r_std**2)**0.5\n",
    "        return r, map_r, map_r_err \n",
    "\n",
    "\n",
    "def gen_radial_table(obj,LINE_HA='LINE_HA',LINE_HB='LINE_HB_CONV',\n",
    "                    LINEWHT_HA='LINEWHT_HA',LINEWHT_HB='LINEWHT_HB_CONV'):\n",
    "    #try:\n",
    "    path = f\"data_extracted/{file_name(obj,prefix='extracted')}\"\n",
    "    with fits.open(path,mode='update') as hdu:\n",
    "        print(obj)\n",
    "        \n",
    "        pixel_length = np.deg2rad(find_data(LINE_HA,hdu).header['PIXASEC']/3600) * Planck18.angular_diameter_distance(hdu[1].header['Z_MAP']).to(u.kpc).value\n",
    "\n",
    "        r, ha_r, ha_r_err = radial_profile(obj,find_data(LINE_HA,hdu),find_data(LINEWHT_HA,hdu),find_data('SEG',hdu),pixel_length)\n",
    "        r, hb_r, hb_r_err = radial_profile(obj,find_data(LINE_HB,hdu),find_data(LINEWHT_HB,hdu),find_data('SEG',hdu),pixel_length)\n",
    "\n",
    "        balmer_r     = ha_r/hb_r\n",
    "        balmer_r_err = ((ha_r_err/hb_r)**2 + (hb_r_err**2 * (ha_r/hb_r**2)**2))**0.5\n",
    "        \n",
    "        cols = [\n",
    "            fits.Column(name='DISTANCE [kpc]',                       format='E', array=r),\n",
    "            fits.Column(name='Ha_SURF_BRIGHT [1e-17 erg/s/cm2]',     format='E', array=ha_r),\n",
    "            fits.Column(name='Ha_SURF_BRIGHT_err [1e-17 erg/s/cm2]', format='E', array=ha_r_err),\n",
    "            fits.Column(name='Hb_SURF_BRIGHT [1e-17 erg/s/cm2]',     format='E', array=hb_r),\n",
    "            fits.Column(name='Hb_SURF_BRIGHT_err [1e-17 erg/s/cm2]', format='E', array=hb_r_err),\n",
    "            fits.Column(name='BALMER_DECREM',                        format='E', array=balmer_r),\n",
    "            fits.Column(name='BALMER_DECREM_ERR',                    format='E', array=balmer_r_err),\n",
    "        ]\n",
    "\n",
    "        #choose the right name for table\n",
    "        if 'CONV' in LINE_HB:\n",
    "            name_addon = '_CONV'\n",
    "        else:\n",
    "            name_addon = ''\n",
    "        if 'BG' not in LINE_HA:\n",
    "            name = f'RAD_PROFILE{name_addon}'\n",
    "            new_table = fits.BinTableHDU.from_columns(cols, name=name)\n",
    "        else:\n",
    "            name = f'RAD_PROFILE{name_addon}_BG'\n",
    "            new_table = fits.BinTableHDU.from_columns(cols, name=name)\n",
    "        \n",
    "        clear_output(wait=True)\n",
    "\n",
    "        #save or update table\n",
    "        for i,image in enumerate(hdu):\n",
    "            if  image.name == name:\n",
    "                hdu[i] = new_table\n",
    "                hdu.flush()\n",
    "                return f\"{obj['subfield']}-{obj['ID']} processed\"\n",
    "\n",
    "        hdu.append(new_table)\n",
    "        hdu.flush()\n",
    "        return f\"{obj['subfield']}-{obj['ID']} processed\"\n",
    "    #except Exception as e:\n",
    "    #        return f\"! {obj['subfield']}-{obj['ID']} failed, error{e}\"\n",
    "\n",
    "\n",
    "def cat_process(obj_lis,max_threads=1):\n",
    "        results = []\n",
    "        if max_threads > 1 :\n",
    "            with ThreadPoolExecutor(max_threads) as executor:\n",
    "                futures = {executor.submit(gen_radial_table,obj):obj for obj in obj_lis}\n",
    "                for future in tqdm(as_completed(futures), total=len(obj_lis), desc=\"Processing\"):\n",
    "                    results.append(future.result())\n",
    "            return results\n",
    "        else:\n",
    "            for obj in obj_lis:\n",
    "                results.append(gen_radial_table(obj))\n",
    "            return results\n",
    "def main():\n",
    "\n",
    "    obj_lis = Table.read('obj_lis_selected.fits')\n",
    "    results = cat_process(obj_lis,max_threads=6)\n",
    "\n",
    "    number = 0\n",
    "    for result in results:\n",
    "        if 'error' in result:\n",
    "            number +=1\n",
    "            print(result)\n",
    "    print(results)\n",
    "    print('total number of obj processed:',len(results))\n",
    "    print('number of failed obj',number)\n",
    "\n",
    "\n",
    "if __name__ == '__main__':\n",
    "    main()\n"
   ]
  },
  {
   "cell_type": "code",
   "execution_count": 3,
   "metadata": {},
   "outputs": [
    {
     "name": "stderr",
     "output_type": "stream",
     "text": [
      "/tmp/ipykernel_20856/885594253.py:65: MatplotlibDeprecationWarning: Auto-close()ing of figures upon backend switching is deprecated since 3.8 and will be removed in 3.10.  To suppress this warning, explicitly call plt.close('all') first.\n",
      "  use('Agg')\n",
      "100%|██████████| 158/158 [01:52<00:00,  1.41it/s]"
     ]
    },
    {
     "name": "stdout",
     "output_type": "stream",
     "text": [
      "total number of obj processed: 158\n",
      "number of failed obj 0\n"
     ]
    },
    {
     "name": "stderr",
     "output_type": "stream",
     "text": [
      "\n"
     ]
    }
   ],
   "source": [
    "%matplotlib inline\n",
    "def plot_balmer_decrem(obj):\n",
    "    try:\n",
    "        path = f\"data_extracted/{file_name(obj,prefix='extracted')}\"\n",
    "        with fits.open(path) as hdu:    \n",
    "            \n",
    "            pixel_length = np.deg2rad(find_data('LINE_HA',hdu).header['PIXASEC']/3600) * Planck18.angular_diameter_distance(hdu[1].header['Z_MAP']).to(u.kpc).value\n",
    "        \n",
    "            ax = plt.figure(figsize=(8,10));i=1\n",
    "            \n",
    "            for index in [3,2,4,6]:\n",
    "                ax.add_subplot(int(f'32{i}'));i+=1\n",
    "                plt.imshow(hdu[index].data,#np.where(seg,hdu[index].data,0),\n",
    "                            norm=colors.Normalize(vmin=0),\n",
    "                            origin='lower',\n",
    "                            cmap = 'plasma_r')\n",
    "                plt.plot([3,7],[4,4])\n",
    "                plt.text(5,5,f'{round(pixel_length*4,2)}kpc')\n",
    "                plt.title(f\"{hdu[index].name}_{obj['subfield']}_{obj['ID']}{obj['tag']}\")\n",
    "                plt.colorbar()\n",
    "            \n",
    "            r,ha_r,ha_r_err, hb_r, hb_r_err, balmer_r, balmer_r_err = np.vstack(find_data('RAD_PROFILE',hdu).data).transpose()\n",
    "            r,ha_r_bg,ha_r_err_bg, hb_r_bg, hb_r_err_bg, balmer_r_bg, balmer_r_err_bg = np.vstack(find_data('RAD_PROFILE_BG',hdu).data).transpose()\n",
    "            \n",
    "            ax.add_subplot(325)\n",
    "            plt.errorbar(r,ha_r,yerr = ha_r_err,fmt='bo:',label='Ha')\n",
    "            plt.errorbar(r,hb_r,yerr = hb_r_err,fmt='go:',label='Hb')\n",
    "            plt.errorbar(r,ha_r_bg,yerr = ha_r_err_bg,fmt='bo:',label='Ha_bg_subtracted',alpha=0.4)\n",
    "            plt.errorbar(r,hb_r_bg,yerr = hb_r_err_bg,fmt='go:',label='Hb_bg_subtracted',alpha=0.4)\n",
    "            plt.xlabel('distance [kpc]'); plt.ylabel('flux [1e-7 erg/s/cm2]')\n",
    "            plt.yscale('log');plt.grid();plt.legend()\n",
    "            \n",
    "            ax.add_subplot(326)\n",
    "            plt.errorbar(r,balmer_r,yerr = balmer_r_err,fmt='ro:',label='balmer_decrem')\n",
    "            plt.errorbar(r,balmer_r_bg,yerr = balmer_r_err_bg,fmt='bo:',label='balmer_decrem_bg_subtracted',alpha=0.4)\n",
    "            plt.xlabel('distance [kpc]');plt.ylabel('Ha/Hb')\n",
    "            plt.xlim(0,8);plt.ylim(-5,10)\n",
    "            plt.grid();plt.legend()\n",
    "\n",
    "            plt.savefig(f\"radial_balmer_decrem/{obj['subfield']}-{obj['ID']}.png\")\n",
    "            if obj['sn_hb'] >10:\n",
    "                plt.savefig(f\"sn_10/{obj['subfield']}-{obj['ID']}.png\")\n",
    "            plt.close('all')\n",
    "            return f\"{obj['subfield']}-{obj['ID']}saved\"\n",
    "        \n",
    "\n",
    "    except Exception as e:\n",
    "            return f\"! {obj['subfield']}-{obj['ID']} failed, error{e}\"\n",
    "\n",
    "def cat_process(obj_lis,max_threads=1):\n",
    "        results = []\n",
    "        if max_threads>1:\n",
    "            with ThreadPoolExecutor(max_threads) as executor:\n",
    "                futures = {executor.submit(plot_balmer_decrem,obj):obj for obj in obj_lis}\n",
    "                for future in tqdm(as_completed(futures), total=len(obj_lis), desc=\"Processing\"):\n",
    "                    results.append(future.result())\n",
    "            return results\n",
    "        else:\n",
    "            for obj in tqdm(obj_lis):\n",
    "                results.append(plot_balmer_decrem(obj))\n",
    "            return results\n",
    "\n",
    "\n",
    "if __name__ == '__main__':\n",
    "    use('Agg')\n",
    "    obj_lis = Table.read('obj_lis_selected.fits')\n",
    "    results = cat_process(obj_lis,max_threads=1)\n",
    "    number = 0\n",
    "    for result in results:\n",
    "        if 'error' in result:\n",
    "            number +=1\n",
    "            print(result)\n",
    "    print('total number of obj processed:',len(results))\n",
    "    print('number of failed obj',number)\n",
    "\n",
    "    "
   ]
  },
  {
   "cell_type": "code",
   "execution_count": null,
   "metadata": {},
   "outputs": [],
   "source": []
  }
 ],
 "metadata": {
  "kernelspec": {
   "display_name": "magpie",
   "language": "python",
   "name": "python3"
  },
  "language_info": {
   "codemirror_mode": {
    "name": "ipython",
    "version": 3
   },
   "file_extension": ".py",
   "mimetype": "text/x-python",
   "name": "python",
   "nbconvert_exporter": "python",
   "pygments_lexer": "ipython3",
   "version": "3.9.20"
  }
 },
 "nbformat": 4,
 "nbformat_minor": 2
}
