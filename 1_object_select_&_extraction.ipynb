{
 "cells": [
  {
   "cell_type": "markdown",
   "metadata": {},
   "source": [
    "# object selection form catalog\n",
    "\n",
    "currently it's just a simple selection S/N of Ha Hb fluxes > 5"
   ]
  },
  {
   "cell_type": "code",
   "execution_count": 1,
   "metadata": {},
   "outputs": [
    {
     "name": "stdout",
     "output_type": "stream",
     "text": [
      "total num of objs in the fields 6048\n",
      "num of objs after s/n selection: 158\n"
     ]
    }
   ],
   "source": [
    "from   astropy.table import Table, vstack, join, setdiff\n",
    "import numpy         as np\n",
    "\n",
    "import warnings\n",
    "from   astropy.io.fits.card import VerifyWarning\n",
    "warnings.simplefilter('ignore', VerifyWarning)\n",
    "\n",
    "\n",
    "\n",
    "gn   = Table.read('hlsp_clear_hst_wfc3_gdn_multi_v4.1_clear.fits')\n",
    "gn_m = Table.read('hlsp_clear_hst_wfc3-acs_gdn-3dhst_multi_v4.6_zout.fits')\n",
    "gn_cat = join(gn,gn_m,keys_left='ID',keys_right='id',join_type='left',metadata_conflicts='silent')\n",
    "\n",
    "gs   = Table.read('hlsp_clear_hst_wfc3_gds_multi_v4.1_clear.fits')\n",
    "gs_m = Table.read('hlsp_clear_hst_wfc3-acs_gds-3dhst_multi_v4.6_zout.fits')\n",
    "gs_cat = join(gs,gs_m,keys_left='ID',keys_right='id',join_type='left',metadata_conflicts='silent')\n",
    "\n",
    "cat_lis = vstack([gn_cat,gs_cat],metadata_conflicts='silent')\n",
    "cat_lis.write('full_object_catalog.fits',overwrite=True)\n",
    "\n",
    "cat_hasline = cat_lis[np.logical_and(cat_lis['Ha_FLUX'] >0, cat_lis['Hb_FLUX']>0)]\n",
    "sn_ha = cat_hasline['Ha_FLUX']/cat_hasline['Ha_FLUX_ERR']\n",
    "sn_hb = cat_hasline['Hb_FLUX']/cat_hasline['Hb_FLUX_ERR']\n",
    "selection = np.logical_and(sn_ha>5,sn_hb>5)\n",
    "obj_lis = cat_hasline[selection]\n",
    "\n",
    "obj_lis.write('obj_lis_selected.fits',overwrite=True)\n",
    "\n",
    "print('total num of objs in the fields',len(cat_lis))\n",
    "print('num of objs after s/n selection:',len(obj_lis))\n"
   ]
  },
  {
   "cell_type": "markdown",
   "metadata": {},
   "source": [
    "# download spectrum from server.\n",
    "\n",
    "It is recommended that to run the script downloadSpectra in prompt because of potential stability issue"
   ]
  },
  {
   "cell_type": "markdown",
   "metadata": {},
   "source": [
    "# Extract line maps from data products"
   ]
  },
  {
   "cell_type": "code",
   "execution_count": 130,
   "metadata": {},
   "outputs": [
    {
     "name": "stderr",
     "output_type": "stream",
     "text": [
      "Processing: 100%|██████████| 158/158 [00:00<00:00, 499.96it/s]"
     ]
    },
    {
     "name": "stdout",
     "output_type": "stream",
     "text": [
      "['GN3-35568 saved(updated)', 'GN3-34708 saved(updated)', 'GN3-33115 saved(updated)', 'GN3-32719 saved(updated)', 'GN3-34971 saved(updated)', 'GN3-30204 saved(updated)', 'GN3-34529 saved(updated)', 'GN3-33307 saved(updated)', 'GN3-32660 saved(updated)', 'GN3-33135 saved(updated)', 'GN3-34838 saved(updated)', 'GN3-35042 saved(updated)', 'GN4-28379 saved(updated)', 'GN1-37031 saved(updated)', 'GN3-28121 saved(updated)', 'GN3-35039 saved(updated)', 'GN3-32166 saved(updated)', 'GN7-19504 saved(updated)', 'GN7-17927 saved(updated)', 'GN7-12769 saved(updated)', 'GN7-14281 saved(updated)', 'GN3-35822 saved(updated)', 'GN7-11883 saved(updated)', 'GN7-13777 saved(updated)', 'GN7-19235 saved(updated)', 'GN7-15127 saved(updated)', 'GN7-19659 saved(updated)', 'GN7-13909 saved(updated)', 'GN3-34570 saved(updated)', 'GN7-14850 saved(updated)', 'GN7-14716 saved(updated)', 'GN7-15300 saved(updated)', 'GN7-17532 saved(updated)', 'GN7-13686 saved(updated)', 'GN7-19005 saved(updated)', 'GN7-16041 saved(updated)', 'GN2-17829 saved(updated)', 'GN7-19258 saved(updated)', 'GN2-18197 saved(updated)', 'GN7-15204 saved(updated)', 'GN7-11839 saved(updated)', 'GN2-21552 saved(updated)', 'GN2-18315 saved(updated)', 'GN2-17579 saved(updated)', 'GN7-13197 saved(updated)', 'GN2-11228 saved(updated)', 'GN7-14184 saved(updated)', 'GN4-23082 saved(updated)', 'GN2-10512 saved(updated)', 'GN2-18224 saved(updated)', 'GN2-16752 saved(updated)', 'GN4-19075 saved(updated)', 'GN4-21690 saved(updated)', 'GN2-16173 saved(updated)', 'GN2-14895 saved(updated)', 'GN7-15761 saved(updated)', 'GN7-23580 saved(updated)', 'GN2-21720 saved(updated)', 'GN4-22547 saved(updated)', 'GN4-24377 saved(updated)', 'GN4-23756 saved(updated)', 'GN4-26015 saved(updated)', 'GN4-27282 saved(updated)', 'GN1-37567 saved(updated)', 'GN4-22815 saved(updated)', 'GN1-37590 saved(updated)', 'GN4-24582 saved(updated)', 'GN1-37395 saved(updated)', 'GN1-37738 saved(updated)', 'GN1-37623 saved(updated)', 'GN5-32398 saved(updated)', 'GN5-31789 saved(updated)', 'GN1-37893 saved(updated)', 'GN1-38134 saved(updated)', 'GS2-45116 saved(updated)', 'GS3-37903 saved(updated)', 'GS3-40742 saved(updated)', 'GS3-40611 saved(updated)', 'GS3-41053 saved(updated)', 'GS2-45633 saved(updated)', 'GN5-32244 saved(updated)', 'GS3-34363 saved(updated)', 'GS2-47770 saved(updated)', 'GS3-40108 saved(updated)', 'GS3-36653 saved(updated)', 'GS3-42513 saved(updated)', 'GS3-41370 saved(updated)', 'GS3-37010 saved(updated)', 'GS3-40620 saved(updated)', 'ERSPRIME-43823 saved(updated)', 'ERSPRIME-39406 saved(updated)', 'ERSPRIME-40759 saved(updated)', 'GS3-36182 saved(updated)', 'ERSPRIME-45258 saved(updated)', 'ERSPRIME-40078 saved(updated)', 'ERSPRIME-45646 saved(updated)', 'GS2-45439 saved(updated)', 'GS5-44519 saved(updated)', 'GS2-48371 saved(updated)', 'GS2-48123 saved(updated)', 'ERSPRIME-38832 saved(updated)', 'GS2-48417 saved(updated)', 'GS5-44066 saved(updated)', 'GS5-42472 saved(updated)', 'GS1-48850 saved(updated)', 'GS5-42958 saved(updated)', 'GS1-47399 saved(updated)', 'GS5-42758 saved(updated)', 'GS1-44101 saved(updated)', 'GS1-45789 saved(updated)', 'GS1-48793 saved(updated)', 'GS2-48652 saved(updated)', 'GS2-45795 saved(updated)', 'GS1-47348 saved(updated)', 'GS1-49063 saved(updated)', 'GS1-43403 saved(updated)', 'GS1-46685 saved(updated)', 'GS1-47214 saved(updated)', 'GS1-44957 saved(updated)', 'GS1-48918 saved(updated)', 'GS1-47375 saved(updated)', 'GS1-46464 saved(updated)', 'GS1-48357 saved(updated)', 'GS4-26087 saved(updated)', 'GS4-20651 saved(updated)', 'GS4-20698 saved(updated)', 'GS4-24947 saved(updated)', 'GS4-28052 saved(updated)', 'GS4-29053 saved(updated)', 'GS4-26175 saved(updated)', 'GS4-20970 saved(updated)', 'GS4-28448 saved(updated)', 'GS4-26698 saved(updated)', 'GS4-25641 saved(updated)', 'GS4-29846 saved(updated)', 'GS4-25745 saved(updated)', 'GS4-28190 saved(updated)', 'GS4-29717 saved(updated)', 'GS4-30976 saved(updated)', 'GS4-26739 saved(updated)', 'GS4-30520 saved(updated)', 'GS4-24803 saved(updated)', 'GS4-24519 saved(updated)', 'GS4-26031 saved(updated)', 'GS4-29394 saved(updated)', 'GS4-31454 saved(updated)', 'GS5-40270 saved(updated)', 'GS4-27795 saved(updated)', 'GS5-38513 saved(updated)', 'GS4-22730 saved(updated)', 'GS4-29686 saved(updated)', 'GS5-40976 saved(updated)', 'GS4-26807 saved(updated)', 'GS4-25592 saved(updated)', 'GS5-40255 saved(updated)', 'GS5-38616 saved(updated)', 'GS5-40392 saved(updated)', 'GS5-41122 saved(updated)']\n"
     ]
    },
    {
     "name": "stderr",
     "output_type": "stream",
     "text": [
      "\n"
     ]
    }
   ],
   "source": [
    "from    astropy.table       import Table\n",
    "import  numpy               as     np\n",
    "from    astropy.io          import fits\n",
    "from    photutils.psf       import matching as match\n",
    "from    astropy.convolution import convolve_fft \n",
    "from    tqdm                import tqdm\n",
    "import  os\n",
    "import  gc                                         \n",
    "\n",
    "#this gives the file name + prefix of an obj in the cat file\n",
    "def file_name(obj,prefix,filetype='fits'):\n",
    "    field = obj['subfield'].lower()\n",
    "    id    = str(obj['ID']).zfill(5)\n",
    "    return f\"hlsp_clear_hst_wfc3_{field}-{id}_g102-g141_v4_{prefix}.{filetype}\"\n",
    "\n",
    "\n",
    "def extract_HaHb(hdu):\n",
    "    \"\"\"\n",
    "\n",
    "    pass objs from obj_lis to extract ha hb lines\n",
    "\n",
    "    return: HDUlist with the following entry:\n",
    "\n",
    "    0 primary extension, same as original file\n",
    "\n",
    "    1 line-fit results\n",
    "\n",
    "    2 segmentation map\n",
    "\n",
    "    3 clear filter maps\n",
    "\n",
    "    4,5 Ha line map & line weight\n",
    "\n",
    "    6,7 Hb line map & line weight\n",
    "\n",
    "    \"\"\"\n",
    "    #set up a crop of 50x50 pix in the center\n",
    "    center_size = 50; shape = hdu[5].shape[0]\n",
    "    #start index: si and end index: ei\n",
    "    si = (shape - center_size) // 2; \n",
    "    ei = si + center_size\n",
    "\n",
    "    new_file = fits.HDUList()\n",
    "    #save primary extension\n",
    "    new_file.append(hdu[0])\n",
    "    #save line-fit info\n",
    "    new_file.append(hdu[1])\n",
    "    \"\"\"\n",
    "    select segmentation map [4]\n",
    "    also save 1 DSCI image for comparison [5]\n",
    "    \"\"\"\n",
    "    for i in [4,5]: \n",
    "        hdu[i].data = hdu[i].data[si:ei,si:ei]\n",
    "        new_file.append(hdu[i])\n",
    "\n",
    "    #loop to select ha hb line maps\n",
    "    for image in hdu:\n",
    "        if image.header.get('EXTTYPE') in ['Ha','Hb'] and (image.name == 'LINE' or image.name == 'LINEWHT'):\n",
    "            image.data = image.data[si:ei,si:ei]\n",
    "            image.name = f\"{image.name}_{image.header['EXTTYPE']}\"\n",
    "            new_file.append(image)\n",
    "    return new_file\n",
    "\n",
    "\n",
    "def data_process(obj):\n",
    "    try:\n",
    "        path_data_product   = f\"data_products/{file_name(obj,'full')}\"\n",
    "        path_data_extracted = f\"data_extracted/{file_name(obj,'extracted')}\"\n",
    "\n",
    "        need_update_from_data_products = False\n",
    "        need_save_file = False\n",
    "\n",
    "        \n",
    "        if need_update_from_data_products == True or not os.path.exists(path_data_extracted):\n",
    "            extracted = extract_HaHb(fits.open(path_data_product))\n",
    "        else:\n",
    "            extracted = fits.open(path_data_extracted,mode='update')\n",
    "            \n",
    "        #this part still needs psf matching---------\n",
    "        \n",
    "        #save file\n",
    "        if need_save_file == True: \n",
    "            if need_update_from_data_products == True:\n",
    "                extracted.flush()\n",
    "            else:\n",
    "                extracted.writeto(path_data_extracted,overwrite=True)\n",
    "        return f\"{obj['subfield']}-{obj['ID']} saved(updated)\"\n",
    "    \n",
    "    except Exception as e:\n",
    "            return f\"! {obj['subfield']}-{obj['ID']} failed, error:{e}\"\n",
    "\n",
    "\n",
    "from concurrent.futures import ThreadPoolExecutor, as_completed\n",
    "def main():\n",
    "        os.makedirs('data_extracted',exist_ok=True)\n",
    "        obj_lis = Table.read('obj_lis_selected.fits')\n",
    "        max_threads=7\n",
    "        results = []\n",
    "        with ThreadPoolExecutor(max_threads) as executor:\n",
    "            futures = {executor.submit(data_process,obj):obj for obj in obj_lis}\n",
    "            for future in tqdm(as_completed(futures), total=len(obj_lis), desc=\"Processing\"):\n",
    "                results.append(future.result())\n",
    "        print(results)\n",
    "\n",
    "if __name__ == '__main__':\n",
    "    main()\n"
   ]
  },
  {
   "cell_type": "markdown",
   "metadata": {},
   "source": []
  }
 ],
 "metadata": {
  "kernelspec": {
   "display_name": "baproj",
   "language": "python",
   "name": "python3"
  },
  "language_info": {
   "codemirror_mode": {
    "name": "ipython",
    "version": 3
   },
   "file_extension": ".py",
   "mimetype": "text/x-python",
   "name": "python",
   "nbconvert_exporter": "python",
   "pygments_lexer": "ipython3",
   "version": "3.9.20"
  }
 },
 "nbformat": 4,
 "nbformat_minor": 2
}
