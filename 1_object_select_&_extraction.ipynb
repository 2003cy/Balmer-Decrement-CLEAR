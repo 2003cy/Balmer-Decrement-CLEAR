{
 "cells": [
  {
   "cell_type": "markdown",
   "metadata": {},
   "source": [
    "# object selection form catalog\n",
    "\n",
    "currently it's just a simple selection S/N of Ha Hb fluxes > 5"
   ]
  },
  {
   "cell_type": "code",
   "execution_count": null,
   "metadata": {},
   "outputs": [],
   "source": [
    "from   astropy.table import Table, vstack, join, setdiff\n",
    "import numpy         as np\n",
    "from   astropy.coordinates import SkyCoord, match_coordinates_sky\n",
    "import astropy.units as u\n",
    "import warnings\n",
    "from   astropy.io.fits.card import VerifyWarning\n",
    "warnings.simplefilter('ignore', VerifyWarning)"
   ]
  },
  {
   "cell_type": "markdown",
   "metadata": {},
   "source": [
    "### Goodnorth sample prearation, agn selection"
   ]
  },
  {
   "cell_type": "code",
   "execution_count": 90,
   "metadata": {},
   "outputs": [
    {
     "ename": "SyntaxError",
     "evalue": "invalid syntax (3195414558.py, line 14)",
     "output_type": "error",
     "traceback": [
      "\u001b[1;36m  Input \u001b[1;32mIn [90]\u001b[1;36m\u001b[0m\n\u001b[1;33m    ['agn' for index in idx[d2d.deg < 5/3600] else '/' for index in range(len(gn_cat))]\u001b[0m\n\u001b[1;37m                                              ^\u001b[0m\n\u001b[1;31mSyntaxError\u001b[0m\u001b[1;31m:\u001b[0m invalid syntax\n"
     ]
    }
   ],
   "source": [
    "# initial catalog\n",
    "gn   = Table.read('hlsp_clear_hst_wfc3_gdn_multi_v4.1_clear.fits')\n",
    "gn_m = Table.read('hlsp_clear_hst_wfc3-acs_gdn-3dhst_multi_v4.6_zout.fits')\n",
    "gn_cat = join(gn,gn_m,keys_left='ID',keys_right='id',join_type='left',metadata_conflicts='silent')\n",
    "#agn catalog crossmatch\n",
    "filename = \"goodsn_agn.txt\"\n",
    "with open(filename, \"r\") as file:\n",
    "    source_ids = file.readlines()\n",
    "source_ids = [line.strip() for line in source_ids]\n",
    "coord_agn = SkyCoord(source_ids,unit=(u.hourangle, u.deg))\n",
    "coord_obj = SkyCoord(gn_cat['ra'],gn_cat['dec'],unit=(u.deg,u.deg))\n",
    "idx,d2d,d3d = match_coordinates_sky(coord_agn,coord_obj)\n",
    "gn_cat.remove_rows()\n",
    "['agn' for index in idx[d2d.deg < 5/3600] else '/' for index in range(len(gn_cat))]"
   ]
  },
  {
   "cell_type": "code",
   "execution_count": null,
   "metadata": {},
   "outputs": [],
   "source": [
    "\n",
    "gs   = Table.read('hlsp_clear_hst_wfc3_gds_multi_v4.1_clear.fits')\n",
    "gs_m = Table.read('hlsp_clear_hst_wfc3-acs_gds-3dhst_multi_v4.6_zout.fits')\n",
    "gs_agn = Table.read('goodss_agn.txt', \n",
    "        format='ascii',  \n",
    "        names=[\n",
    "            \"3DHST\", \"VLA\", \"CDF-S\", \"z\", \"RAdeg\", \"DEdeg\", \"f_z\", \"mtype-s\", \"mtype-c\",\n",
    "            \"xtype-l\", \"xtype-x\", \"rtype-r\", \"rtype-f\", \"otype-sp\", \"otype-se\", \"var\",\n",
    "            \"logL-i\", \"f_logL-i\", \"logL-s\", \"logL-x\", \"Mbh\", \"M*\", \"rTag\", \"xTag\", \"mTag\",\n",
    "            \"oTag\", \"logNH\", \"logLx\", \"logLint\", \"gamma\", \"er_gamma\", \"CType\", \"L3GHz\",\n",
    "            \"L6GHz\", \"q_L3GHz\", \"q_L6GHz\", \"q24Obs\", \"e_q24Obs\", \"q24crt\", \"alpha\",\n",
    "            \"er_alpha\", \"tau\", \"logL5100\", \"logL3um\", \"logL6um\", \"logL8um\", \"logL12um\",\n",
    "            \"logL20um\"\n",
    "        ]\n",
    ")\n",
    "gs_cat = join(gs,gs_m,keys_left='ID',keys_right='id',join_type='left',metadata_conflicts='silent')\n",
    "gs_cat['tag'] = ['agn' if id in gs_agn['3DHST'] else '/' for id in gs['ID']]\n",
    "\n",
    "\n",
    "\n",
    "cat_lis = vstack([gn_cat,gs_cat],metadata_conflicts='silent')\n",
    "cat_lis.write('full_object_catalog.fits',overwrite=True)\n",
    "cat_lis = gn_cat\n",
    "cat_hasline = cat_lis[np.logical_and(cat_lis['Ha_FLUX'] >0, cat_lis['Hb_FLUX']>0)]\n",
    "sn_ha = cat_hasline['Ha_FLUX']/cat_hasline['Ha_FLUX_ERR']\n",
    "sn_hb = cat_hasline['Hb_FLUX']/cat_hasline['Hb_FLUX_ERR']\n",
    "selection = np.logical_and(sn_ha>5,sn_hb>5)\n",
    "obj_lis = cat_hasline[selection]\n",
    "\n",
    "#obj_lis.write('obj_lis_selected.fits',overwrite=True)\n",
    "\n",
    "print('total num of objs in the fields',len(cat_lis))\n",
    "print('num of objs after s/n selection:',len(obj_lis))\n",
    "\n",
    "import matplotlib.pyplot as plt\n",
    "plt.plot(obj_lis['ra'],obj_lis['dec'],linewidth=0,marker='.')"
   ]
  },
  {
   "cell_type": "code",
   "execution_count": null,
   "metadata": {},
   "outputs": [
    {
     "ename": "TypeError",
     "evalue": "Row index must be an integer",
     "output_type": "error",
     "traceback": [
      "\u001b[1;31m---------------------------------------------------------------------------\u001b[0m",
      "\u001b[1;31mTypeError\u001b[0m                                 Traceback (most recent call last)",
      "Input \u001b[1;32mIn [86]\u001b[0m, in \u001b[0;36m<cell line: 12>\u001b[1;34m()\u001b[0m\n\u001b[0;32m      9\u001b[0m coord_obj \u001b[38;5;241m=\u001b[39m SkyCoord(obj_lis[\u001b[38;5;124m'\u001b[39m\u001b[38;5;124mra\u001b[39m\u001b[38;5;124m'\u001b[39m],obj_lis[\u001b[38;5;124m'\u001b[39m\u001b[38;5;124mdec\u001b[39m\u001b[38;5;124m'\u001b[39m],unit\u001b[38;5;241m=\u001b[39m(u\u001b[38;5;241m.\u001b[39mdeg,u\u001b[38;5;241m.\u001b[39mdeg))\n\u001b[0;32m     11\u001b[0m idx,d2d,d3d \u001b[38;5;241m=\u001b[39m match_coordinates_sky(coord_agn,coord_obj)\n\u001b[1;32m---> 12\u001b[0m \u001b[43mgn_cat\u001b[49m\u001b[38;5;241;43m.\u001b[39;49m\u001b[43mremove_row\u001b[49m\u001b[43m(\u001b[49m\u001b[38;5;28;43mlist\u001b[39;49m\u001b[43m(\u001b[49m\u001b[43midx\u001b[49m\u001b[43m[\u001b[49m\u001b[43md2d\u001b[49m\u001b[38;5;241;43m.\u001b[39;49m\u001b[43mdeg\u001b[49m\u001b[43m \u001b[49m\u001b[38;5;241;43m<\u001b[39;49m\u001b[43m \u001b[49m\u001b[38;5;241;43m5\u001b[39;49m\u001b[38;5;241;43m/\u001b[39;49m\u001b[38;5;241;43m3600\u001b[39;49m\u001b[43m]\u001b[49m\u001b[43m)\u001b[49m\u001b[43m)\u001b[49m\n",
      "File \u001b[1;32m~\\AppData\\Roaming\\Python\\Python39\\site-packages\\astropy\\table\\table.py:2705\u001b[0m, in \u001b[0;36mTable.remove_row\u001b[1;34m(self, index)\u001b[0m\n\u001b[0;32m   2703\u001b[0m \u001b[38;5;66;03m# check the index against the types that work with np.delete\u001b[39;00m\n\u001b[0;32m   2704\u001b[0m \u001b[38;5;28;01mif\u001b[39;00m \u001b[38;5;129;01mnot\u001b[39;00m \u001b[38;5;28misinstance\u001b[39m(index, (\u001b[38;5;28mint\u001b[39m, np\u001b[38;5;241m.\u001b[39minteger)):\n\u001b[1;32m-> 2705\u001b[0m     \u001b[38;5;28;01mraise\u001b[39;00m \u001b[38;5;167;01mTypeError\u001b[39;00m(\u001b[38;5;124m\"\u001b[39m\u001b[38;5;124mRow index must be an integer\u001b[39m\u001b[38;5;124m\"\u001b[39m)\n\u001b[0;32m   2706\u001b[0m \u001b[38;5;28mself\u001b[39m\u001b[38;5;241m.\u001b[39mremove_rows(index)\n",
      "\u001b[1;31mTypeError\u001b[0m: Row index must be an integer"
     ]
    }
   ],
   "source": [
    "\n",
    "\n",
    "\n"
   ]
  },
  {
   "cell_type": "code",
   "execution_count": null,
   "metadata": {},
   "outputs": [
    {
     "data": {
      "text/plain": [
       "array([False, False, False, False, False, False, False, False, False,\n",
       "       False, False,  True, False, False,  True, False, False, False,\n",
       "       False, False,  True, False, False, False, False, False, False,\n",
       "       False, False, False, False])"
      ]
     },
     "execution_count": 71,
     "metadata": {},
     "output_type": "execute_result"
    }
   ],
   "source": [
    "d2d.deg < 6/3600"
   ]
  },
  {
   "cell_type": "markdown",
   "metadata": {},
   "source": [
    "# download spectrum from server.\n",
    "\n",
    "It is recommended that to run the script downloadSpectra in prompt because of potential stability issue"
   ]
  },
  {
   "cell_type": "markdown",
   "metadata": {},
   "source": [
    "# Extract line maps from data products"
   ]
  },
  {
   "cell_type": "code",
   "execution_count": 2,
   "metadata": {},
   "outputs": [
    {
     "name": "stderr",
     "output_type": "stream",
     "text": [
      "Processing: 100%|██████████| 158/158 [01:36<00:00,  1.64it/s]"
     ]
    },
    {
     "name": "stdout",
     "output_type": "stream",
     "text": [
      "['GN2-11228 saved(updated)', 'GN7-13686 saved(updated)', 'GN7-12769 saved(updated)', 'GN7-11883 saved(updated)', 'GN7-13197 saved(updated)', 'GN2-10512 saved(updated)', 'GN7-11839 saved(updated)', 'GN7-14716 saved(updated)', 'GN7-13777 saved(updated)', 'GN7-13909 saved(updated)', 'GN7-14184 saved(updated)', 'GN2-14895 saved(updated)', 'GN7-14281 saved(updated)', 'GN7-14850 saved(updated)', 'GN7-15204 saved(updated)', 'GN7-15127 saved(updated)', 'GN7-16041 saved(updated)', 'GN7-15300 saved(updated)', 'GN2-16173 saved(updated)', 'GN2-16752 saved(updated)', 'GN7-15761 saved(updated)', 'GN2-17829 saved(updated)', 'GN2-17579 saved(updated)', 'GN4-19075 saved(updated)', 'GN2-18224 saved(updated)', 'GN7-19005 saved(updated)', 'GN7-19235 saved(updated)', 'GN2-18197 saved(updated)', 'GN7-17927 saved(updated)', 'GN2-18315 saved(updated)', 'GN7-17532 saved(updated)', 'GN7-19258 saved(updated)', 'GN7-19504 saved(updated)', 'GN2-21552 saved(updated)', 'GN4-21690 saved(updated)', 'GN4-22547 saved(updated)', 'GN2-21720 saved(updated)', 'GN7-19659 saved(updated)', 'GN4-22815 saved(updated)', 'GN4-23082 saved(updated)', 'GN7-23580 saved(updated)', 'GN4-23756 saved(updated)', 'GN4-26015 saved(updated)', 'GN4-24377 saved(updated)', 'GN4-24582 saved(updated)', 'GN4-27282 saved(updated)', 'GN3-28121 saved(updated)', 'GN4-28379 saved(updated)', 'GN3-32166 saved(updated)', 'GN5-31789 saved(updated)', 'GN3-30204 saved(updated)', 'GN5-32244 saved(updated)', 'GN5-32398 saved(updated)', 'GN3-32660 saved(updated)', 'GN3-34570 saved(updated)', 'GN3-33115 saved(updated)', 'GN3-32719 saved(updated)', 'GN3-34708 saved(updated)', 'GN3-34529 saved(updated)', 'GN3-33135 saved(updated)', 'GN3-33307 saved(updated)', 'GN3-34838 saved(updated)', 'GN3-35568 saved(updated)', 'GN3-35039 saved(updated)', 'GN3-35822 saved(updated)', 'GN3-35042 saved(updated)', 'GN3-34971 saved(updated)', 'GN1-37031 saved(updated)', 'GN1-37590 saved(updated)', 'GN1-37395 saved(updated)', 'GN1-37567 saved(updated)', 'GN1-37623 saved(updated)', 'GN1-37738 saved(updated)', 'GN1-38134 saved(updated)', 'GN1-37893 saved(updated)', 'GS4-20698 saved(updated)', 'GS4-24947 saved(updated)', 'GS4-20970 saved(updated)', 'GS4-20651 saved(updated)', 'GS4-25641 saved(updated)', 'GS4-22730 saved(updated)', 'GS4-25592 saved(updated)', 'GS4-26031 saved(updated)', 'GS4-24519 saved(updated)', 'GS4-26807 saved(updated)', 'GS4-26739 saved(updated)', 'GS4-26175 saved(updated)', 'GS4-28190 saved(updated)', 'GS4-26698 saved(updated)', 'GS4-26087 saved(updated)', 'GS4-24803 saved(updated)', 'GS4-28052 saved(updated)', 'GS4-27795 saved(updated)', 'GS4-25745 saved(updated)', 'GS4-28448 saved(updated)', 'GS4-29053 saved(updated)', 'GS4-29686 saved(updated)', 'GS3-34363 saved(updated)', 'GS3-36182 saved(updated)', 'GS3-36653 saved(updated)', 'GS3-37010 saved(updated)', 'GS3-37903 saved(updated)', 'GS5-38513 saved(updated)', 'GS5-38616 saved(updated)', 'ERSPRIME-38832 saved(updated)', 'ERSPRIME-39406 saved(updated)', 'GS4-29717 saved(updated)', 'ERSPRIME-40078 saved(updated)', 'GS4-29394 saved(updated)', 'GS4-29846 saved(updated)', 'GS5-40392 saved(updated)', 'GS5-40270 saved(updated)', 'GS3-40611 saved(updated)', 'GS3-40108 saved(updated)', 'GS5-40255 saved(updated)', 'GS3-40620 saved(updated)', 'GS3-41053 saved(updated)', 'ERSPRIME-40759 saved(updated)', 'GS3-40742 saved(updated)', 'GS5-41122 saved(updated)', 'GS3-41370 saved(updated)', 'GS5-40976 saved(updated)', 'GS5-42472 saved(updated)', 'GS3-42513 saved(updated)', 'GS1-43403 saved(updated)', 'GS5-42958 saved(updated)', 'GS5-42758 saved(updated)', 'ERSPRIME-43823 saved(updated)', 'GS1-44101 saved(updated)', 'GS5-44066 saved(updated)', 'GS5-44519 saved(updated)', 'GS1-44957 saved(updated)', 'GS2-45116 saved(updated)', 'ERSPRIME-45258 saved(updated)', 'GS2-45439 saved(updated)', 'GS2-45633 saved(updated)', 'ERSPRIME-45646 saved(updated)', 'GS2-45795 saved(updated)', 'GS4-31454 saved(updated)', 'GS4-30976 saved(updated)', 'GS1-45789 saved(updated)', 'GS1-46685 saved(updated)', 'GS1-46464 saved(updated)', 'GS4-30520 saved(updated)', 'GS1-47214 saved(updated)', 'GS1-47348 saved(updated)', 'GS1-47399 saved(updated)', 'GS1-47375 saved(updated)', 'GS2-48123 saved(updated)', 'GS2-48371 saved(updated)', 'GS1-48357 saved(updated)', 'GS2-47770 saved(updated)', 'GS2-48417 saved(updated)', 'GS1-48918 saved(updated)', 'GS2-48652 saved(updated)', 'GS1-49063 saved(updated)', 'GS1-48850 saved(updated)', 'GS1-48793 saved(updated)']\n"
     ]
    },
    {
     "name": "stderr",
     "output_type": "stream",
     "text": [
      "\n"
     ]
    }
   ],
   "source": [
    "from    astropy.table       import Table\n",
    "import  numpy               as     np\n",
    "from    astropy.io          import fits\n",
    "from    photutils.psf       import matching as match\n",
    "from    astropy.convolution import convolve_fft \n",
    "from    tqdm                import tqdm\n",
    "import  os\n",
    "import  gc                                         \n",
    "\n",
    "#this gives the file name + prefix of an obj in the cat file\n",
    "def file_name(obj,prefix,filetype='fits'):\n",
    "    field = obj['subfield'].lower()\n",
    "    id    = str(obj['ID']).zfill(5)\n",
    "    return f\"hlsp_clear_hst_wfc3_{field}-{id}_g102-g141_v4_{prefix}.{filetype}\"\n",
    "\n",
    "\n",
    "def extract_HaHb(hdu):\n",
    "    \"\"\"\n",
    "\n",
    "    pass objs from obj_lis to extract ha hb lines\n",
    "\n",
    "    return: HDUlist with the following entry:\n",
    "\n",
    "    0 primary extension, same as original file\n",
    "\n",
    "    1 line-fit results\n",
    "\n",
    "    2 segmentation map\n",
    "\n",
    "    3 clear filter maps\n",
    "\n",
    "    4,5 Ha line map & line weight\n",
    "\n",
    "    6,7 Hb line map & line weight\n",
    "\n",
    "    \"\"\"\n",
    "    #set up a crop of 50x50 pix in the center\n",
    "    center_size = 50; shape = hdu[5].shape[0]\n",
    "    #start index: si and end index: ei\n",
    "    si = (shape - center_size) // 2; \n",
    "    ei = si + center_size\n",
    "\n",
    "    new_file = fits.HDUList()\n",
    "    #save primary extension\n",
    "    new_file.append(hdu[0])\n",
    "    #save line-fit info\n",
    "    new_file.append(hdu[1])\n",
    "    \"\"\"\n",
    "    select segmentation map [4]\n",
    "    also save 1 DSCI image for comparison [5]\n",
    "    \"\"\"\n",
    "    for i in [4,5]: \n",
    "        hdu[i].data = hdu[i].data[si:ei,si:ei]\n",
    "        new_file.append(hdu[i])\n",
    "\n",
    "    #loop to select ha hb line maps\n",
    "    for image in hdu:\n",
    "        if image.header.get('EXTTYPE') in ['Ha','Hb'] and (image.name == 'LINE' or image.name == 'LINEWHT'):\n",
    "            image.data = image.data[si:ei,si:ei]\n",
    "            image.name = f\"{image.name}_{image.header['EXTTYPE']}\"\n",
    "            new_file.append(image)\n",
    "    return new_file\n",
    "\n",
    "\n",
    "def data_process(obj):\n",
    "    try:\n",
    "        path_data_product   = f\"data_products/{file_name(obj,'full')}\"\n",
    "        path_data_extracted = f\"data_extracted/{file_name(obj,'extracted')}\"\n",
    "\n",
    "        need_update_from_data_products = True\n",
    "        need_save_file = True\n",
    "\n",
    "        with fits.open(path_data_product) as hdu:\n",
    "            extracted = extract_HaHb(hdu)\n",
    "\n",
    "        #this part still needs psf matching---------\n",
    "        \n",
    "        #save file\n",
    "            extracted.writeto(path_data_extracted,overwrite=True)\n",
    "        return f\"{obj['subfield']}-{obj['ID']} saved\"\n",
    "\n",
    "    except Exception as e:\n",
    "            return f\"! {obj['subfield']}-{obj['ID']} failed, error:{e}\"\n",
    "\n",
    "\n",
    "from concurrent.futures import ThreadPoolExecutor, as_completed\n",
    "def main():\n",
    "    os.makedirs('data_extracted',exist_ok=True)\n",
    "    obj_lis = Table.read('obj_lis_selected.fits')\n",
    "    results = []\n",
    "    max_threads= 7\n",
    "    if max_threads > 1:\n",
    "        with ThreadPoolExecutor(max_threads) as executor:\n",
    "            futures = {executor.submit(data_process,obj):obj for obj in obj_lis}\n",
    "            for future in tqdm(as_completed(futures), total=len(obj_lis), desc=\"Processing\"):\n",
    "                results.append(future.result())\n",
    "    else:\n",
    "        for obj in tqdm(obj_lis):\n",
    "            results.append(data_process(obj))\n",
    "            \n",
    "    for result in results:\n",
    "        if 'error' in result:\n",
    "            number +=1\n",
    "            print(result)\n",
    "    print('total number of obj processed:',len(results))\n",
    "    print('number of failed obj',number)\n",
    "\n",
    "if __name__ == '__main__':\n",
    "    main()\n"
   ]
  },
  {
   "cell_type": "markdown",
   "metadata": {},
   "source": []
  }
 ],
 "metadata": {
  "kernelspec": {
   "display_name": "base",
   "language": "python",
   "name": "python3"
  },
  "language_info": {
   "codemirror_mode": {
    "name": "ipython",
    "version": 3
   },
   "file_extension": ".py",
   "mimetype": "text/x-python",
   "name": "python",
   "nbconvert_exporter": "python",
   "pygments_lexer": "ipython3",
   "version": "3.9.12"
  }
 },
 "nbformat": 4,
 "nbformat_minor": 2
}
