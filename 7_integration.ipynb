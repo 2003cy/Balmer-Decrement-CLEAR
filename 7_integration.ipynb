{
 "cells": [
  {
   "cell_type": "markdown",
   "metadata": {},
   "source": [
    "## In this part, i'll try to integrate images together using the binning info.\n",
    "\n",
    "I'll also try to use galfit to get an effective radius and psf reduction."
   ]
  },
  {
   "cell_type": "markdown",
   "metadata": {},
   "source": []
  },
  {
   "cell_type": "code",
   "execution_count": 5,
   "metadata": {},
   "outputs": [
    {
     "ename": "IndentationError",
     "evalue": "expected an indented block (2111049895.py, line 24)",
     "output_type": "error",
     "traceback": [
      "\u001b[1;36m  Input \u001b[1;32mIn [5]\u001b[1;36m\u001b[0m\n\u001b[1;33m    with fits.open(path) as hdu:\u001b[0m\n\u001b[1;37m                                ^\u001b[0m\n\u001b[1;31mIndentationError\u001b[0m\u001b[1;31m:\u001b[0m expected an indented block\n"
     ]
    }
   ],
   "source": [
    "from astropy.io import fits\n",
    "from   astropy.table import Table\n",
    "import matplotlib.pyplot as plt\n",
    "import numpy as np\n",
    "\n",
    "def file_name(obj,prefix,filetype='fits'):\n",
    "    field = obj['subfield'].lower()\n",
    "    id    = str(obj['ID']).zfill(5)\n",
    "    return f\"hlsp_clear_hst_wfc3_{field}-{id}_g102-g141_v4_{prefix}.{filetype}\"\n",
    "\n",
    "def find_data(name,hdu):\n",
    "    for i,image in enumerate(hdu):\n",
    "        if name == image.name:\n",
    "            return i,image\n",
    "\n",
    "bin_label_m = ['8<logm<9.75','9.75<logm<10.5','10.5<logm<11.25']\n",
    "bin_label_z = ['0.7<z<1.1','1.1<z<1.5']\n",
    "obj_lis = Table.read('obj_lis_selected_bins.fits')\n",
    "\n",
    "select = np.logical_and(np.logical_and(obj_lis['tag']!='agn',obj_lis['manual_select']=='keep'),obj_lis['mass']>0)\n",
    "\n",
    "#integration\n",
    "def get_ha_hb(obj):\n",
    "        path = f\"data_extracted/{file_name(obj,prefix='extracted')}\"\n",
    "        with fits.open(path) as hdu:\n",
    "            ha = find_data('LINE_HA',hdu)[1].data\n",
    "            hb = find_data('LINE_HB',hdu)[1].data\n",
    "\n"
   ]
  },
  {
   "cell_type": "code",
   "execution_count": null,
   "metadata": {},
   "outputs": [],
   "source": []
  }
 ],
 "metadata": {
  "kernelspec": {
   "display_name": "base",
   "language": "python",
   "name": "python3"
  },
  "language_info": {
   "codemirror_mode": {
    "name": "ipython",
    "version": 3
   },
   "file_extension": ".py",
   "mimetype": "text/x-python",
   "name": "python",
   "nbconvert_exporter": "python",
   "pygments_lexer": "ipython3",
   "version": "3.9.12"
  }
 },
 "nbformat": 4,
 "nbformat_minor": 2
}
